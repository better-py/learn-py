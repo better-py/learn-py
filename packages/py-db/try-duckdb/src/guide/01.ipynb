{
 "cells": [
  {
   "cell_type": "markdown",
   "metadata": {},
   "source": [
    "# Executing SQL in Python\n",
    "\n",
    "## References\n",
    "\n",
    "- https://duckdb.org/docs/stable/guides/python/execute_sql"
   ]
  },
  {
   "cell_type": "code",
   "execution_count": 1,
   "metadata": {},
   "outputs": [
    {
     "name": "stdout",
     "output_type": "stream",
     "text": [
      "┌───────┐\n",
      "│  42   │\n",
      "│ int32 │\n",
      "├───────┤\n",
      "│    42 │\n",
      "└───────┘\n",
      "\n"
     ]
    }
   ],
   "source": [
    "import duckdb\n",
    "\n",
    "duckdb.sql(\"SELECT 42\").show()"
   ]
  },
  {
   "cell_type": "code",
   "execution_count": 2,
   "metadata": {},
   "outputs": [
    {
     "name": "stdout",
     "output_type": "stream",
     "text": [
      "[(42,)]\n"
     ]
    }
   ],
   "source": [
    "results = duckdb.sql(\"SELECT 42\").fetchall()\n",
    "print(results)"
   ]
  },
  {
   "cell_type": "code",
   "execution_count": null,
   "metadata": {},
   "outputs": [
    {
     "data": {
      "text/html": [
       "<div>\n",
       "<style scoped>\n",
       "    .dataframe tbody tr th:only-of-type {\n",
       "        vertical-align: middle;\n",
       "    }\n",
       "\n",
       "    .dataframe tbody tr th {\n",
       "        vertical-align: top;\n",
       "    }\n",
       "\n",
       "    .dataframe thead th {\n",
       "        text-align: right;\n",
       "    }\n",
       "</style>\n",
       "<table border=\"1\" class=\"dataframe\">\n",
       "  <thead>\n",
       "    <tr style=\"text-align: right;\">\n",
       "      <th></th>\n",
       "      <th>42</th>\n",
       "    </tr>\n",
       "  </thead>\n",
       "  <tbody>\n",
       "    <tr>\n",
       "      <th>0</th>\n",
       "      <td>42</td>\n",
       "    </tr>\n",
       "  </tbody>\n",
       "</table>\n",
       "</div>"
      ],
      "text/plain": [
       "   42\n",
       "0  42"
      ]
     },
     "execution_count": 4,
     "metadata": {},
     "output_type": "execute_result"
    }
   ],
   "source": [
    "results = duckdb.sql(\"SELECT 42\").df()\n",
    "results"
   ]
  },
  {
   "cell_type": "code",
   "execution_count": null,
   "metadata": {},
   "outputs": [
    {
     "name": "stdout",
     "output_type": "stream",
     "text": [
      "┌───────┐\n",
      "│   i   │\n",
      "│ int32 │\n",
      "├───────┤\n",
      "│    42 │\n",
      "│    42 │\n",
      "│    42 │\n",
      "└───────┘\n",
      "\n"
     ]
    }
   ],
   "source": [
    "import duckdb\n",
    "import os\n",
    "\n",
    "\n",
    "# 判断 tmp folder 是否存在， 如果不存在， 创建\n",
    "if not os.path.exists(\"tmp/\"):\n",
    "    os.mkdir(\"tmp/\")\n",
    "\n",
    "# 连接到 tmp/file.db\n",
    "con = duckdb.connect(\"tmp/file.db\")\n",
    "\n",
    "# 表如果不存在， 创建 table\n",
    "con.sql(\"CREATE TABLE IF NOT EXISTS integers (i INTEGER)\")\n",
    "\n",
    "# 插入数据\n",
    "con.sql(\"INSERT INTO integers VALUES (42)\")\n",
    "\n",
    "# 查询\n",
    "con.sql(\"SELECT * FROM integers\").show()"
   ]
  }
 ],
 "metadata": {
  "kernelspec": {
   "display_name": ".venv",
   "language": "python",
   "name": "python3"
  },
  "language_info": {
   "codemirror_mode": {
    "name": "ipython",
    "version": 3
   },
   "file_extension": ".py",
   "mimetype": "text/x-python",
   "name": "python",
   "nbconvert_exporter": "python",
   "pygments_lexer": "ipython3",
   "version": "3.12.7"
  }
 },
 "nbformat": 4,
 "nbformat_minor": 2
}
