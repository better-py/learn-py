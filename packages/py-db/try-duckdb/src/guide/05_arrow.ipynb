{
 "cells": [
  {
   "cell_type": "markdown",
   "metadata": {},
   "source": [
    "# SQL on Apache Arrow\n",
    "\n",
    "## References\n",
    "\n",
    "- https://duckdb.org/docs/stable/guides/python/sql_on_arrow\n",
    "- https://duckdb.org/docs/stable/guides/python/import_arrow\n",
    "- https://duckdb.org/docs/stable/guides/python/export_arrow"
   ]
  },
  {
   "cell_type": "code",
   "execution_count": 8,
   "metadata": {},
   "outputs": [
    {
     "name": "stdout",
     "output_type": "stream",
     "text": [
      "┌───────┬─────────┐\n",
      "│   i   │    j    │\n",
      "│ int64 │ varchar │\n",
      "├───────┼─────────┤\n",
      "│     2 │ two     │\n",
      "└───────┴─────────┘\n",
      "\n"
     ]
    },
    {
     "data": {
      "text/plain": [
       "pyarrow.Table\n",
       "i: int64\n",
       "j: string\n",
       "----\n",
       "i: [[2]]\n",
       "j: [[\"two\"]]"
      ]
     },
     "execution_count": 8,
     "metadata": {},
     "output_type": "execute_result"
    }
   ],
   "source": [
    "import duckdb\n",
    "import pyarrow as pa\n",
    "\n",
    "# connect to an in-memory database\n",
    "con = duckdb.connect()\n",
    "\n",
    "my_arrow_table = pa.Table.from_pydict(\n",
    "    {\"i\": [1, 2, 3, 4], \"j\": [\"one\", \"two\", \"three\", \"four\"]}\n",
    ")\n",
    "\n",
    "# query the Apache Arrow Table \"my_arrow_table\" and return as an Arrow Table\n",
    "# results = con.execute(\"SELECT * FROM my_arrow_table WHERE i = 2\").arrow()\n",
    "\n",
    "ret = con.sql(\"SELECT * FROM my_arrow_table WHERE i = 2\")\n",
    "\n",
    "ret.show()\n",
    "\n",
    "ret.arrow()"
   ]
  },
  {
   "cell_type": "code",
   "execution_count": null,
   "metadata": {},
   "outputs": [
    {
     "name": "stdout",
     "output_type": "stream",
     "text": [
      "┌───────┬─────────┐\n",
      "│   i   │    j    │\n",
      "│ int64 │ varchar │\n",
      "├───────┼─────────┤\n",
      "│     2 │ two     │\n",
      "│     2 │ two     │\n",
      "└───────┴─────────┘\n",
      "\n"
     ]
    },
    {
     "data": {
      "text/plain": [
       "pyarrow.Table\n",
       "i: int64\n",
       "j: string\n",
       "----\n",
       "i: [[2,2]]\n",
       "j: [[\"two\",\"two\"]]"
      ]
     },
     "execution_count": 10,
     "metadata": {},
     "output_type": "execute_result"
    }
   ],
   "source": [
    "import duckdb\n",
    "import pyarrow as pa\n",
    "import tempfile\n",
    "import pathlib\n",
    "import pyarrow.parquet as pq\n",
    "import pyarrow.dataset as ds\n",
    "\n",
    "# connect to an in-memory database\n",
    "con = duckdb.connect()\n",
    "\n",
    "my_arrow_table = pa.Table.from_pydict(\n",
    "    {\"i\": [1, 2, 3, 4], \"j\": [\"one\", \"two\", \"three\", \"four\"]}\n",
    ")\n",
    "\n",
    "# create example Parquet files and save in a folder\n",
    "base_path = pathlib.Path(tempfile.gettempdir())\n",
    "(base_path / \"parquet_folder\").mkdir(exist_ok=True)\n",
    "\n",
    "\n",
    "pq.write_to_dataset(my_arrow_table, str(base_path / \"parquet_folder\"))\n",
    "\n",
    "# link to Parquet files using an Arrow Dataset\n",
    "my_arrow_dataset = ds.dataset(str(base_path / \"parquet_folder/\"))\n",
    "\n",
    "# query the Apache Arrow Dataset \"my_arrow_dataset\" and return as an Arrow Table\n",
    "# results = con.execute(\"SELECT * FROM my_arrow_dataset WHERE i = 2\").arrow()\n",
    "ret = con.sql(\"SELECT * FROM my_arrow_dataset WHERE i = 2\")\n",
    "\n",
    "ret.show()\n",
    "\n",
    "ret.arrow()"
   ]
  },
  {
   "cell_type": "code",
   "execution_count": 11,
   "metadata": {},
   "outputs": [
    {
     "name": "stdout",
     "output_type": "stream",
     "text": [
      "┌───────┬─────────┐\n",
      "│   i   │    j    │\n",
      "│ int64 │ varchar │\n",
      "├───────┼─────────┤\n",
      "│     2 │ two     │\n",
      "│     2 │ two     │\n",
      "│     2 │ two     │\n",
      "└───────┴─────────┘\n",
      "\n"
     ]
    },
    {
     "data": {
      "text/plain": [
       "pyarrow.Table\n",
       "i: int64\n",
       "j: string\n",
       "----\n",
       "i: [[2,2,2]]\n",
       "j: [[\"two\",\"two\",\"two\"]]"
      ]
     },
     "execution_count": 11,
     "metadata": {},
     "output_type": "execute_result"
    }
   ],
   "source": [
    "import duckdb\n",
    "import pyarrow as pa\n",
    "import tempfile\n",
    "import pathlib\n",
    "import pyarrow.parquet as pq\n",
    "import pyarrow.dataset as ds\n",
    "import pyarrow.compute as pc\n",
    "\n",
    "# connect to an in-memory database\n",
    "con = duckdb.connect()\n",
    "\n",
    "my_arrow_table = pa.Table.from_pydict(\n",
    "    {\"i\": [1, 2, 3, 4], \"j\": [\"one\", \"two\", \"three\", \"four\"]}\n",
    ")\n",
    "\n",
    "# create example Parquet files and save in a folder\n",
    "base_path = pathlib.Path(tempfile.gettempdir())\n",
    "(base_path / \"parquet_folder\").mkdir(exist_ok=True)\n",
    "pq.write_to_dataset(my_arrow_table, str(base_path / \"parquet_folder\"))\n",
    "\n",
    "# link to Parquet files using an Arrow Dataset\n",
    "my_arrow_dataset = ds.dataset(str(base_path / \"parquet_folder/\"))\n",
    "\n",
    "# define the filter to be applied while scanning\n",
    "# equivalent to \"WHERE i = 2\"\n",
    "scanner_filter = pc.field(\"i\") == pc.scalar(2)\n",
    "\n",
    "arrow_scanner = ds.Scanner.from_dataset(my_arrow_dataset, filter=scanner_filter)\n",
    "\n",
    "# query the Apache Arrow scanner \"arrow_scanner\" and return as an Arrow Table\n",
    "# results = con.execute(\"SELECT * FROM arrow_scanner\").arrow()\n",
    "ret = con.sql(\"SELECT * FROM arrow_scanner\")\n",
    "\n",
    "ret.show()\n",
    "\n",
    "ret.arrow()"
   ]
  },
  {
   "cell_type": "code",
   "execution_count": null,
   "metadata": {},
   "outputs": [
    {
     "name": "stdout",
     "output_type": "stream",
     "text": [
      "┌───────┬─────────┐\n",
      "│   i   │    j    │\n",
      "│ int64 │ varchar │\n",
      "├───────┼─────────┤\n",
      "│     2 │ two     │\n",
      "└───────┴─────────┘\n",
      "\n"
     ]
    },
    {
     "data": {
      "text/plain": [
       "pyarrow.Table\n",
       "i: int64\n",
       "j: string\n",
       "----\n",
       "i: []\n",
       "j: []"
      ]
     },
     "execution_count": 15,
     "metadata": {},
     "output_type": "execute_result"
    }
   ],
   "source": [
    "import duckdb\n",
    "import pyarrow as pa\n",
    "\n",
    "# connect to an in-memory database\n",
    "con = duckdb.connect()\n",
    "\n",
    "my_recordbatch = pa.RecordBatch.from_pydict(\n",
    "    {\"i\": [1, 2, 3, 4], \"j\": [\"one\", \"two\", \"three\", \"four\"]}\n",
    ")\n",
    "\n",
    "my_recordbatchreader = pa.ipc.RecordBatchReader.from_batches(\n",
    "    my_recordbatch.schema, [my_recordbatch]\n",
    ")\n",
    "\n",
    "# query the Apache Arrow RecordBatchReader \"my_recordbatchreader\" and return as an Arrow Table\n",
    "# results = con.execute(\"SELECT * FROM my_recordbatchreader WHERE i = 2\").arrow()\n",
    "ret = con.sql(\"SELECT * FROM my_recordbatchreader WHERE i = 2\")\n",
    "\n",
    "ret.show()\n",
    "\n",
    "ret.arrow()"
   ]
  },
  {
   "cell_type": "code",
   "execution_count": 24,
   "metadata": {},
   "outputs": [
    {
     "data": {
      "text/html": [
       "<div>\n",
       "<style scoped>\n",
       "    .dataframe tbody tr th:only-of-type {\n",
       "        vertical-align: middle;\n",
       "    }\n",
       "\n",
       "    .dataframe tbody tr th {\n",
       "        vertical-align: top;\n",
       "    }\n",
       "\n",
       "    .dataframe thead th {\n",
       "        text-align: right;\n",
       "    }\n",
       "</style>\n",
       "<table border=\"1\" class=\"dataframe\">\n",
       "  <thead>\n",
       "    <tr style=\"text-align: right;\">\n",
       "      <th></th>\n",
       "      <th>a</th>\n",
       "    </tr>\n",
       "  </thead>\n",
       "  <tbody>\n",
       "    <tr>\n",
       "      <th>0</th>\n",
       "      <td>42</td>\n",
       "    </tr>\n",
       "    <tr>\n",
       "      <th>1</th>\n",
       "      <td>42</td>\n",
       "    </tr>\n",
       "  </tbody>\n",
       "</table>\n",
       "</div>"
      ],
      "text/plain": [
       "    a\n",
       "0  42\n",
       "1  42"
      ]
     },
     "execution_count": 24,
     "metadata": {},
     "output_type": "execute_result"
    }
   ],
   "source": [
    "import duckdb\n",
    "import pyarrow as pa\n",
    "\n",
    "# connect to an in-memory database\n",
    "my_arrow = pa.Table.from_pydict({\"a\": [42]})\n",
    "\n",
    "\n",
    "con = duckdb.connect(\":memory:\")\n",
    "\n",
    "# create the table \"my_table\" from the DataFrame \"my_arrow\"\n",
    "con.sql(\"CREATE TABLE IF NOT EXISTS my_table AS SELECT * FROM my_arrow\")\n",
    "\n",
    "# insert into the table \"my_table\" from the DataFrame \"my_arrow\"\n",
    "con.sql(\"INSERT INTO my_table SELECT * FROM my_arrow\")\n",
    "\n",
    "\n",
    "ret = con.sql(\"SELECT * FROM my_table\")\n",
    "ret.df()"
   ]
  },
  {
   "cell_type": "code",
   "execution_count": 26,
   "metadata": {},
   "outputs": [
    {
     "name": "stdout",
     "output_type": "stream",
     "text": [
      "┌───────┬─────────┐\n",
      "│   i   │    j    │\n",
      "│ int64 │ varchar │\n",
      "├───────┼─────────┤\n",
      "│     1 │ one     │\n",
      "│     2 │ two     │\n",
      "│     3 │ three   │\n",
      "│     4 │ four    │\n",
      "└───────┴─────────┘\n",
      "\n"
     ]
    },
    {
     "data": {
      "text/plain": [
       "pyarrow.Table\n",
       "i: int64\n",
       "j: string\n",
       "----\n",
       "i: [[1,2,3,4]]\n",
       "j: [[\"one\",\"two\",\"three\",\"four\"]]"
      ]
     },
     "execution_count": 26,
     "metadata": {},
     "output_type": "execute_result"
    }
   ],
   "source": [
    "import duckdb\n",
    "import pyarrow as pa\n",
    "\n",
    "my_arrow_table = pa.Table.from_pydict(\n",
    "    {\"i\": [1, 2, 3, 4], \"j\": [\"one\", \"two\", \"three\", \"four\"]}\n",
    ")\n",
    "\n",
    "# query the Apache Arrow Table \"my_arrow_table\" and return as an Arrow Table\n",
    "# results = duckdb.sql(\"SELECT * FROM my_arrow_table\").arrow()\n",
    "ret = duckdb.sql(\"SELECT * FROM my_arrow_table\")\n",
    "\n",
    "ret.show()\n",
    "\n",
    "ret.arrow()"
   ]
  },
  {
   "cell_type": "code",
   "execution_count": null,
   "metadata": {},
   "outputs": [],
   "source": [
    "import duckdb\n",
    "import pyarrow as pa\n",
    "\n",
    "my_arrow_table = pa.Table.from_pydict(\n",
    "    {\"i\": [1, 2, 3, 4], \"j\": [\"one\", \"two\", \"three\", \"four\"]}\n",
    ")\n",
    "\n",
    "# query the Apache Arrow Table \"my_arrow_table\" and return as an Arrow RecordBatchReader\n",
    "chunk_size = 1_000_000\n",
    "results = duckdb.sql(\"SELECT * FROM my_arrow_table\").fetch_record_batch(chunk_size)\n",
    "\n",
    "\n",
    "# Loop through the results. A StopIteration exception is thrown when the RecordBatchReader is empty\n",
    "while True:\n",
    "    try:\n",
    "        # Process a single chunk here (just printing as an example)\n",
    "        print(results.read_next_batch().to_pandas())\n",
    "    except StopIteration:\n",
    "        print(\"Already fetched all batches\")\n",
    "        break"
   ]
  },
  {
   "cell_type": "code",
   "execution_count": 31,
   "metadata": {},
   "outputs": [
    {
     "name": "stdout",
     "output_type": "stream",
     "text": [
      "┌────────┐\n",
      "│ sum(i) │\n",
      "│ int128 │\n",
      "├────────┤\n",
      "│     45 │\n",
      "└────────┘\n",
      "\n"
     ]
    },
    {
     "data": {
      "text/plain": [
       "pyarrow.Table\n",
       "sum(i): decimal128(38, 0)\n",
       "----\n",
       "sum(i): [[45]]"
      ]
     },
     "execution_count": 31,
     "metadata": {},
     "output_type": "execute_result"
    }
   ],
   "source": [
    "import duckdb\n",
    "\n",
    "# connect to an in-memory database\n",
    "con = duckdb.connect()\n",
    "\n",
    "con.execute(\"CREATE TABLE integers (i integer)\")\n",
    "con.execute(\n",
    "    \"INSERT INTO integers VALUES (0), (1), (2), (3), (4), (5), (6), (7), (8), (9), (NULL)\"\n",
    ")\n",
    "\n",
    "# Create a relation from the table and export the entire relation as Arrow\n",
    "rel = con.table(\"integers\")\n",
    "relation_as_arrow = rel.arrow()  # or .to_arrow_table()\n",
    "\n",
    "# Or, calculate a result using that relation and export that result to Arrow\n",
    "res = rel.aggregate(\"sum(i)\").execute()\n",
    "\n",
    "res.show()\n",
    "\n",
    "res.arrow()  # or fetch_arrow_table()"
   ]
  }
 ],
 "metadata": {
  "kernelspec": {
   "display_name": ".venv",
   "language": "python",
   "name": "python3"
  },
  "language_info": {
   "codemirror_mode": {
    "name": "ipython",
    "version": 3
   },
   "file_extension": ".py",
   "mimetype": "text/x-python",
   "name": "python",
   "nbconvert_exporter": "python",
   "pygments_lexer": "ipython3",
   "version": "3.12.7"
  }
 },
 "nbformat": 4,
 "nbformat_minor": 2
}
