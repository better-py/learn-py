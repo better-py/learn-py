{
 "cells": [
  {
   "cell_type": "markdown",
   "metadata": {},
   "source": [
    "# numpy\n",
    "\n",
    "## References\n",
    "\n",
    "- https://duckdb.org/docs/stable/guides/python/import_numpy"
   ]
  },
  {
   "cell_type": "code",
   "execution_count": null,
   "metadata": {},
   "outputs": [],
   "source": []
  },
  {
   "cell_type": "code",
   "execution_count": 4,
   "metadata": {},
   "outputs": [
    {
     "name": "stdout",
     "output_type": "stream",
     "text": [
      "┌─────────┬─────────┬─────────┐\n",
      "│ column0 │ column1 │ column2 │\n",
      "│ double  │ double  │ double  │\n",
      "├─────────┼─────────┼─────────┤\n",
      "│     1.0 │     2.0 │     3.0 │\n",
      "│     9.0 │     8.0 │     7.0 │\n",
      "└─────────┴─────────┴─────────┘\n",
      "\n"
     ]
    },
    {
     "data": {
      "text/html": [
       "<div>\n",
       "<style scoped>\n",
       "    .dataframe tbody tr th:only-of-type {\n",
       "        vertical-align: middle;\n",
       "    }\n",
       "\n",
       "    .dataframe tbody tr th {\n",
       "        vertical-align: top;\n",
       "    }\n",
       "\n",
       "    .dataframe thead th {\n",
       "        text-align: right;\n",
       "    }\n",
       "</style>\n",
       "<table border=\"1\" class=\"dataframe\">\n",
       "  <thead>\n",
       "    <tr style=\"text-align: right;\">\n",
       "      <th></th>\n",
       "      <th>column0</th>\n",
       "      <th>column1</th>\n",
       "      <th>column2</th>\n",
       "    </tr>\n",
       "  </thead>\n",
       "  <tbody>\n",
       "    <tr>\n",
       "      <th>0</th>\n",
       "      <td>1.0</td>\n",
       "      <td>2.0</td>\n",
       "      <td>3.0</td>\n",
       "    </tr>\n",
       "    <tr>\n",
       "      <th>1</th>\n",
       "      <td>9.0</td>\n",
       "      <td>8.0</td>\n",
       "      <td>7.0</td>\n",
       "    </tr>\n",
       "  </tbody>\n",
       "</table>\n",
       "</div>"
      ],
      "text/plain": [
       "   column0  column1  column2\n",
       "0      1.0      2.0      3.0\n",
       "1      9.0      8.0      7.0"
      ]
     },
     "execution_count": 4,
     "metadata": {},
     "output_type": "execute_result"
    }
   ],
   "source": [
    "import duckdb\n",
    "import numpy as np\n",
    "\n",
    "my_arr = np.array([(1, 9.0), (2, 8.0), (3, 7.0)])\n",
    "\n",
    "ret = duckdb.sql(\"SELECT * FROM my_arr\")\n",
    "\n",
    "ret.show()\n",
    "\n",
    "ret.df()"
   ]
  },
  {
   "cell_type": "code",
   "execution_count": 9,
   "metadata": {},
   "outputs": [
    {
     "name": "stdout",
     "output_type": "stream",
     "text": [
      "{'x': array([1, 2, 3], dtype=int32), 'y': array([5., 5., 5.])}\n",
      "┌───────┬──────────────┐\n",
      "│   x   │      y       │\n",
      "│ int32 │ decimal(2,1) │\n",
      "├───────┼──────────────┤\n",
      "│     1 │          5.0 │\n",
      "│     2 │          5.0 │\n",
      "│     3 │          5.0 │\n",
      "└───────┴──────────────┘\n",
      "\n"
     ]
    }
   ],
   "source": [
    "import duckdb\n",
    "import numpy as np\n",
    "\n",
    "\n",
    "ret = duckdb.sql(\"SELECT unnest([1, 2, 3]) AS x, 5.0 AS y\")\n",
    "\n",
    "print(ret.fetchnumpy())\n",
    "\n",
    "\n",
    "ret.show()"
   ]
  }
 ],
 "metadata": {
  "kernelspec": {
   "display_name": ".venv",
   "language": "python",
   "name": "python3"
  },
  "language_info": {
   "codemirror_mode": {
    "name": "ipython",
    "version": 3
   },
   "file_extension": ".py",
   "mimetype": "text/x-python",
   "name": "python",
   "nbconvert_exporter": "python",
   "pygments_lexer": "ipython3",
   "version": "3.12.7"
  }
 },
 "nbformat": 4,
 "nbformat_minor": 2
}
