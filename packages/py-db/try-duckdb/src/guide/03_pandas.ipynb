{
 "cells": [
  {
   "cell_type": "markdown",
   "metadata": {},
   "source": [
    "# SQL on Pandas\n",
    "\n",
    "\n",
    "## References\n",
    "\n",
    "- https://duckdb.org/docs/stable/guides/python/sql_on_pandas\n",
    "- https://duckdb.org/docs/stable/guides/python/import_pandas\n",
    "- https://duckdb.org/docs/stable/guides/python/export_pandas\n",
    "- https://duckdb.org/docs/stable/guides/python/relational_api_pandas"
   ]
  },
  {
   "cell_type": "code",
   "execution_count": 2,
   "metadata": {},
   "outputs": [
    {
     "data": {
      "text/html": [
       "<div>\n",
       "<style scoped>\n",
       "    .dataframe tbody tr th:only-of-type {\n",
       "        vertical-align: middle;\n",
       "    }\n",
       "\n",
       "    .dataframe tbody tr th {\n",
       "        vertical-align: top;\n",
       "    }\n",
       "\n",
       "    .dataframe thead th {\n",
       "        text-align: right;\n",
       "    }\n",
       "</style>\n",
       "<table border=\"1\" class=\"dataframe\">\n",
       "  <thead>\n",
       "    <tr style=\"text-align: right;\">\n",
       "      <th></th>\n",
       "      <th>a</th>\n",
       "    </tr>\n",
       "  </thead>\n",
       "  <tbody>\n",
       "    <tr>\n",
       "      <th>0</th>\n",
       "      <td>42</td>\n",
       "    </tr>\n",
       "  </tbody>\n",
       "</table>\n",
       "</div>"
      ],
      "text/plain": [
       "    a\n",
       "0  42"
      ]
     },
     "execution_count": 2,
     "metadata": {},
     "output_type": "execute_result"
    }
   ],
   "source": [
    "import duckdb\n",
    "import pandas\n",
    "\n",
    "# Create a Pandas dataframe\n",
    "my_df = pandas.DataFrame.from_dict({\"a\": [42]})\n",
    "\n",
    "# query the Pandas DataFrame \"my_df\"\n",
    "# Note: duckdb.sql connects to the default in-memory database connection\n",
    "results = duckdb.sql(\"SELECT * FROM my_df\").df()\n",
    "results"
   ]
  },
  {
   "cell_type": "code",
   "execution_count": 7,
   "metadata": {},
   "outputs": [
    {
     "name": "stdout",
     "output_type": "stream",
     "text": [
      "┌───────┐\n",
      "│   a   │\n",
      "│ int64 │\n",
      "├───────┤\n",
      "│    42 │\n",
      "│    42 │\n",
      "│    42 │\n",
      "│    42 │\n",
      "│    42 │\n",
      "└───────┘\n",
      "\n"
     ]
    }
   ],
   "source": [
    "import duckdb\n",
    "import pandas\n",
    "\n",
    "# Create a Pandas dataframe\n",
    "my_df = pandas.DataFrame.from_dict({\"a\": [42]})\n",
    "\n",
    "# create the table \"my_table\" from the DataFrame \"my_df\"\n",
    "# Note: duckdb.sql connects to the default in-memory database connection\n",
    "duckdb.sql(\"CREATE TABLE IF NOT EXISTS my_table AS SELECT * FROM my_df\")\n",
    "\n",
    "# insert into the table \"my_table\" from the DataFrame \"my_df\"\n",
    "duckdb.sql(\"INSERT INTO my_table SELECT * FROM my_df\")\n",
    "\n",
    "duckdb.sql(\"INSERT INTO my_table BY NAME SELECT * FROM my_df\")\n",
    "\n",
    "# query the table \"my_table\"\n",
    "duckdb.sql(\"SELECT * FROM my_table\").show()"
   ]
  },
  {
   "cell_type": "code",
   "execution_count": null,
   "metadata": {},
   "outputs": [
    {
     "data": {
      "text/html": [
       "<div>\n",
       "<style scoped>\n",
       "    .dataframe tbody tr th:only-of-type {\n",
       "        vertical-align: middle;\n",
       "    }\n",
       "\n",
       "    .dataframe tbody tr th {\n",
       "        vertical-align: top;\n",
       "    }\n",
       "\n",
       "    .dataframe thead th {\n",
       "        text-align: right;\n",
       "    }\n",
       "</style>\n",
       "<table border=\"1\" class=\"dataframe\">\n",
       "  <thead>\n",
       "    <tr style=\"text-align: right;\">\n",
       "      <th></th>\n",
       "      <th>42</th>\n",
       "    </tr>\n",
       "  </thead>\n",
       "  <tbody>\n",
       "    <tr>\n",
       "      <th>0</th>\n",
       "      <td>42</td>\n",
       "    </tr>\n",
       "  </tbody>\n",
       "</table>\n",
       "</div>"
      ],
      "text/plain": [
       "   42\n",
       "0  42"
      ]
     },
     "execution_count": 8,
     "metadata": {},
     "output_type": "execute_result"
    }
   ],
   "source": [
    "import duckdb\n",
    "\n",
    "# https://duckdb.org/docs/stable/guides/python/export_pandas\n",
    "# read the result of an arbitrary SQL query to a Pandas DataFrame\n",
    "results = duckdb.sql(\"SELECT 42\").df()\n",
    "results"
   ]
  },
  {
   "cell_type": "code",
   "execution_count": null,
   "metadata": {},
   "outputs": [
    {
     "name": "stdout",
     "output_type": "stream",
     "text": [
      "┌───────┬─────────┐\n",
      "│   i   │    j    │\n",
      "│ int64 │ varchar │\n",
      "├───────┼─────────┤\n",
      "│     1 │ one     │\n",
      "│     2 │ two     │\n",
      "│     3 │ three   │\n",
      "│     4 │ four    │\n",
      "└───────┴─────────┘\n",
      "\n"
     ]
    },
    {
     "data": {
      "text/html": [
       "<div>\n",
       "<style scoped>\n",
       "    .dataframe tbody tr th:only-of-type {\n",
       "        vertical-align: middle;\n",
       "    }\n",
       "\n",
       "    .dataframe tbody tr th {\n",
       "        vertical-align: top;\n",
       "    }\n",
       "\n",
       "    .dataframe thead th {\n",
       "        text-align: right;\n",
       "    }\n",
       "</style>\n",
       "<table border=\"1\" class=\"dataframe\">\n",
       "  <thead>\n",
       "    <tr style=\"text-align: right;\">\n",
       "      <th></th>\n",
       "      <th>i</th>\n",
       "      <th>j</th>\n",
       "      <th>two_i</th>\n",
       "    </tr>\n",
       "  </thead>\n",
       "  <tbody>\n",
       "    <tr>\n",
       "      <th>0</th>\n",
       "      <td>4</td>\n",
       "      <td>four</td>\n",
       "      <td>8</td>\n",
       "    </tr>\n",
       "    <tr>\n",
       "      <th>1</th>\n",
       "      <td>3</td>\n",
       "      <td>three</td>\n",
       "      <td>6</td>\n",
       "    </tr>\n",
       "  </tbody>\n",
       "</table>\n",
       "</div>"
      ],
      "text/plain": [
       "   i      j  two_i\n",
       "0  4   four      8\n",
       "1  3  three      6"
      ]
     },
     "execution_count": 11,
     "metadata": {},
     "output_type": "execute_result"
    }
   ],
   "source": [
    "import duckdb\n",
    "import pandas\n",
    "\n",
    "# connect to an in-memory database\n",
    "con = duckdb.connect()\n",
    "\n",
    "input_df = pandas.DataFrame.from_dict(\n",
    "    {\"i\": [1, 2, 3, 4], \"j\": [\"one\", \"two\", \"three\", \"four\"]}\n",
    ")\n",
    "\n",
    "# create a DuckDB relation from a dataframe\n",
    "rel = con.from_df(input_df)\n",
    "rel.show()\n",
    "\n",
    "# chain together relational operators (this is a lazy operation, so the operations are not yet executed)\n",
    "# equivalent to: SELECT i, j, i*2 AS two_i FROM input_df WHERE i >= 2 ORDER BY i DESC LIMIT 2\n",
    "transformed_rel = (\n",
    "    rel.filter(\"i >= 2\").project(\"i, j, i*2 AS two_i\").order(\"i DESC\").limit(2)\n",
    ")\n",
    "\n",
    "# trigger execution by requesting .df() of the relation\n",
    "# .df() could have been added to the end of the chain above - it was separated for clarity\n",
    "output_df = transformed_rel.df()\n",
    "output_df"
   ]
  }
 ],
 "metadata": {
  "kernelspec": {
   "display_name": ".venv",
   "language": "python",
   "name": "python3"
  },
  "language_info": {
   "codemirror_mode": {
    "name": "ipython",
    "version": 3
   },
   "file_extension": ".py",
   "mimetype": "text/x-python",
   "name": "python",
   "nbconvert_exporter": "python",
   "pygments_lexer": "ipython3",
   "version": "3.12.7"
  }
 },
 "nbformat": 4,
 "nbformat_minor": 2
}
