{
 "cells": [
  {
   "cell_type": "markdown",
   "metadata": {},
   "source": [
    "# 官方文档\n",
    "\n",
    "- https://duckdb.org/docs/stable/clients/python/data_ingestion"
   ]
  },
  {
   "cell_type": "code",
   "execution_count": null,
   "metadata": {},
   "outputs": [
    {
     "name": "stdout",
     "output_type": "stream",
     "text": [
      "[(1, 'one'), (2, 'two'), (3, 'three'), (4, 'four')]\n"
     ]
    }
   ],
   "source": [
    "import duckdb\n",
    "import pandas as pd\n",
    "\n",
    "test_df = pd.DataFrame.from_dict(\n",
    "    {\"i\": [1, 2, 3, 4], \"j\": [\"one\", \"two\", \"three\", \"four\"]}\n",
    ")\n",
    "print(duckdb.sql(\"SELECT * FROM test_df\").fetchall())"
   ]
  },
  {
   "cell_type": "code",
   "execution_count": 2,
   "metadata": {},
   "outputs": [
    {
     "name": "stdout",
     "output_type": "stream",
     "text": [
      "[(1, 'one'), (2, 'two'), (3, 'three'), (4, 'four')]\n"
     ]
    }
   ],
   "source": [
    "import duckdb\n",
    "import pandas as pd\n",
    "\n",
    "my_dictionary = {}\n",
    "my_dictionary[\"test_df\"] = pd.DataFrame.from_dict(\n",
    "    {\"i\": [1, 2, 3, 4], \"j\": [\"one\", \"two\", \"three\", \"four\"]}\n",
    ")\n",
    "duckdb.register(\"test_df_view\", my_dictionary[\"test_df\"])\n",
    "print(duckdb.sql(\"SELECT * FROM test_df_view\").fetchall())"
   ]
  },
  {
   "cell_type": "code",
   "execution_count": null,
   "metadata": {},
   "outputs": [],
   "source": [
    "# create a new table from the contents of a DataFrame\n",
    "con.execute(\"CREATE TABLE test_df_table AS SELECT * FROM test_df\")\n",
    "# insert into an existing table from the contents of a DataFrame\n",
    "con.execute(\"INSERT INTO test_df_table SELECT * FROM test_df\")"
   ]
  },
  {
   "cell_type": "code",
   "execution_count": 3,
   "metadata": {},
   "outputs": [
    {
     "data": {
      "text/plain": [
       "<duckdb.duckdb.DuckDBPyConnection at 0x1048197b0>"
      ]
     },
     "execution_count": 3,
     "metadata": {},
     "output_type": "execute_result"
    }
   ],
   "source": [
    "# example setting the sample size to 100k\n",
    "duckdb.execute(\"SET GLOBAL pandas_analyze_sample = 100_000\")"
   ]
  }
 ],
 "metadata": {
  "kernelspec": {
   "display_name": ".venv",
   "language": "python",
   "name": "python3"
  },
  "language_info": {
   "codemirror_mode": {
    "name": "ipython",
    "version": 3
   },
   "file_extension": ".py",
   "mimetype": "text/x-python",
   "name": "python",
   "nbconvert_exporter": "python",
   "pygments_lexer": "ipython3",
   "version": "3.12.7"
  }
 },
 "nbformat": 4,
 "nbformat_minor": 2
}
