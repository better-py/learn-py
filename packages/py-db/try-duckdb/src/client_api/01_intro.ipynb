{
 "cells": [
  {
   "cell_type": "markdown",
   "metadata": {},
   "source": [
    "# duckdb\n",
    "\n",
    "- SQLite 是 OLTP ，主要是增删改查\n",
    "- DuckDB 是 OLAP ，主要是做数据分析的\n",
    "\n",
    "\n",
    "## References\n",
    "\n",
    "- https://duckdb.org/docs/stable/clients/python/overview.html"
   ]
  },
  {
   "cell_type": "code",
   "execution_count": 2,
   "metadata": {},
   "outputs": [
    {
     "name": "stdout",
     "output_type": "stream",
     "text": [
      "┌───────┐\n",
      "│  42   │\n",
      "│ int32 │\n",
      "├───────┤\n",
      "│    42 │\n",
      "└───────┘\n",
      "\n"
     ]
    }
   ],
   "source": [
    "import duckdb\n",
    "\n",
    "duckdb.sql(\"SELECT 42\").show()"
   ]
  },
  {
   "cell_type": "code",
   "execution_count": 1,
   "metadata": {},
   "outputs": [
    {
     "name": "stdout",
     "output_type": "stream",
     "text": [
      "┌───────┐\n",
      "│   k   │\n",
      "│ int32 │\n",
      "├───────┤\n",
      "│    84 │\n",
      "└───────┘\n",
      "\n"
     ]
    }
   ],
   "source": [
    "import duckdb\n",
    "\n",
    "r1 = duckdb.sql(\"SELECT 42 AS i\")\n",
    "duckdb.sql(\"SELECT i * 2 AS k FROM r1\").show()"
   ]
  },
  {
   "cell_type": "code",
   "execution_count": 1,
   "metadata": {},
   "outputs": [
    {
     "data": {
      "text/plain": [
       "┌───────┐\n",
       "│   a   │\n",
       "│ int64 │\n",
       "├───────┤\n",
       "│    42 │\n",
       "└───────┘"
      ]
     },
     "execution_count": 1,
     "metadata": {},
     "output_type": "execute_result"
    }
   ],
   "source": [
    "import duckdb\n",
    "import pandas as pd\n",
    "\n",
    "pandas_df = pd.DataFrame({\"a\": [42]})\n",
    "duckdb.sql(\"SELECT * FROM pandas_df\")"
   ]
  },
  {
   "cell_type": "code",
   "execution_count": 1,
   "metadata": {},
   "outputs": [
    {
     "data": {
      "text/plain": [
       "┌───────┐\n",
       "│   a   │\n",
       "│ int64 │\n",
       "├───────┤\n",
       "│    42 │\n",
       "└───────┘"
      ]
     },
     "execution_count": 1,
     "metadata": {},
     "output_type": "execute_result"
    }
   ],
   "source": [
    "import duckdb\n",
    "import polars as pl\n",
    "\n",
    "polars_df = pl.DataFrame({\"a\": [42]})\n",
    "duckdb.sql(\"SELECT * FROM polars_df\")"
   ]
  },
  {
   "cell_type": "code",
   "execution_count": 2,
   "metadata": {},
   "outputs": [
    {
     "data": {
      "text/plain": [
       "┌───────┐\n",
       "│   a   │\n",
       "│ int64 │\n",
       "├───────┤\n",
       "│    42 │\n",
       "└───────┘"
      ]
     },
     "execution_count": 2,
     "metadata": {},
     "output_type": "execute_result"
    }
   ],
   "source": [
    "import duckdb\n",
    "import pyarrow as pa\n",
    "\n",
    "arrow_table = pa.Table.from_pydict({\"a\": [42]})\n",
    "duckdb.sql(\"SELECT * FROM arrow_table\")"
   ]
  },
  {
   "cell_type": "code",
   "execution_count": 4,
   "metadata": {},
   "outputs": [
    {
     "data": {
      "text/plain": [
       "{'42': array([42], dtype=int32)}"
      ]
     },
     "execution_count": 4,
     "metadata": {},
     "output_type": "execute_result"
    }
   ],
   "source": [
    "import duckdb\n",
    "\n",
    "duckdb.sql(\"SELECT 42\").fetchall()  # Python objects\n",
    "duckdb.sql(\"SELECT 42\").df()  # Pandas DataFrame\n",
    "duckdb.sql(\"SELECT 42\").pl()  # Polars DataFrame\n",
    "duckdb.sql(\"SELECT 42\").arrow()  # Arrow Table\n",
    "duckdb.sql(\"SELECT 42\").fetchnumpy()  # NumPy Arrays"
   ]
  },
  {
   "cell_type": "code",
   "execution_count": 7,
   "metadata": {},
   "outputs": [],
   "source": [
    "import os\n",
    "import duckdb\n",
    "\n",
    "# create tmp directory\n",
    "if not os.path.exists(\"tmp\"):\n",
    "    os.makedirs(\"tmp\")\n",
    "\n",
    "duckdb.sql(\"SELECT 42\").write_parquet(\"tmp/out.parquet\")  # Write to a Parquet file\n",
    "duckdb.sql(\"SELECT 42\").write_csv(\"tmp/out.csv\")  # Write to a CSV file\n",
    "duckdb.sql(\"COPY (SELECT 42) TO 'tmp/out.parquet'\")  # Copy to a Parquet file"
   ]
  },
  {
   "cell_type": "code",
   "execution_count": 8,
   "metadata": {},
   "outputs": [
    {
     "name": "stdout",
     "output_type": "stream",
     "text": [
      "┌───────┐\n",
      "│   x   │\n",
      "│ int32 │\n",
      "├───────┤\n",
      "│    42 │\n",
      "└───────┘\n",
      "\n"
     ]
    }
   ],
   "source": [
    "import duckdb\n",
    "\n",
    "con = duckdb.connect()\n",
    "con.sql(\"SELECT 42 AS x\").show()"
   ]
  },
  {
   "cell_type": "code",
   "execution_count": 9,
   "metadata": {},
   "outputs": [
    {
     "name": "stdout",
     "output_type": "stream",
     "text": [
      "┌───────┐\n",
      "│   i   │\n",
      "│ int32 │\n",
      "├───────┤\n",
      "│    42 │\n",
      "└───────┘\n",
      "\n"
     ]
    }
   ],
   "source": [
    "import duckdb\n",
    "\n",
    "# create a connection to a file called 'file.db'\n",
    "con = duckdb.connect(\"tmp/file.db\")\n",
    "# create a table and load data into it\n",
    "con.sql(\"CREATE TABLE test (i INTEGER)\")\n",
    "con.sql(\"INSERT INTO test VALUES (42)\")\n",
    "# query the table\n",
    "con.table(\"test\").show()\n",
    "# explicitly close the connection\n",
    "con.close()\n",
    "# Note: connections also closed implicitly when they go out of scope"
   ]
  },
  {
   "cell_type": "code",
   "execution_count": 11,
   "metadata": {},
   "outputs": [
    {
     "name": "stdout",
     "output_type": "stream",
     "text": [
      "┌───────┐\n",
      "│   i   │\n",
      "│ int32 │\n",
      "├───────┤\n",
      "│    42 │\n",
      "└───────┘\n",
      "\n"
     ]
    }
   ],
   "source": [
    "import duckdb\n",
    "\n",
    "with duckdb.connect(\"tmp/file2.db\") as con:\n",
    "    con.sql(\"CREATE TABLE test (i INTEGER)\")\n",
    "    con.sql(\"INSERT INTO test VALUES (42)\")\n",
    "    con.table(\"test\").show()\n",
    "    # the context manager closes the connection automatically"
   ]
  }
 ],
 "metadata": {
  "kernelspec": {
   "display_name": ".venv",
   "language": "python",
   "name": "python3"
  },
  "language_info": {
   "codemirror_mode": {
    "name": "ipython",
    "version": 3
   },
   "file_extension": ".py",
   "mimetype": "text/x-python",
   "name": "python",
   "nbconvert_exporter": "python",
   "pygments_lexer": "ipython3",
   "version": "3.12.7"
  }
 },
 "nbformat": 4,
 "nbformat_minor": 2
}
