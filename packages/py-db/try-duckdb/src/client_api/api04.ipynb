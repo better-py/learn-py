{
 "cells": [
  {
   "cell_type": "markdown",
   "metadata": {},
   "source": [
    "# client api\n",
    "\n",
    "- https://duckdb.org/docs/stable/clients/python/dbapi"
   ]
  },
  {
   "cell_type": "code",
   "execution_count": 10,
   "metadata": {},
   "outputs": [
    {
     "data": {
      "text/plain": [
       "┌───────┐\n",
       "│   a   │\n",
       "│ int32 │\n",
       "├───────┤\n",
       "│    42 │\n",
       "└───────┘"
      ]
     },
     "execution_count": 10,
     "metadata": {},
     "output_type": "execute_result"
    }
   ],
   "source": [
    "import duckdb\n",
    "\n",
    "# duckdb.execute(\"CREATE TABLE tbl AS SELECT 42 a\")\n",
    "con = duckdb.connect(\":memory:\")\n",
    "\n",
    "con.execute(\"CREATE TABLE tbl AS SELECT 42 a\")\n",
    "\n",
    "con.sql(\"SELECT * FROM tbl\")\n",
    "\n",
    "\n",
    "# or\n",
    "# duckdb.default_connection.sql(\"SELECT * FROM tbl\")"
   ]
  },
  {
   "cell_type": "code",
   "execution_count": null,
   "metadata": {},
   "outputs": [],
   "source": [
    "import duckdb\n",
    "\n",
    "# to start an in-memory database\n",
    "con = duckdb.connect(database=\":memory:\")\n",
    "\n",
    "# to use a database file (not shared between processes)\n",
    "con = duckdb.connect(database=\"my-db.duckdb\", read_only=False)\n",
    "\n",
    "# to use a database file (shared between processes)\n",
    "con = duckdb.connect(database=\"my-db.duckdb\", read_only=True)\n",
    "\n",
    "# to explicitly get the default connection\n",
    "con = duckdb.connect(database=\":default:\")"
   ]
  },
  {
   "cell_type": "code",
   "execution_count": null,
   "metadata": {},
   "outputs": [
    {
     "name": "stdout",
     "output_type": "stream",
     "text": [
      "[('jeans', Decimal('20.00'), 1), ('hammer', Decimal('42.20'), 2)]\n",
      "('jeans', Decimal('20.00'), 1)\n",
      "('hammer', Decimal('42.20'), 2)\n",
      "None\n"
     ]
    }
   ],
   "source": [
    "# create a table\n",
    "con.execute(\"CREATE TABLE items (item VARCHAR, value DECIMAL(10, 2), count INTEGER)\")\n",
    "# insert two items into the table\n",
    "con.execute(\"INSERT INTO items VALUES ('jeans', 20.0, 1), ('hammer', 42.2, 2)\")\n",
    "\n",
    "# retrieve the items again\n",
    "con.execute(\"SELECT * FROM items\")\n",
    "print(con.fetchall())\n",
    "# [('jeans', Decimal('20.00'), 1), ('hammer', Decimal('42.20'), 2)]\n",
    "\n",
    "# retrieve the items one at a time\n",
    "con.execute(\"SELECT * FROM items\")\n",
    "\n",
    "print(con.fetchone())\n",
    "# ('jeans', Decimal('20.00'), 1)\n",
    "\n",
    "print(con.fetchone())\n",
    "# ('hammer', Decimal('42.20'), 2)\n",
    "\n",
    "\n",
    "print(\n",
    "    con.fetchone()\n",
    ")  # This closes the transaction. Any subsequent calls to .fetchone will return None\n",
    "# None"
   ]
  },
  {
   "cell_type": "code",
   "execution_count": 52,
   "metadata": {},
   "outputs": [
    {
     "data": {
      "text/html": [
       "<div>\n",
       "<style scoped>\n",
       "    .dataframe tbody tr th:only-of-type {\n",
       "        vertical-align: middle;\n",
       "    }\n",
       "\n",
       "    .dataframe tbody tr th {\n",
       "        vertical-align: top;\n",
       "    }\n",
       "\n",
       "    .dataframe thead th {\n",
       "        text-align: right;\n",
       "    }\n",
       "</style>\n",
       "<table border=\"1\" class=\"dataframe\">\n",
       "  <thead>\n",
       "    <tr style=\"text-align: right;\">\n",
       "      <th></th>\n",
       "      <th>item</th>\n",
       "      <th>value</th>\n",
       "      <th>count</th>\n",
       "    </tr>\n",
       "  </thead>\n",
       "  <tbody>\n",
       "    <tr>\n",
       "      <th>0</th>\n",
       "      <td>jeans</td>\n",
       "      <td>20.0</td>\n",
       "      <td>1</td>\n",
       "    </tr>\n",
       "    <tr>\n",
       "      <th>1</th>\n",
       "      <td>hammer</td>\n",
       "      <td>42.2</td>\n",
       "      <td>2</td>\n",
       "    </tr>\n",
       "    <tr>\n",
       "      <th>2</th>\n",
       "      <td>laptop</td>\n",
       "      <td>2000.0</td>\n",
       "      <td>1</td>\n",
       "    </tr>\n",
       "  </tbody>\n",
       "</table>\n",
       "</div>"
      ],
      "text/plain": [
       "     item   value  count\n",
       "0   jeans    20.0      1\n",
       "1  hammer    42.2      2\n",
       "2  laptop  2000.0      1"
      ]
     },
     "execution_count": 52,
     "metadata": {},
     "output_type": "execute_result"
    }
   ],
   "source": [
    "import duckdb\n",
    "\n",
    "# to start an in-memory database\n",
    "con = duckdb.connect(database=\":memory:\")\n",
    "\n",
    "# create a table\n",
    "con.execute(\"CREATE TABLE items (item VARCHAR, value DECIMAL(10, 2), count INTEGER)\")\n",
    "\n",
    "\n",
    "# insert two items into the table\n",
    "con.execute(\"INSERT INTO items VALUES ('jeans', 20.0, 1), ('hammer', 42.2, 2)\")\n",
    "\n",
    "con.execute(\"INSERT INTO items VALUES (?, ?, ?)\", [\"laptop\", 2000, 1])\n",
    "\n",
    "con.execute(\"SELECT * FROM items\").df()"
   ]
  },
  {
   "cell_type": "code",
   "execution_count": 46,
   "metadata": {},
   "outputs": [
    {
     "data": {
      "text/html": [
       "<div>\n",
       "<style scoped>\n",
       "    .dataframe tbody tr th:only-of-type {\n",
       "        vertical-align: middle;\n",
       "    }\n",
       "\n",
       "    .dataframe tbody tr th {\n",
       "        vertical-align: top;\n",
       "    }\n",
       "\n",
       "    .dataframe thead th {\n",
       "        text-align: right;\n",
       "    }\n",
       "</style>\n",
       "<table border=\"1\" class=\"dataframe\">\n",
       "  <thead>\n",
       "    <tr style=\"text-align: right;\">\n",
       "      <th></th>\n",
       "      <th>item</th>\n",
       "      <th>value</th>\n",
       "      <th>count</th>\n",
       "    </tr>\n",
       "  </thead>\n",
       "  <tbody>\n",
       "    <tr>\n",
       "      <th>0</th>\n",
       "      <td>jeans</td>\n",
       "      <td>20.0</td>\n",
       "      <td>1</td>\n",
       "    </tr>\n",
       "    <tr>\n",
       "      <th>1</th>\n",
       "      <td>hammer</td>\n",
       "      <td>42.2</td>\n",
       "      <td>2</td>\n",
       "    </tr>\n",
       "    <tr>\n",
       "      <th>2</th>\n",
       "      <td>laptop</td>\n",
       "      <td>2000.0</td>\n",
       "      <td>1</td>\n",
       "    </tr>\n",
       "  </tbody>\n",
       "</table>\n",
       "</div>"
      ],
      "text/plain": [
       "     item   value  count\n",
       "0   jeans    20.0      1\n",
       "1  hammer    42.2      2\n",
       "2  laptop  2000.0      1"
      ]
     },
     "execution_count": 46,
     "metadata": {},
     "output_type": "execute_result"
    }
   ],
   "source": [
    "con.execute(\"SELECT * FROM items\").df()"
   ]
  },
  {
   "cell_type": "code",
   "execution_count": 47,
   "metadata": {},
   "outputs": [
    {
     "data": {
      "text/html": [
       "<div><style>\n",
       ".dataframe > thead > tr,\n",
       ".dataframe > tbody > tr {\n",
       "  text-align: right;\n",
       "  white-space: pre-wrap;\n",
       "}\n",
       "</style>\n",
       "<small>shape: (3, 3)</small><table border=\"1\" class=\"dataframe\"><thead><tr><th>item</th><th>value</th><th>count</th></tr><tr><td>str</td><td>decimal[10,2]</td><td>i32</td></tr></thead><tbody><tr><td>&quot;jeans&quot;</td><td>20.00</td><td>1</td></tr><tr><td>&quot;hammer&quot;</td><td>42.20</td><td>2</td></tr><tr><td>&quot;laptop&quot;</td><td>2000.00</td><td>1</td></tr></tbody></table></div>"
      ],
      "text/plain": [
       "shape: (3, 3)\n",
       "┌────────┬───────────────┬───────┐\n",
       "│ item   ┆ value         ┆ count │\n",
       "│ ---    ┆ ---           ┆ ---   │\n",
       "│ str    ┆ decimal[10,2] ┆ i32   │\n",
       "╞════════╪═══════════════╪═══════╡\n",
       "│ jeans  ┆ 20.00         ┆ 1     │\n",
       "│ hammer ┆ 42.20         ┆ 2     │\n",
       "│ laptop ┆ 2000.00       ┆ 1     │\n",
       "└────────┴───────────────┴───────┘"
      ]
     },
     "execution_count": 47,
     "metadata": {},
     "output_type": "execute_result"
    }
   ],
   "source": [
    "con.execute(\"SELECT * FROM items\").pl()\n",
    "\n",
    "# ret.fetchnumpy()"
   ]
  },
  {
   "cell_type": "code",
   "execution_count": 48,
   "metadata": {},
   "outputs": [
    {
     "data": {
      "text/plain": [
       "pyarrow.Table\n",
       "item: string\n",
       "value: decimal128(10, 2)\n",
       "count: int32\n",
       "----\n",
       "item: [[\"jeans\",\"hammer\",\"laptop\"]]\n",
       "value: [[20.00,42.20,2000.00]]\n",
       "count: [[1,2,1]]"
      ]
     },
     "execution_count": 48,
     "metadata": {},
     "output_type": "execute_result"
    }
   ],
   "source": [
    "con.execute(\"SELECT * FROM items\").arrow()"
   ]
  },
  {
   "cell_type": "code",
   "execution_count": 49,
   "metadata": {},
   "outputs": [
    {
     "data": {
      "text/plain": [
       "[('jeans', Decimal('20.00'), 1),\n",
       " ('hammer', Decimal('42.20'), 2),\n",
       " ('laptop', Decimal('2000.00'), 1)]"
      ]
     },
     "execution_count": 49,
     "metadata": {},
     "output_type": "execute_result"
    }
   ],
   "source": [
    "con.execute(\"SELECT * FROM items\").fetchall()"
   ]
  },
  {
   "cell_type": "code",
   "execution_count": 53,
   "metadata": {},
   "outputs": [
    {
     "data": {
      "text/html": [
       "<div>\n",
       "<style scoped>\n",
       "    .dataframe tbody tr th:only-of-type {\n",
       "        vertical-align: middle;\n",
       "    }\n",
       "\n",
       "    .dataframe tbody tr th {\n",
       "        vertical-align: top;\n",
       "    }\n",
       "\n",
       "    .dataframe thead th {\n",
       "        text-align: right;\n",
       "    }\n",
       "</style>\n",
       "<table border=\"1\" class=\"dataframe\">\n",
       "  <thead>\n",
       "    <tr style=\"text-align: right;\">\n",
       "      <th></th>\n",
       "      <th>item</th>\n",
       "      <th>value</th>\n",
       "      <th>count</th>\n",
       "    </tr>\n",
       "  </thead>\n",
       "  <tbody>\n",
       "    <tr>\n",
       "      <th>0</th>\n",
       "      <td>jeans</td>\n",
       "      <td>20.0</td>\n",
       "      <td>1</td>\n",
       "    </tr>\n",
       "    <tr>\n",
       "      <th>1</th>\n",
       "      <td>hammer</td>\n",
       "      <td>42.2</td>\n",
       "      <td>2</td>\n",
       "    </tr>\n",
       "    <tr>\n",
       "      <th>2</th>\n",
       "      <td>laptop</td>\n",
       "      <td>2000.0</td>\n",
       "      <td>1</td>\n",
       "    </tr>\n",
       "    <tr>\n",
       "      <th>3</th>\n",
       "      <td>chainsaw</td>\n",
       "      <td>500.0</td>\n",
       "      <td>10</td>\n",
       "    </tr>\n",
       "    <tr>\n",
       "      <th>4</th>\n",
       "      <td>iphone</td>\n",
       "      <td>300.0</td>\n",
       "      <td>2</td>\n",
       "    </tr>\n",
       "  </tbody>\n",
       "</table>\n",
       "</div>"
      ],
      "text/plain": [
       "       item   value  count\n",
       "0     jeans    20.0      1\n",
       "1    hammer    42.2      2\n",
       "2    laptop  2000.0      1\n",
       "3  chainsaw   500.0     10\n",
       "4    iphone   300.0      2"
      ]
     },
     "execution_count": 53,
     "metadata": {},
     "output_type": "execute_result"
    }
   ],
   "source": [
    "con.executemany(\n",
    "    \"INSERT INTO items VALUES (?, ?, ?)\", [[\"chainsaw\", 500, 10], [\"iphone\", 300, 2]]\n",
    ")\n",
    "\n",
    "\n",
    "con.execute(\"SELECT * FROM items\").df()"
   ]
  },
  {
   "cell_type": "code",
   "execution_count": 55,
   "metadata": {},
   "outputs": [
    {
     "data": {
      "text/html": [
       "<div>\n",
       "<style scoped>\n",
       "    .dataframe tbody tr th:only-of-type {\n",
       "        vertical-align: middle;\n",
       "    }\n",
       "\n",
       "    .dataframe tbody tr th {\n",
       "        vertical-align: top;\n",
       "    }\n",
       "\n",
       "    .dataframe thead th {\n",
       "        text-align: right;\n",
       "    }\n",
       "</style>\n",
       "<table border=\"1\" class=\"dataframe\">\n",
       "  <thead>\n",
       "    <tr style=\"text-align: right;\">\n",
       "      <th></th>\n",
       "      <th>item</th>\n",
       "    </tr>\n",
       "  </thead>\n",
       "  <tbody>\n",
       "    <tr>\n",
       "      <th>0</th>\n",
       "      <td>laptop</td>\n",
       "    </tr>\n",
       "    <tr>\n",
       "      <th>1</th>\n",
       "      <td>chainsaw</td>\n",
       "    </tr>\n",
       "  </tbody>\n",
       "</table>\n",
       "</div>"
      ],
      "text/plain": [
       "       item\n",
       "0    laptop\n",
       "1  chainsaw"
      ]
     },
     "execution_count": 55,
     "metadata": {},
     "output_type": "execute_result"
    }
   ],
   "source": [
    "con.execute(\"SELECT item FROM items WHERE value > ?\", [400])\n",
    "\n",
    "con.df()\n",
    "# print(con.fetchall())"
   ]
  },
  {
   "cell_type": "code",
   "execution_count": 58,
   "metadata": {},
   "outputs": [
    {
     "data": {
      "text/html": [
       "<div>\n",
       "<style scoped>\n",
       "    .dataframe tbody tr th:only-of-type {\n",
       "        vertical-align: middle;\n",
       "    }\n",
       "\n",
       "    .dataframe tbody tr th {\n",
       "        vertical-align: top;\n",
       "    }\n",
       "\n",
       "    .dataframe thead th {\n",
       "        text-align: right;\n",
       "    }\n",
       "</style>\n",
       "<table border=\"1\" class=\"dataframe\">\n",
       "  <thead>\n",
       "    <tr style=\"text-align: right;\">\n",
       "      <th></th>\n",
       "      <th>$1</th>\n",
       "      <th>$1_1</th>\n",
       "      <th>$2</th>\n",
       "    </tr>\n",
       "  </thead>\n",
       "  <tbody>\n",
       "    <tr>\n",
       "      <th>0</th>\n",
       "      <td>duck</td>\n",
       "      <td>duck</td>\n",
       "      <td>goose</td>\n",
       "    </tr>\n",
       "  </tbody>\n",
       "</table>\n",
       "</div>"
      ],
      "text/plain": [
       "     $1  $1_1     $2\n",
       "0  duck  duck  goose"
      ]
     },
     "execution_count": 58,
     "metadata": {},
     "output_type": "execute_result"
    }
   ],
   "source": [
    "con.execute(\"SELECT $1, $1, $2\", [\"duck\", \"goose\"])\n",
    "\n",
    "con.df()\n",
    "# print(con.df())\n",
    "# print(con.fetchall())"
   ]
  },
  {
   "cell_type": "code",
   "execution_count": 60,
   "metadata": {},
   "outputs": [
    {
     "data": {
      "text/html": [
       "<div>\n",
       "<style scoped>\n",
       "    .dataframe tbody tr th:only-of-type {\n",
       "        vertical-align: middle;\n",
       "    }\n",
       "\n",
       "    .dataframe tbody tr th {\n",
       "        vertical-align: top;\n",
       "    }\n",
       "\n",
       "    .dataframe thead th {\n",
       "        text-align: right;\n",
       "    }\n",
       "</style>\n",
       "<table border=\"1\" class=\"dataframe\">\n",
       "  <thead>\n",
       "    <tr style=\"text-align: right;\">\n",
       "      <th></th>\n",
       "      <th>$my_param</th>\n",
       "      <th>$other_param</th>\n",
       "      <th>$also_param</th>\n",
       "    </tr>\n",
       "  </thead>\n",
       "  <tbody>\n",
       "    <tr>\n",
       "      <th>0</th>\n",
       "      <td>5</td>\n",
       "      <td>DuckDB</td>\n",
       "      <td>[42]</td>\n",
       "    </tr>\n",
       "  </tbody>\n",
       "</table>\n",
       "</div>"
      ],
      "text/plain": [
       "   $my_param $other_param $also_param\n",
       "0          5       DuckDB        [42]"
      ]
     },
     "execution_count": 60,
     "metadata": {},
     "output_type": "execute_result"
    }
   ],
   "source": [
    "import duckdb\n",
    "\n",
    "res = duckdb.execute(\n",
    "    \"\"\"\n",
    "    SELECT\n",
    "        $my_param,\n",
    "        $other_param,\n",
    "        $also_param\n",
    "    \"\"\",\n",
    "    {\"my_param\": 5, \"other_param\": \"DuckDB\", \"also_param\": [42]},\n",
    ")\n",
    "\n",
    "res.df()"
   ]
  }
 ],
 "metadata": {
  "kernelspec": {
   "display_name": ".venv",
   "language": "python",
   "name": "python3"
  },
  "language_info": {
   "codemirror_mode": {
    "name": "ipython",
    "version": 3
   },
   "file_extension": ".py",
   "mimetype": "text/x-python",
   "name": "python",
   "nbconvert_exporter": "python",
   "pygments_lexer": "ipython3",
   "version": "3.12.7"
  }
 },
 "nbformat": 4,
 "nbformat_minor": 2
}
