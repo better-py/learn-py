{
 "cells": [
  {
   "cell_type": "markdown",
   "metadata": {},
   "source": [
    "# Spark API\n",
    "\n",
    "## References\n",
    "\n",
    "- https://duckdb.org/docs/stable/clients/python/spark_api"
   ]
  },
  {
   "cell_type": "code",
   "execution_count": null,
   "metadata": {},
   "outputs": [
    {
     "name": "stdout",
     "output_type": "stream",
     "text": [
      "[Row(age=34, location='Seattle'), Row(age=45, location='Seattle'), Row(age=23, location='Seattle'), Row(age=56, location='Seattle')]\n",
      "┌───────┬─────────┬──────────┐\n",
      "│  age  │  name   │ location │\n",
      "│ int64 │ varchar │ varchar  │\n",
      "├───────┼─────────┼──────────┤\n",
      "│    34 │ Joan    │ Seattle  │\n",
      "│    45 │ Peter   │ Seattle  │\n",
      "│    23 │ John    │ Seattle  │\n",
      "│    56 │ Bob     │ Seattle  │\n",
      "└───────┴─────────┴──────────┘\n",
      "\n"
     ]
    }
   ],
   "source": [
    "from duckdb.experimental.spark.sql import SparkSession as session\n",
    "from duckdb.experimental.spark.sql.functions import lit, col\n",
    "import pandas as pd\n",
    "\n",
    "spark = session.builder.getOrCreate()\n",
    "\n",
    "pandas_df = pd.DataFrame(\n",
    "    {\"age\": [34, 45, 23, 56], \"name\": [\"Joan\", \"Peter\", \"John\", \"Bob\"]}\n",
    ")\n",
    "\n",
    "df = spark.createDataFrame(pandas_df)\n",
    "df = df.withColumn(\"location\", lit(\"Seattle\"))\n",
    "\n",
    "res = df.select(col(\"age\"), col(\"location\")).collect()\n",
    "print(res)\n",
    "\n",
    "\n",
    "df.show()"
   ]
  },
  {
   "cell_type": "code",
   "execution_count": null,
   "metadata": {},
   "outputs": [],
   "source": []
  },
  {
   "cell_type": "code",
   "execution_count": null,
   "metadata": {},
   "outputs": [],
   "source": []
  }
 ],
 "metadata": {
  "kernelspec": {
   "display_name": ".venv",
   "language": "python",
   "name": "python3"
  },
  "language_info": {
   "codemirror_mode": {
    "name": "ipython",
    "version": 3
   },
   "file_extension": ".py",
   "mimetype": "text/x-python",
   "name": "python",
   "nbconvert_exporter": "python",
   "pygments_lexer": "ipython3",
   "version": "3.12.7"
  }
 },
 "nbformat": 4,
 "nbformat_minor": 2
}
