{
 "cells": [
  {
   "cell_type": "markdown",
   "metadata": {},
   "source": [
    "# Types API\n",
    "\n",
    "\n",
    "## Reference\n",
    "\n",
    "- https://duckdb.org/docs/stable/clients/python/types"
   ]
  },
  {
   "cell_type": "code",
   "execution_count": 1,
   "metadata": {},
   "outputs": [
    {
     "data": {
      "text/plain": [
       "MAP(UNION(u1 VARCHAR, u2 BIGINT), VARCHAR)[]"
      ]
     },
     "execution_count": 1,
     "metadata": {},
     "output_type": "execute_result"
    }
   ],
   "source": [
    "import duckdb\n",
    "from typing import Union\n",
    "\n",
    "duckdb.typing.DuckDBPyType(list[dict[Union[str, int], str]])"
   ]
  },
  {
   "cell_type": "code",
   "execution_count": 2,
   "metadata": {},
   "outputs": [
    {
     "name": "stdout",
     "output_type": "stream",
     "text": [
      "MAP(VARCHAR, BIGINT)\n"
     ]
    }
   ],
   "source": [
    "import duckdb\n",
    "\n",
    "print(duckdb.typing.DuckDBPyType(dict[str, int]))"
   ]
  },
  {
   "cell_type": "code",
   "execution_count": 3,
   "metadata": {},
   "outputs": [
    {
     "name": "stdout",
     "output_type": "stream",
     "text": [
      "STRUCT(a VARCHAR, b BIGINT)\n"
     ]
    }
   ],
   "source": [
    "import duckdb\n",
    "\n",
    "print(duckdb.typing.DuckDBPyType({\"a\": str, \"b\": int}))"
   ]
  },
  {
   "cell_type": "code",
   "execution_count": 4,
   "metadata": {},
   "outputs": [
    {
     "name": "stdout",
     "output_type": "stream",
     "text": [
      "UNION(u1 BIGINT, u2 VARCHAR, u3 BOOLEAN, u4 BLOB)\n"
     ]
    }
   ],
   "source": [
    "import duckdb\n",
    "from typing import Union\n",
    "\n",
    "print(duckdb.typing.DuckDBPyType(Union[int, str, bool, bytearray]))"
   ]
  }
 ],
 "metadata": {
  "kernelspec": {
   "display_name": ".venv",
   "language": "python",
   "name": "python3"
  },
  "language_info": {
   "codemirror_mode": {
    "name": "ipython",
    "version": 3
   },
   "file_extension": ".py",
   "mimetype": "text/x-python",
   "name": "python",
   "nbconvert_exporter": "python",
   "pygments_lexer": "ipython3",
   "version": "3.12.7"
  }
 },
 "nbformat": 4,
 "nbformat_minor": 2
}
