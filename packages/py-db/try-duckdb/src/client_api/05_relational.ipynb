{
 "cells": [
  {
   "cell_type": "markdown",
   "metadata": {},
   "source": [
    "# Relational API\n",
    "\n",
    "- https://duckdb.org/docs/stable/clients/python/relational_api"
   ]
  },
  {
   "cell_type": "code",
   "execution_count": 1,
   "metadata": {},
   "outputs": [
    {
     "name": "stdout",
     "output_type": "stream",
     "text": [
      "┌────────────────────────┐\n",
      "│           id           │\n",
      "│         int64          │\n",
      "├────────────────────────┤\n",
      "│                      0 │\n",
      "│                      1 │\n",
      "│                      2 │\n",
      "│                      3 │\n",
      "│                      4 │\n",
      "│                      5 │\n",
      "│                      6 │\n",
      "│                      7 │\n",
      "│                      8 │\n",
      "│                      9 │\n",
      "│                      · │\n",
      "│                      · │\n",
      "│                      · │\n",
      "│                   9990 │\n",
      "│                   9991 │\n",
      "│                   9992 │\n",
      "│                   9993 │\n",
      "│                   9994 │\n",
      "│                   9995 │\n",
      "│                   9996 │\n",
      "│                   9997 │\n",
      "│                   9998 │\n",
      "│                   9999 │\n",
      "├────────────────────────┤\n",
      "│         ? rows         │\n",
      "│ (>9999 rows, 20 shown) │\n",
      "└────────────────────────┘\n",
      "\n"
     ]
    }
   ],
   "source": [
    "import duckdb\n",
    "\n",
    "rel = duckdb.sql(\"SELECT * FROM range(10_000_000_000) tbl(id)\")\n",
    "rel.show()"
   ]
  },
  {
   "cell_type": "code",
   "execution_count": 2,
   "metadata": {},
   "outputs": [
    {
     "name": "stdout",
     "output_type": "stream",
     "text": [
      "┌──────────────┐\n",
      "│   sum(id)    │\n",
      "│    int128    │\n",
      "├──────────────┤\n",
      "│ 499999500000 │\n",
      "└──────────────┘\n",
      "\n"
     ]
    }
   ],
   "source": [
    "import duckdb\n",
    "\n",
    "rel = duckdb.sql(\"SELECT * FROM range(1_000_000) tbl(id)\")\n",
    "duckdb.sql(\"SELECT sum(id) FROM rel\").show()"
   ]
  },
  {
   "cell_type": "code",
   "execution_count": 3,
   "metadata": {},
   "outputs": [
    {
     "data": {
      "text/plain": [
       "┌───────┬──────────────┬─────────┬─────────┐\n",
       "│   g   │   sum(id)    │ min(id) │ max(id) │\n",
       "│ int64 │    int128    │  int64  │  int64  │\n",
       "├───────┼──────────────┼─────────┼─────────┤\n",
       "│     0 │ 249999500000 │       0 │  999998 │\n",
       "│     1 │ 250000000000 │       1 │  999999 │\n",
       "└───────┴──────────────┴─────────┴─────────┘"
      ]
     },
     "execution_count": 3,
     "metadata": {},
     "output_type": "execute_result"
    }
   ],
   "source": [
    "import duckdb\n",
    "\n",
    "rel = duckdb.sql(\"SELECT * FROM range(1_000_000) tbl(id)\")\n",
    "rel.aggregate(\"id % 2 AS g, sum(id), min(id), max(id)\")"
   ]
  },
  {
   "cell_type": "code",
   "execution_count": null,
   "metadata": {},
   "outputs": [
    {
     "name": "stdout",
     "output_type": "stream",
     "text": [
      "┌───────┐\n",
      "│  id   │\n",
      "│ int64 │\n",
      "├───────┤\n",
      "│     8 │\n",
      "│     5 │\n",
      "│     9 │\n",
      "│     7 │\n",
      "│     6 │\n",
      "└───────┘\n",
      "\n"
     ]
    }
   ],
   "source": [
    "import duckdb\n",
    "\n",
    "r1 = duckdb.sql(\"SELECT * FROM range(10) tbl(id)\")\n",
    "r2 = duckdb.sql(\"SELECT * FROM range(5) tbl(id)\")\n",
    "\n",
    "# 无序输出\n",
    "r1.except_(r2).show()"
   ]
  },
  {
   "cell_type": "code",
   "execution_count": 7,
   "metadata": {},
   "outputs": [
    {
     "name": "stdout",
     "output_type": "stream",
     "text": [
      "┌───────┐\n",
      "│  id   │\n",
      "│ int64 │\n",
      "├───────┤\n",
      "│     6 │\n",
      "│     7 │\n",
      "│     8 │\n",
      "└───────┘\n",
      "\n"
     ]
    }
   ],
   "source": [
    "import duckdb\n",
    "\n",
    "rel = duckdb.sql(\"SELECT * FROM range(1_000_000) tbl(id)\")\n",
    "rel.filter(\"id > 5\").limit(3).show()"
   ]
  },
  {
   "cell_type": "code",
   "execution_count": 8,
   "metadata": {},
   "outputs": [
    {
     "name": "stdout",
     "output_type": "stream",
     "text": [
      "┌───────┐\n",
      "│  id   │\n",
      "│ int64 │\n",
      "├───────┤\n",
      "│     4 │\n",
      "│     3 │\n",
      "│     1 │\n",
      "│     2 │\n",
      "│     0 │\n",
      "└───────┘\n",
      "\n"
     ]
    }
   ],
   "source": [
    "import duckdb\n",
    "\n",
    "r1 = duckdb.sql(\"SELECT * FROM range(10) tbl(id)\")\n",
    "r2 = duckdb.sql(\"SELECT * FROM range(5) tbl(id)\")\n",
    "r1.intersect(r2).show()"
   ]
  },
  {
   "cell_type": "code",
   "execution_count": 9,
   "metadata": {},
   "outputs": [
    {
     "name": "stdout",
     "output_type": "stream",
     "text": [
      "┌───────┬───────┐\n",
      "│  id   │  id   │\n",
      "│ int64 │ int64 │\n",
      "├───────┼───────┤\n",
      "│     0 │    10 │\n",
      "│     1 │    11 │\n",
      "│     2 │    12 │\n",
      "│     3 │    13 │\n",
      "│     4 │    14 │\n",
      "└───────┴───────┘\n",
      "\n"
     ]
    }
   ],
   "source": [
    "import duckdb\n",
    "\n",
    "r1 = duckdb.sql(\"SELECT * FROM range(5) tbl(id)\").set_alias(\"r1\")\n",
    "r2 = duckdb.sql(\"SELECT * FROM range(10, 15) tbl(id)\").set_alias(\"r2\")\n",
    "r1.join(r2, \"r1.id + 10 = r2.id\").show()"
   ]
  },
  {
   "cell_type": "code",
   "execution_count": 10,
   "metadata": {},
   "outputs": [
    {
     "name": "stdout",
     "output_type": "stream",
     "text": [
      "┌───────┐\n",
      "│  id   │\n",
      "│ int64 │\n",
      "├───────┤\n",
      "│     0 │\n",
      "│     1 │\n",
      "│     2 │\n",
      "└───────┘\n",
      "\n"
     ]
    }
   ],
   "source": [
    "import duckdb\n",
    "\n",
    "rel = duckdb.sql(\"SELECT * FROM range(1_000_000) tbl(id)\")\n",
    "rel.limit(3).show()"
   ]
  },
  {
   "cell_type": "code",
   "execution_count": 11,
   "metadata": {},
   "outputs": [
    {
     "name": "stdout",
     "output_type": "stream",
     "text": [
      "┌────────┐\n",
      "│   id   │\n",
      "│ int64  │\n",
      "├────────┤\n",
      "│ 999999 │\n",
      "│ 999998 │\n",
      "│ 999997 │\n",
      "└────────┘\n",
      "\n"
     ]
    }
   ],
   "source": [
    "import duckdb\n",
    "\n",
    "rel = duckdb.sql(\"SELECT * FROM range(1_000_000) tbl(id)\")\n",
    "\n",
    "# 排序\n",
    "rel.order(\"id DESC\").limit(3).show()"
   ]
  },
  {
   "cell_type": "code",
   "execution_count": 12,
   "metadata": {},
   "outputs": [
    {
     "name": "stdout",
     "output_type": "stream",
     "text": [
      "┌─────────────┐\n",
      "│ id_plus_ten │\n",
      "│    int64    │\n",
      "├─────────────┤\n",
      "│          10 │\n",
      "│          11 │\n",
      "│          12 │\n",
      "└─────────────┘\n",
      "\n"
     ]
    }
   ],
   "source": [
    "import duckdb\n",
    "\n",
    "rel = duckdb.sql(\"SELECT * FROM range(1_000_000) tbl(id)\")\n",
    "rel.project(\"id + 10 AS id_plus_ten\").limit(3).show()"
   ]
  },
  {
   "cell_type": "code",
   "execution_count": 13,
   "metadata": {},
   "outputs": [
    {
     "name": "stdout",
     "output_type": "stream",
     "text": [
      "┌───────┐\n",
      "│  id   │\n",
      "│ int64 │\n",
      "├───────┤\n",
      "│     0 │\n",
      "│     1 │\n",
      "│     2 │\n",
      "│     3 │\n",
      "│     4 │\n",
      "│    10 │\n",
      "│    11 │\n",
      "│    12 │\n",
      "│    13 │\n",
      "│    14 │\n",
      "└───────┘\n",
      "\n"
     ]
    }
   ],
   "source": [
    "import duckdb\n",
    "\n",
    "r1 = duckdb.sql(\"SELECT * FROM range(5) tbl(id)\")\n",
    "r2 = duckdb.sql(\"SELECT * FROM range(10, 15) tbl(id)\")\n",
    "\n",
    "r1.union(r2).show()"
   ]
  }
 ],
 "metadata": {
  "kernelspec": {
   "display_name": ".venv",
   "language": "python",
   "name": "python3"
  },
  "language_info": {
   "codemirror_mode": {
    "name": "ipython",
    "version": 3
   },
   "file_extension": ".py",
   "mimetype": "text/x-python",
   "name": "python",
   "nbconvert_exporter": "python",
   "pygments_lexer": "ipython3",
   "version": "3.12.7"
  }
 },
 "nbformat": 4,
 "nbformat_minor": 2
}
