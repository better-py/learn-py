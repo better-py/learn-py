{
 "cells": [
  {
   "cell_type": "markdown",
   "metadata": {},
   "source": [
    "# Python Function API\n",
    "\n",
    "- 部分示例代码，根据需要，做了一点修改，方便更好的调试。\n",
    "\n",
    "## Reference\n",
    "\n",
    "- https://duckdb.org/docs/stable/clients/python/function\n",
    "\n",
    "\n"
   ]
  },
  {
   "cell_type": "code",
   "execution_count": null,
   "metadata": {},
   "outputs": [
    {
     "data": {
      "text/html": [
       "<div>\n",
       "<style scoped>\n",
       "    .dataframe tbody tr th:only-of-type {\n",
       "        vertical-align: middle;\n",
       "    }\n",
       "\n",
       "    .dataframe tbody tr th {\n",
       "        vertical-align: top;\n",
       "    }\n",
       "\n",
       "    .dataframe thead th {\n",
       "        text-align: right;\n",
       "    }\n",
       "</style>\n",
       "<table border=\"1\" class=\"dataframe\">\n",
       "  <thead>\n",
       "    <tr style=\"text-align: right;\">\n",
       "      <th></th>\n",
       "      <th>random_name()</th>\n",
       "    </tr>\n",
       "  </thead>\n",
       "  <tbody>\n",
       "    <tr>\n",
       "      <th>0</th>\n",
       "      <td>Jacqueline Mejia</td>\n",
       "    </tr>\n",
       "  </tbody>\n",
       "</table>\n",
       "</div>"
      ],
      "text/plain": [
       "      random_name()\n",
       "0  Jacqueline Mejia"
      ]
     },
     "execution_count": 6,
     "metadata": {},
     "output_type": "execute_result"
    }
   ],
   "source": [
    "import duckdb\n",
    "from duckdb.typing import *\n",
    "from faker import Faker\n",
    "\n",
    "\n",
    "# Connect to an in-memory database and create a function to generate random names.\n",
    "con = duckdb.connect(\":memory:\")\n",
    "\n",
    "\n",
    "def generate_random_name():\n",
    "    fake = Faker()\n",
    "    return fake.name()\n",
    "\n",
    "\n",
    "con.create_function(\"random_name\", generate_random_name, [], VARCHAR)\n",
    "\n",
    "# res = duckdb.sql(\"SELECT random_name()\").fetchall()\n",
    "# print(res)\n",
    "\n",
    "con.sql(\"SELECT random_name()\").df()"
   ]
  },
  {
   "cell_type": "code",
   "execution_count": null,
   "metadata": {},
   "outputs": [
    {
     "name": "stdout",
     "output_type": "stream",
     "text": [
      "┌─────────────┐\n",
      "│ my_func(42) │\n",
      "│   varchar   │\n",
      "├─────────────┤\n",
      "│ 42          │\n",
      "└─────────────┘\n",
      "\n"
     ]
    }
   ],
   "source": [
    "import duckdb\n",
    "\n",
    "\n",
    "#\n",
    "# https://duckdb.org/docs/stable/clients/python/function#type-annotation\n",
    "#\n",
    "def my_function(x: int) -> str:\n",
    "    return x\n",
    "\n",
    "\n",
    "# 别名\n",
    "duckdb.create_function(\"my_func\", my_function)\n",
    "print(duckdb.sql(\"SELECT my_func(42)\"))"
   ]
  },
  {
   "cell_type": "code",
   "execution_count": 16,
   "metadata": {},
   "outputs": [
    {
     "data": {
      "text/html": [
       "<div>\n",
       "<style scoped>\n",
       "    .dataframe tbody tr th:only-of-type {\n",
       "        vertical-align: middle;\n",
       "    }\n",
       "\n",
       "    .dataframe tbody tr th {\n",
       "        vertical-align: top;\n",
       "    }\n",
       "\n",
       "    .dataframe thead th {\n",
       "        text-align: right;\n",
       "    }\n",
       "</style>\n",
       "<table border=\"1\" class=\"dataframe\">\n",
       "  <thead>\n",
       "    <tr style=\"text-align: right;\">\n",
       "      <th></th>\n",
       "      <th>dont_intercept(NULL)</th>\n",
       "    </tr>\n",
       "  </thead>\n",
       "  <tbody>\n",
       "    <tr>\n",
       "      <th>0</th>\n",
       "      <td>&lt;NA&gt;</td>\n",
       "    </tr>\n",
       "  </tbody>\n",
       "</table>\n",
       "</div>"
      ],
      "text/plain": [
       "   dont_intercept(NULL)\n",
       "0                  <NA>"
      ]
     },
     "execution_count": 16,
     "metadata": {},
     "output_type": "execute_result"
    }
   ],
   "source": [
    "import duckdb\n",
    "from duckdb.typing import *\n",
    "\n",
    "\n",
    "def dont_intercept_null(x):\n",
    "    return 5\n",
    "\n",
    "\n",
    "# 避免重复注册导致报错\n",
    "duckdb.remove_function(\"dont_intercept\")\n",
    "\n",
    "# 注册\n",
    "duckdb.create_function(\"dont_intercept\", dont_intercept_null, [BIGINT], BIGINT)\n",
    "\n",
    "# res = duckdb.sql(\"SELECT dont_intercept(NULL)\").fetchall()\n",
    "# print(res)\n",
    "\n",
    "duckdb.sql(\"SELECT dont_intercept(NULL)\").df()"
   ]
  },
  {
   "cell_type": "code",
   "execution_count": 17,
   "metadata": {},
   "outputs": [
    {
     "name": "stdout",
     "output_type": "stream",
     "text": [
      "[(5,)]\n"
     ]
    }
   ],
   "source": [
    "import duckdb\n",
    "from duckdb.typing import *\n",
    "\n",
    "\n",
    "def dont_intercept_null(x):\n",
    "    return 5\n",
    "\n",
    "\n",
    "# 避免重复注册导致报错\n",
    "duckdb.remove_function(\"dont_intercept\")\n",
    "\n",
    "duckdb.create_function(\n",
    "    \"dont_intercept\", dont_intercept_null, [BIGINT], BIGINT, null_handling=\"special\"\n",
    ")\n",
    "res = duckdb.sql(\"SELECT dont_intercept(NULL)\").fetchall()\n",
    "print(res)"
   ]
  },
  {
   "cell_type": "code",
   "execution_count": null,
   "metadata": {},
   "outputs": [],
   "source": [
    "import duckdb\n",
    "from duckdb.typing import *\n",
    "\n",
    "\n",
    "def will_throw():\n",
    "    raise ValueError(\"ERROR\")\n",
    "\n",
    "\n",
    "try:\n",
    "    # 注册\n",
    "    duckdb.create_function(\"throws\", will_throw, [], BIGINT)\n",
    "except Exception as e:\n",
    "    duckdb.remove_function(\"throws\")\n",
    "    duckdb.create_function(\"throws\", will_throw, [], BIGINT)\n",
    "\n",
    "try:\n",
    "    res = duckdb.sql(\"SELECT throws()\").fetchall()\n",
    "except duckdb.InvalidInputException as e:\n",
    "    print(e)\n",
    "\n",
    "duckdb.create_function(\n",
    "    \"doesnt_throw\", will_throw, [], BIGINT, exception_handling=\"return_null\"\n",
    ")\n",
    "res = duckdb.sql(\"SELECT doesnt_throw()\").fetchall()\n",
    "print(res)"
   ]
  },
  {
   "cell_type": "code",
   "execution_count": 20,
   "metadata": {},
   "outputs": [
    {
     "name": "stdout",
     "output_type": "stream",
     "text": [
      "[(0,), (0,), (0,), (0,), (0,), (0,), (0,), (0,), (0,), (0,)]\n"
     ]
    }
   ],
   "source": [
    "import duckdb\n",
    "\n",
    "\n",
    "def count() -> int:\n",
    "    old = count.counter\n",
    "    count.counter += 1\n",
    "    return old\n",
    "\n",
    "\n",
    "count.counter = 0\n",
    "\n",
    "\n",
    "con = duckdb.connect()\n",
    "\n",
    "con.create_function(\"my_counter\", count, side_effects=False)\n",
    "\n",
    "res = con.sql(\"SELECT my_counter() FROM range(10)\").fetchall()\n",
    "print(res)"
   ]
  },
  {
   "cell_type": "code",
   "execution_count": 21,
   "metadata": {},
   "outputs": [
    {
     "name": "stdout",
     "output_type": "stream",
     "text": [
      "[(0,), (1,), (2,), (3,), (4,), (5,), (6,), (7,), (8,), (9,)]\n"
     ]
    }
   ],
   "source": [
    "con.remove_function(\"my_counter\")\n",
    "\n",
    "count.counter = 0\n",
    "\n",
    "con.create_function(\"my_counter\", count, side_effects=True)\n",
    "\n",
    "res = con.sql(\"SELECT my_counter() FROM range(10)\").fetchall()\n",
    "print(res)"
   ]
  },
  {
   "cell_type": "code",
   "execution_count": 36,
   "metadata": {},
   "outputs": [
    {
     "name": "stdout",
     "output_type": "stream",
     "text": [
      "[(datetime.date(2018, 1, 18),)]\n"
     ]
    }
   ],
   "source": [
    "import duckdb\n",
    "\n",
    "from duckdb.typing import *\n",
    "from faker import Faker\n",
    "\n",
    "\n",
    "def random_date():\n",
    "    fake = Faker()\n",
    "    return fake.date_between()\n",
    "\n",
    "\n",
    "try:\n",
    "    duckdb.create_function(\"random_date\", random_date, [], DATE, type=\"native\")\n",
    "except Exception as e:\n",
    "    duckdb.remove_function(\"random_date\")\n",
    "    duckdb.create_function(\"random_date\", random_date, [], DATE, type=\"native\")\n",
    "\n",
    "\n",
    "res = duckdb.sql(\"SELECT random_date()\").fetchall()\n",
    "print(res)"
   ]
  },
  {
   "cell_type": "code",
   "execution_count": null,
   "metadata": {},
   "outputs": [],
   "source": []
  }
 ],
 "metadata": {
  "kernelspec": {
   "display_name": ".venv",
   "language": "python",
   "name": "python3"
  },
  "language_info": {
   "codemirror_mode": {
    "name": "ipython",
    "version": 3
   },
   "file_extension": ".py",
   "mimetype": "text/x-python",
   "name": "python",
   "nbconvert_exporter": "python",
   "pygments_lexer": "ipython3",
   "version": "3.12.7"
  }
 },
 "nbformat": 4,
 "nbformat_minor": 2
}
