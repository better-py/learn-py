{
 "cells": [
  {
   "cell_type": "markdown",
   "metadata": {},
   "source": []
  },
  {
   "cell_type": "code",
   "execution_count": 2,
   "metadata": {},
   "outputs": [
    {
     "name": "stdout",
     "output_type": "stream",
     "text": [
      "Running on local URL:  http://127.0.0.1:7861\n",
      "\n",
      "To create a public link, set `share=True` in `launch()`.\n"
     ]
    },
    {
     "data": {
      "text/html": [
       "<div><iframe src=\"http://127.0.0.1:7861/\" width=\"100%\" height=\"500\" allow=\"autoplay; camera; microphone; clipboard-read; clipboard-write;\" frameborder=\"0\" allowfullscreen></iframe></div>"
      ],
      "text/plain": [
       "<IPython.core.display.HTML object>"
      ]
     },
     "metadata": {},
     "output_type": "display_data"
    },
    {
     "data": {
      "text/plain": []
     },
     "execution_count": 2,
     "metadata": {},
     "output_type": "execute_result"
    },
    {
     "name": "stdout",
     "output_type": "stream",
     "text": [
      "IMPORTANT: You are using gradio version 4.26.0, however version 4.44.1 is available, please upgrade.\n",
      "--------\n"
     ]
    },
    {
     "name": "stderr",
     "output_type": "stream",
     "text": [
      "ERROR:    Exception in ASGI application\n",
      "Traceback (most recent call last):\n",
      "  File \"/Users/dev/Documents/iSpace/better-py/learn-py/.venv/lib/python3.12/site-packages/pydantic/type_adapter.py\", line 271, in _init_core_attrs\n",
      "    self.core_schema = _getattr_no_parents(self._type, '__pydantic_core_schema__')\n",
      "                       ^^^^^^^^^^^^^^^^^^^^^^^^^^^^^^^^^^^^^^^^^^^^^^^^^^^^^^^^^^^\n",
      "  File \"/Users/dev/Documents/iSpace/better-py/learn-py/.venv/lib/python3.12/site-packages/pydantic/type_adapter.py\", line 55, in _getattr_no_parents\n",
      "    raise AttributeError(attribute)\n",
      "AttributeError: __pydantic_core_schema__\n",
      "\n",
      "During handling of the above exception, another exception occurred:\n",
      "\n",
      "Traceback (most recent call last):\n",
      "  File \"/Users/dev/Documents/iSpace/better-py/learn-py/.venv/lib/python3.12/site-packages/uvicorn/protocols/http/httptools_impl.py\", line 409, in run_asgi\n",
      "    result = await app(  # type: ignore[func-returns-value]\n",
      "             ^^^^^^^^^^^^^^^^^^^^^^^^^^^^^^^^^^^^^^^^^^^^^^\n",
      "  File \"/Users/dev/Documents/iSpace/better-py/learn-py/.venv/lib/python3.12/site-packages/uvicorn/middleware/proxy_headers.py\", line 60, in __call__\n",
      "    return await self.app(scope, receive, send)\n",
      "           ^^^^^^^^^^^^^^^^^^^^^^^^^^^^^^^^^^^^\n",
      "  File \"/Users/dev/Documents/iSpace/better-py/learn-py/.venv/lib/python3.12/site-packages/fastapi/applications.py\", line 1054, in __call__\n",
      "    await super().__call__(scope, receive, send)\n",
      "  File \"/Users/dev/Documents/iSpace/better-py/learn-py/.venv/lib/python3.12/site-packages/starlette/applications.py\", line 112, in __call__\n",
      "    await self.middleware_stack(scope, receive, send)\n",
      "  File \"/Users/dev/Documents/iSpace/better-py/learn-py/.venv/lib/python3.12/site-packages/starlette/middleware/errors.py\", line 187, in __call__\n",
      "    raise exc\n",
      "  File \"/Users/dev/Documents/iSpace/better-py/learn-py/.venv/lib/python3.12/site-packages/starlette/middleware/errors.py\", line 165, in __call__\n",
      "    await self.app(scope, receive, _send)\n",
      "  File \"/Users/dev/Documents/iSpace/better-py/learn-py/.venv/lib/python3.12/site-packages/gradio/route_utils.py\", line 695, in __call__\n",
      "    await self.simple_response(scope, receive, send, request_headers=headers)\n",
      "  File \"/Users/dev/Documents/iSpace/better-py/learn-py/.venv/lib/python3.12/site-packages/gradio/route_utils.py\", line 711, in simple_response\n",
      "    await self.app(scope, receive, send)\n",
      "  File \"/Users/dev/Documents/iSpace/better-py/learn-py/.venv/lib/python3.12/site-packages/starlette/middleware/exceptions.py\", line 62, in __call__\n",
      "    await wrap_app_handling_exceptions(self.app, conn)(scope, receive, send)\n",
      "  File \"/Users/dev/Documents/iSpace/better-py/learn-py/.venv/lib/python3.12/site-packages/starlette/_exception_handler.py\", line 53, in wrapped_app\n",
      "    raise exc\n",
      "  File \"/Users/dev/Documents/iSpace/better-py/learn-py/.venv/lib/python3.12/site-packages/starlette/_exception_handler.py\", line 42, in wrapped_app\n",
      "    await app(scope, receive, sender)\n",
      "  File \"/Users/dev/Documents/iSpace/better-py/learn-py/.venv/lib/python3.12/site-packages/starlette/routing.py\", line 714, in __call__\n",
      "    await self.middleware_stack(scope, receive, send)\n",
      "  File \"/Users/dev/Documents/iSpace/better-py/learn-py/.venv/lib/python3.12/site-packages/starlette/routing.py\", line 734, in app\n",
      "    await route.handle(scope, receive, send)\n",
      "  File \"/Users/dev/Documents/iSpace/better-py/learn-py/.venv/lib/python3.12/site-packages/starlette/routing.py\", line 288, in handle\n",
      "    await self.app(scope, receive, send)\n",
      "  File \"/Users/dev/Documents/iSpace/better-py/learn-py/.venv/lib/python3.12/site-packages/starlette/routing.py\", line 76, in app\n",
      "    await wrap_app_handling_exceptions(app, request)(scope, receive, send)\n",
      "  File \"/Users/dev/Documents/iSpace/better-py/learn-py/.venv/lib/python3.12/site-packages/starlette/_exception_handler.py\", line 53, in wrapped_app\n",
      "    raise exc\n",
      "  File \"/Users/dev/Documents/iSpace/better-py/learn-py/.venv/lib/python3.12/site-packages/starlette/_exception_handler.py\", line 42, in wrapped_app\n",
      "    await app(scope, receive, sender)\n",
      "  File \"/Users/dev/Documents/iSpace/better-py/learn-py/.venv/lib/python3.12/site-packages/starlette/routing.py\", line 73, in app\n",
      "    response = await f(request)\n",
      "               ^^^^^^^^^^^^^^^^\n",
      "  File \"/Users/dev/Documents/iSpace/better-py/learn-py/.venv/lib/python3.12/site-packages/fastapi/routing.py\", line 291, in app\n",
      "    solved_result = await solve_dependencies(\n",
      "                    ^^^^^^^^^^^^^^^^^^^^^^^^^\n",
      "  File \"/Users/dev/Documents/iSpace/better-py/learn-py/.venv/lib/python3.12/site-packages/fastapi/dependencies/utils.py\", line 666, in solve_dependencies\n",
      "    ) = await request_body_to_args(  # body_params checked above\n",
      "        ^^^^^^^^^^^^^^^^^^^^^^^^^^^^^^^^^^^^^^^^^^^^^^^^^^^^^^^^\n",
      "  File \"/Users/dev/Documents/iSpace/better-py/learn-py/.venv/lib/python3.12/site-packages/fastapi/dependencies/utils.py\", line 891, in request_body_to_args\n",
      "    fields_to_extract = get_cached_model_fields(first_field.type_)\n",
      "                        ^^^^^^^^^^^^^^^^^^^^^^^^^^^^^^^^^^^^^^^^^^\n",
      "  File \"/Users/dev/Documents/iSpace/better-py/learn-py/.venv/lib/python3.12/site-packages/fastapi/_compat.py\", line 659, in get_cached_model_fields\n",
      "    return get_model_fields(model)\n",
      "           ^^^^^^^^^^^^^^^^^^^^^^^\n",
      "  File \"/Users/dev/Documents/iSpace/better-py/learn-py/.venv/lib/python3.12/site-packages/fastapi/_compat.py\", line 286, in get_model_fields\n",
      "    ModelField(field_info=field_info, name=name)\n",
      "  File \"<string>\", line 6, in __init__\n",
      "  File \"/Users/dev/Documents/iSpace/better-py/learn-py/.venv/lib/python3.12/site-packages/fastapi/_compat.py\", line 111, in __post_init__\n",
      "    self._type_adapter: TypeAdapter[Any] = TypeAdapter(\n",
      "                                           ^^^^^^^^^^^^\n",
      "  File \"/Users/dev/Documents/iSpace/better-py/learn-py/.venv/lib/python3.12/site-packages/pydantic/type_adapter.py\", line 228, in __init__\n",
      "    self._init_core_attrs(\n",
      "  File \"/Users/dev/Documents/iSpace/better-py/learn-py/.venv/lib/python3.12/site-packages/pydantic/type_adapter.py\", line 290, in _init_core_attrs\n",
      "    core_schema = schema_generator.generate_schema(self._type)\n",
      "                  ^^^^^^^^^^^^^^^^^^^^^^^^^^^^^^^^^^^^^^^^^^^^\n",
      "  File \"/Users/dev/Documents/iSpace/better-py/learn-py/.venv/lib/python3.12/site-packages/pydantic/_internal/_generate_schema.py\", line 610, in generate_schema\n",
      "    schema = self._generate_schema_inner(obj)\n",
      "             ^^^^^^^^^^^^^^^^^^^^^^^^^^^^^^^^\n",
      "  File \"/Users/dev/Documents/iSpace/better-py/learn-py/.venv/lib/python3.12/site-packages/pydantic/_internal/_generate_schema.py\", line 863, in _generate_schema_inner\n",
      "    return self._annotated_schema(obj)\n",
      "           ^^^^^^^^^^^^^^^^^^^^^^^^^^^\n",
      "  File \"/Users/dev/Documents/iSpace/better-py/learn-py/.venv/lib/python3.12/site-packages/pydantic/_internal/_generate_schema.py\", line 1977, in _annotated_schema\n",
      "    schema = self._apply_annotations(source_type, annotations)\n",
      "             ^^^^^^^^^^^^^^^^^^^^^^^^^^^^^^^^^^^^^^^^^^^^^^^^^\n",
      "  File \"/Users/dev/Documents/iSpace/better-py/learn-py/.venv/lib/python3.12/site-packages/pydantic/_internal/_generate_schema.py\", line 2056, in _apply_annotations\n",
      "    schema = get_inner_schema(source_type)\n",
      "             ^^^^^^^^^^^^^^^^^^^^^^^^^^^^^\n",
      "  File \"/Users/dev/Documents/iSpace/better-py/learn-py/.venv/lib/python3.12/site-packages/pydantic/_internal/_schema_generation_shared.py\", line 84, in __call__\n",
      "    schema = self._handler(source_type)\n",
      "             ^^^^^^^^^^^^^^^^^^^^^^^^^^\n",
      "  File \"/Users/dev/Documents/iSpace/better-py/learn-py/.venv/lib/python3.12/site-packages/pydantic/_internal/_generate_schema.py\", line 2131, in new_handler\n",
      "    schema = metadata_get_schema(source, get_inner_schema)\n",
      "             ^^^^^^^^^^^^^^^^^^^^^^^^^^^^^^^^^^^^^^^^^^^^^\n",
      "  File \"/Users/dev/Documents/iSpace/better-py/learn-py/.venv/lib/python3.12/site-packages/pydantic/_internal/_generate_schema.py\", line 2127, in <lambda>\n",
      "    lambda source, handler: handler(source)\n",
      "                            ^^^^^^^^^^^^^^^\n",
      "  File \"/Users/dev/Documents/iSpace/better-py/learn-py/.venv/lib/python3.12/site-packages/pydantic/_internal/_schema_generation_shared.py\", line 84, in __call__\n",
      "    schema = self._handler(source_type)\n",
      "             ^^^^^^^^^^^^^^^^^^^^^^^^^^\n",
      "  File \"/Users/dev/Documents/iSpace/better-py/learn-py/.venv/lib/python3.12/site-packages/pydantic/_internal/_generate_schema.py\", line 2037, in inner_handler\n",
      "    schema = self._generate_schema_inner(obj)\n",
      "             ^^^^^^^^^^^^^^^^^^^^^^^^^^^^^^^^\n",
      "  File \"/Users/dev/Documents/iSpace/better-py/learn-py/.venv/lib/python3.12/site-packages/pydantic/_internal/_generate_schema.py\", line 884, in _generate_schema_inner\n",
      "    return self.match_type(obj)\n",
      "           ^^^^^^^^^^^^^^^^^^^^\n",
      "  File \"/Users/dev/Documents/iSpace/better-py/learn-py/.venv/lib/python3.12/site-packages/pydantic/_internal/_generate_schema.py\", line 986, in match_type\n",
      "    return self._match_generic_type(obj, origin)\n",
      "           ^^^^^^^^^^^^^^^^^^^^^^^^^^^^^^^^^^^^^\n",
      "  File \"/Users/dev/Documents/iSpace/better-py/learn-py/.venv/lib/python3.12/site-packages/pydantic/_internal/_generate_schema.py\", line 1014, in _match_generic_type\n",
      "    return self._union_schema(obj)\n",
      "           ^^^^^^^^^^^^^^^^^^^^^^^\n",
      "  File \"/Users/dev/Documents/iSpace/better-py/learn-py/.venv/lib/python3.12/site-packages/pydantic/_internal/_generate_schema.py\", line 1325, in _union_schema\n",
      "    choices.append(self.generate_schema(arg))\n",
      "                   ^^^^^^^^^^^^^^^^^^^^^^^^^\n",
      "  File \"/Users/dev/Documents/iSpace/better-py/learn-py/.venv/lib/python3.12/site-packages/pydantic/_internal/_generate_schema.py\", line 610, in generate_schema\n",
      "    schema = self._generate_schema_inner(obj)\n",
      "             ^^^^^^^^^^^^^^^^^^^^^^^^^^^^^^^^\n",
      "  File \"/Users/dev/Documents/iSpace/better-py/learn-py/.venv/lib/python3.12/site-packages/pydantic/_internal/_generate_schema.py\", line 884, in _generate_schema_inner\n",
      "    return self.match_type(obj)\n",
      "           ^^^^^^^^^^^^^^^^^^^^\n",
      "  File \"/Users/dev/Documents/iSpace/better-py/learn-py/.venv/lib/python3.12/site-packages/pydantic/_internal/_generate_schema.py\", line 995, in match_type\n",
      "    return self._unknown_type_schema(obj)\n",
      "           ^^^^^^^^^^^^^^^^^^^^^^^^^^^^^^\n",
      "  File \"/Users/dev/Documents/iSpace/better-py/learn-py/.venv/lib/python3.12/site-packages/pydantic/_internal/_generate_schema.py\", line 513, in _unknown_type_schema\n",
      "    raise PydanticSchemaGenerationError(\n",
      "pydantic.errors.PydanticSchemaGenerationError: Unable to generate pydantic-core schema for <class 'starlette.requests.Request'>. Set `arbitrary_types_allowed=True` in the model_config to ignore this error or implement `__get_pydantic_core_schema__` on your type to fully support it.\n",
      "\n",
      "If you got this error by calling handler(<some type>) within `__get_pydantic_core_schema__` then you likely need to call `handler.generate_schema(<some type>)` since we do not call `__get_pydantic_core_schema__` on `<some type>` otherwise to avoid infinite recursion.\n",
      "\n",
      "For further information visit https://errors.pydantic.dev/2.10/u/schema-for-unknown-type\n"
     ]
    }
   ],
   "source": [
    "import gradio as gr\n",
    "\n",
    "\n",
    "def greet(name):\n",
    "    return \"Hello \" + name + \"!\"\n",
    "\n",
    "\n",
    "demo = gr.Interface(fn=greet, inputs=\"text\", outputs=\"text\")\n",
    "demo.launch()"
   ]
  },
  {
   "cell_type": "code",
   "execution_count": null,
   "metadata": {},
   "outputs": [],
   "source": []
  }
 ],
 "metadata": {
  "kernelspec": {
   "display_name": ".venv",
   "language": "python",
   "name": "python3"
  },
  "language_info": {
   "codemirror_mode": {
    "name": "ipython",
    "version": 3
   },
   "file_extension": ".py",
   "mimetype": "text/x-python",
   "name": "python",
   "nbconvert_exporter": "python",
   "pygments_lexer": "ipython3",
   "version": "3.12.7"
  }
 },
 "nbformat": 4,
 "nbformat_minor": 2
}
