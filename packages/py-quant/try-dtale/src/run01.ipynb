{
 "cells": [
  {
   "cell_type": "markdown",
   "metadata": {},
   "source": [
    "# dtale\n",
    "\n",
    "- 数据显示工具\n",
    "\n",
    "\n",
    "\n",
    "## References\n",
    "\n",
    "- https://github.com/man-group/dtale\n",
    "- https://zhuanlan.zhihu.com/p/684936226"
   ]
  },
  {
   "cell_type": "code",
   "execution_count": 13,
   "metadata": {},
   "outputs": [
    {
     "data": {
      "text/html": [
       "\n",
       "        <iframe\n",
       "            width=\"100%\"\n",
       "            height=\"475\"\n",
       "            src=\"http://localhost:40000/dtale/iframe/13\"\n",
       "            frameborder=\"0\"\n",
       "            allowfullscreen\n",
       "            \n",
       "        ></iframe>\n",
       "        "
      ],
      "text/plain": [
       "<IPython.lib.display.IFrame at 0x1690bc7a0>"
      ]
     },
     "metadata": {},
     "output_type": "display_data"
    },
    {
     "data": {
      "text/plain": []
     },
     "execution_count": 13,
     "metadata": {},
     "output_type": "execute_result"
    }
   ],
   "source": [
    "import pandas as pd\n",
    "\n",
    "import dtale\n",
    "\n",
    "\n",
    "df = pd.DataFrame([dict(a=1,b=2,c=3)])\n",
    "\n",
    "# Assigning a reference to a running D-Tale process.\n",
    "d = dtale.show(df)\n",
    "\n",
    "d\n"
   ]
  },
  {
   "cell_type": "code",
   "execution_count": 14,
   "metadata": {},
   "outputs": [
    {
     "data": {
      "text/html": [
       "\n",
       "        <iframe\n",
       "            width=\"100%\"\n",
       "            height=\"475\"\n",
       "            src=\"http://localhost:40000/dtale/iframe/14\"\n",
       "            frameborder=\"0\"\n",
       "            allowfullscreen\n",
       "            \n",
       "        ></iframe>\n",
       "        "
      ],
      "text/plain": [
       "<IPython.lib.display.IFrame at 0x174469d60>"
      ]
     },
     "metadata": {},
     "output_type": "display_data"
    },
    {
     "name": "stdout",
     "output_type": "stream",
     "text": [
      "\n",
      "http://localhost:40000/dtale/main/14\n"
     ]
    }
   ],
   "source": [
    "# 导入必要的库\n",
    "import pandas as pd\n",
    "import dtale\n",
    "\n",
    "# 创建一个简单的 DataFrame 来模拟武侠世界中的角色数据\n",
    "data = {\n",
    "    \"角色名\": [\"张无忌\", \"令狐冲\", \"黄蓉\", \"郭靖\"],\n",
    "    \"门派\": [\"明教\", \"华山派\", \"桃花岛\", \"无固定门派\"],\n",
    "    \"武功\": [\"乾坤大挪移\", \"独孤九剑\", \"打狗棒法\", \"降龙十八掌\"],\n",
    "    \"忠诚度\": [95, 90, 85, 100]\n",
    "}\n",
    "\n",
    "# 使用 pandas 创建 DataFrame\n",
    "df = pd.DataFrame(data)\n",
    "\n",
    "# 使用 D-Tale 查看 DataFrame\n",
    "d = dtale.show(df)\n",
    "\n",
    "print(d)\n",
    "\n",
    "# 打印出 D-Tale 会话的 URL，你可以复制这个链接到浏览器中查看交互式界面\n",
    "d.main_url()"
   ]
  }
 ],
 "metadata": {
  "kernelspec": {
   "display_name": ".venv",
   "language": "python",
   "name": "python3"
  },
  "language_info": {
   "codemirror_mode": {
    "name": "ipython",
    "version": 3
   },
   "file_extension": ".py",
   "mimetype": "text/x-python",
   "name": "python",
   "nbconvert_exporter": "python",
   "pygments_lexer": "ipython3",
   "version": "3.12.7"
  }
 },
 "nbformat": 4,
 "nbformat_minor": 2
}
