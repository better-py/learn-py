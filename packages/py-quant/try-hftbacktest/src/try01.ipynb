{
 "cells": [
  {
   "metadata": {},
   "cell_type": "markdown",
   "source": [
    "# hftbacktest\n",
    "\n",
    "\n",
    "## 下载数据\n",
    "\n",
    "- https://github.com/nkaz001/hftbacktest/tree/6bcae676da517bec6486ddc0d0a7cfe702888679/examples/mexc/btcusdt_20250126.gz\n",
    "- \n",
    "```\n",
    "wget --recursive --no-parent --level=1 \\\n",
    "     https://raw.githubusercontent.com/nkaz001/hftbacktest/tree/examples/mexc/ -o tmp/mexc/\n",
    "```\n"
   ],
   "id": "5292fae126283d24"
  },
  {
   "metadata": {},
   "cell_type": "markdown",
   "source": "## 运行脚本",
   "id": "184d8b6f2b7d9aa0"
  },
  {
   "metadata": {
    "ExecuteTime": {
     "end_time": "2025-02-24T11:33:43.012100Z",
     "start_time": "2025-02-24T11:33:41.582264Z"
    }
   },
   "cell_type": "code",
   "source": [
    "import os\n",
    "\n",
    "import numpy as np\n",
    "from hftbacktest import BacktestAsset, HashMapMarketDepthBacktest\n",
    "from hftbacktest.data.utils import mexc\n",
    "from numba import njit\n",
    "\n",
    "\n",
    "@njit\n",
    "def market_making_algo(hbt):\n",
    "    count = 1\n",
    "    while hbt.elapse(2.5e8) == 0 and count < 10:\n",
    "        depth = hbt.depth(0)\n",
    "\n",
    "        # Prints the best bid and the best offer.\n",
    "        print(\n",
    "            'current_timestamp:', hbt.current_timestamp,\n",
    "            ', best_bid:', np.round(depth.best_bid, 1),\n",
    "            ', best_ask:', np.round(depth.best_ask, 1)\n",
    "        )\n",
    "        count += 1\n",
    "\n",
    "    return True\n",
    "\n",
    "\n",
    "if __name__ == '__main__':\n",
    "    current = os.getcwd()\n",
    "    print(f\"Current: {current}\")\n",
    "\n",
    "    data = mexc.convert(\n",
    "        input_filename=\"../tmp/mexc/btcusdt_20250126.gz\",\n",
    "    )\n",
    "\n",
    "    asset = (\n",
    "        BacktestAsset()\n",
    "        .data(data)\n",
    "        .linear_asset(1.0)\n",
    "        .power_prob_queue_model(2.0)\n",
    "        .no_partial_fill_exchange()\n",
    "        .trading_value_fee_model(-0.00005, 0.0007)\n",
    "        .tick_size(0.1)\n",
    "        .lot_size(0.001)\n",
    "    )\n",
    "\n",
    "    hbt = HashMapMarketDepthBacktest([asset])\n",
    "    ret = market_making_algo(hbt)\n",
    "    print(ret)\n",
    "\n"
   ],
   "id": "ddca1c830187eb2",
   "outputs": [
    {
     "name": "stdout",
     "output_type": "stream",
     "text": [
      "Current: /Users/dev/Documents/iSpace/better-py/learn-py/packages/py-quant/try-hftbacktest/src\n",
      "Correcting the latency\n",
      "Correcting the event order\n",
      "current_timestamp: 1737892323570999936 , best_bid: 104698.7 , best_ask: 104706.0\n",
      "current_timestamp: 1737892323820999936 , best_bid: 104702.3 , best_ask: 104702.4\n",
      "current_timestamp: 1737892324070999936 , best_bid: 104702.3 , best_ask: 104702.4\n",
      "current_timestamp: 1737892324320999936 , best_bid: 104702.3 , best_ask: 104702.4\n",
      "current_timestamp: 1737892324570999936 , best_bid: 104702.3 , best_ask: 104702.4\n",
      "current_timestamp: 1737892324820999936 , best_bid: 104702.3 , best_ask: 104702.4\n",
      "current_timestamp: 1737892325070999936 , best_bid: 104702.3 , best_ask: 104702.4\n",
      "current_timestamp: 1737892325320999936 , best_bid: 104702.3 , best_ask: 104702.4\n",
      "current_timestamp: 1737892325570999936 , best_bid: 104702.3 , best_ask: 104702.4\n",
      "True\n"
     ]
    }
   ],
   "execution_count": 22
  },
  {
   "metadata": {
    "ExecuteTime": {
     "end_time": "2025-02-24T11:35:31.770681Z",
     "start_time": "2025-02-24T11:35:30.913045Z"
    }
   },
   "cell_type": "code",
   "source": [
    "# 根据这个数据, 绘制图像\n",
    "\n",
    "import pandas as pd\n",
    "from matplotlib import pyplot as plt\n",
    "\n",
    "df = pd.DataFrame(data)\n",
    "\n",
    "# 打印数据结构\n",
    "print(df.head())\n",
    "\n",
    "df['datetime'] = pd.to_datetime(df['exch_ts'], unit=\"ns\")\n",
    "df.set_index('datetime', inplace=True)\n",
    "\n",
    "fig, ax = plt.subplots()\n",
    "df[['px', ]].plot(ax=ax)\n",
    "plt.show()\n"
   ],
   "id": "854da3e0f0bc7041",
   "outputs": [
    {
     "name": "stdout",
     "output_type": "stream",
     "text": [
      "           ev              exch_ts             local_ts         px       qty  \\\n",
      "0  3489660929  1737892323320999936  1737892323412485120  104906.19  0.000000   \n",
      "1  2684354561  1737892323321999872  1737892323412538112  104491.60  0.884644   \n",
      "2  3489660929  1737892323323000064  1737892323412486912  104953.54  0.000000   \n",
      "3  3489660929  1737892323323000064  1737892323412506880  104915.34  0.958457   \n",
      "4  3758096385  1737892323323000064  1737892323412520960  104484.78  0.000000   \n",
      "\n",
      "   order_id  ival  fval  \n",
      "0         0     0   0.0  \n",
      "1         0     0   0.0  \n",
      "2         0     0   0.0  \n",
      "3         0     0   0.0  \n",
      "4         0     0   0.0  \n"
     ]
    },
    {
     "data": {
      "text/plain": [
       "<Figure size 640x480 with 1 Axes>"
      ],
      "image/png": "[encoded data removed]"
     },
     "metadata": {},
     "output_type": "display_data"
    }
   ],
   "execution_count": 25
  },
  {
   "metadata": {},
   "cell_type": "code",
   "source": "",
   "id": "11fcf8618bdac536",
   "outputs": [],
   "execution_count": null
  }
 ],
 "metadata": {
  "kernelspec": {
   "display_name": "Python 3",
   "language": "python",
   "name": "python3"
  },
  "language_info": {
   "codemirror_mode": {
    "name": "ipython",
    "version": 2
   },
   "file_extension": ".py",
   "mimetype": "text/x-python",
   "name": "python",
   "nbconvert_exporter": "python",
   "pygments_lexer": "ipython2",
   "version": "2.7.6"
  }
 },
 "nbformat": 4,
 "nbformat_minor": 5
}
