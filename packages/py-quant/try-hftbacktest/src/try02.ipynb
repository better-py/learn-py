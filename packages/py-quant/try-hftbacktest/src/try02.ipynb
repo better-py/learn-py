{
 "cells": [
  {
   "metadata": {},
   "cell_type": "markdown",
   "source": [
    "# 示例\n",
    "\n",
    "\n",
    "- https://hftbacktest.readthedocs.io/en/latest/tutorials/Integrating%20Custom%20Data.html\n",
    "\n",
    "## 数据下载\n",
    "\n",
    "- https://github.com/nkaz001/hftbacktest/tree/6bcae676da517bec6486ddc0d0a7cfe702888679/examples/spot\n",
    "\n"
   ],
   "id": "3d9addf7ea0a58d5"
  },
  {
   "metadata": {
    "ExecuteTime": {
     "end_time": "2025-02-24T12:13:09.515025Z",
     "start_time": "2025-02-24T12:13:09.327850Z"
    }
   },
   "cell_type": "code",
   "source": [
    "\n",
    "import gzip\n",
    "import json\n",
    "\n",
    "import numpy as np\n",
    "\n",
    "spot = np.full((100_000, 2), np.nan, np.float64)\n",
    "i = 0\n",
    "\n",
    "with gzip.open('../tmp/spot/btcusdt_20240809.gz', 'r') as f:\n",
    "    while True:\n",
    "        line = f.readline()\n",
    "        if line is None or line == b'':\n",
    "            break\n",
    "\n",
    "        line = line.decode().strip()\n",
    "        local_timestamp = int(line[:19])\n",
    "\n",
    "        obj = json.loads(line[20:])\n",
    "        if obj['stream'] == 'btcusdt@bookTicker':\n",
    "            data = obj['data']\n",
    "            mid = (float(data['b']) + float(data['a'])) / 2.0\n",
    "            mid = round(mid, 3)  # 保留2位小数\n",
    "            spot[i] = [local_timestamp, mid]\n",
    "            i += 1\n",
    "\n",
    "            if i < 6:\n",
    "                print(f\" {i} > ({local_timestamp} , {mid})\")\n",
    "\n",
    "spot = spot[:i]\n",
    "\n",
    "\n",
    "\n",
    "\n"
   ],
   "id": "17aaf615200ff5e0",
   "outputs": [
    {
     "name": "stdout",
     "output_type": "stream",
     "text": [
      " 1 > (1723161600001692584 , 61685.995)\n",
      " 2 > (1723161600103661785 , 61685.995)\n",
      " 3 > (1723161600146824385 , 61685.995)\n",
      " 4 > (1723161600164338685 , 61685.995)\n",
      " 5 > (1723161600224778985 , 61685.995)\n"
     ]
    }
   ],
   "execution_count": 27
  },
  {
   "metadata": {},
   "cell_type": "code",
   "source": "",
   "id": "566488af9d2b6465",
   "outputs": [],
   "execution_count": null
  },
  {
   "metadata": {},
   "cell_type": "code",
   "source": "",
   "id": "396ea974d057d846",
   "outputs": [],
   "execution_count": null
  }
 ],
 "metadata": {
  "kernelspec": {
   "display_name": "Python 3",
   "language": "python",
   "name": "python3"
  },
  "language_info": {
   "codemirror_mode": {
    "name": "ipython",
    "version": 2
   },
   "file_extension": ".py",
   "mimetype": "text/x-python",
   "name": "python",
   "nbconvert_exporter": "python",
   "pygments_lexer": "ipython2",
   "version": "2.7.6"
  }
 },
 "nbformat": 4,
 "nbformat_minor": 5
}
