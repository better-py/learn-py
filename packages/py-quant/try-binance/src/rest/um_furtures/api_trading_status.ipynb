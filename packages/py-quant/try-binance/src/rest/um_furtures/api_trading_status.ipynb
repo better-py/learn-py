{
 "cells": [
  {
   "cell_type": "markdown",
   "metadata": {},
   "source": [
    "# reference\n",
    "\n",
    "- https://github.com/binance/binance-futures-connector-python/blob/main/examples/um_futures/trade/get_api_trading_status.py"
   ]
  },
  {
   "cell_type": "code",
   "execution_count": 1,
   "metadata": {},
   "outputs": [],
   "source": [
    "import os\n",
    "from pathlib import Path  # Python 3.6+ only\n",
    "\n",
    "# Example from https://pypi.org/project/python-dotenv/\n",
    "from dotenv import load_dotenv\n",
    "\n",
    "# current directory\n",
    "cur_dir = os.getcwd()\n",
    "project_dir = cur_dir.split(\"/packages/py-quant/try-binance/src/rest\")[0]\n",
    "env_path = Path(project_dir) / \".env\"\n",
    "\n",
    "# load env file\n",
    "load_dotenv(dotenv_path=env_path)\n",
    "\n",
    "# api key & secret\n",
    "api_key = os.environ.get(\"BINANCE_API_KEY\")\n",
    "api_secret = os.environ.get(\"BINANCE_API_SECRET\")\n",
    "\n",
    "key = api_key\n",
    "secret = api_secret\n",
    "\n",
    "# print(api_key)\n",
    "# print(api_secret)"
   ]
  },
  {
   "cell_type": "code",
   "execution_count": 4,
   "metadata": {},
   "outputs": [
    {
     "name": "stderr",
     "output_type": "stream",
     "text": [
      "2025-03-10 09:35:38.684 UTC DEBUG binance.api: url: https://fapi.binance.com/fapi/v1/apiTradingStatus\n",
      "2025-03-10 09:35:38.685 UTC DEBUG urllib3.connectionpool: Starting new HTTPS connection (1): fapi.binance.com:443\n",
      "2025-03-10 09:35:38.885 UTC DEBUG urllib3.connectionpool: https://fapi.binance.com:443 \"GET /fapi/v1/apiTradingStatus?recvWindow=6000&timestamp=1741599338683&signature=610865870ee9d50f3c3b91a53f6ee1c7eb3a9fc2523155c835424ec960f1d237 HTTP/1.1\" 200 44\n",
      "2025-03-10 09:35:38.886 UTC DEBUG binance.api: raw response from server:{\"indicators\":{},\"updateTime\":1741599338925}\n",
      "2025-03-10 09:35:38.886 UTC INFO root: {'indicators': {}, 'updateTime': 1741599338925}\n"
     ]
    }
   ],
   "source": [
    "#!/usr/bin/env python\n",
    "import logging\n",
    "from binance.um_futures import UMFutures\n",
    "from binance.lib.utils import config_logging\n",
    "from binance.error import ClientError\n",
    "import pandas as pd\n",
    "\n",
    "\n",
    "config_logging(logging, logging.DEBUG)\n",
    "\n",
    "\n",
    "# key = \"\"\n",
    "# secret = \"\"\n",
    "assert key and secret\n",
    "\n",
    "um_futures_client = UMFutures(key=key, secret=secret)\n",
    "\n",
    "try:\n",
    "    response = um_futures_client.api_trading_status(recvWindow=6000)\n",
    "    logging.info(response)\n",
    "except ClientError as error:\n",
    "    logging.error(\n",
    "        \"Found error. status: {}, error code: {}, error message: {}\".format(\n",
    "            error.status_code, error.error_code, error.error_message\n",
    "        )\n",
    "    )"
   ]
  }
 ],
 "metadata": {
  "kernelspec": {
   "display_name": ".venv",
   "language": "python",
   "name": "python3"
  },
  "language_info": {
   "codemirror_mode": {
    "name": "ipython",
    "version": 3
   },
   "file_extension": ".py",
   "mimetype": "text/x-python",
   "name": "python",
   "nbconvert_exporter": "python",
   "pygments_lexer": "ipython3",
   "version": "3.12.7"
  }
 },
 "nbformat": 4,
 "nbformat_minor": 2
}
