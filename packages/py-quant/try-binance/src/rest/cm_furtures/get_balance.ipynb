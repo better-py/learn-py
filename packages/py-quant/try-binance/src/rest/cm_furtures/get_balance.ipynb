{
 "cells": [
  {
   "cell_type": "markdown",
   "metadata": {},
   "source": [
    "# reference\n",
    "\n",
    "- https://github.com/binance/binance-futures-connector-python/blob/main/examples/um_futures/trade/get_api_trading_status.py"
   ]
  },
  {
   "cell_type": "code",
   "execution_count": 1,
   "metadata": {},
   "outputs": [],
   "source": [
    "import os\n",
    "from pathlib import Path  # Python 3.6+ only\n",
    "\n",
    "# Example from https://pypi.org/project/python-dotenv/\n",
    "from dotenv import load_dotenv\n",
    "\n",
    "# current directory\n",
    "cur_dir = os.getcwd()\n",
    "project_dir = cur_dir.split(\"/packages/py-quant/try-binance/src/rest\")[0]\n",
    "env_path = Path(project_dir) / \".env\"\n",
    "\n",
    "# load env file\n",
    "load_dotenv(dotenv_path=env_path)\n",
    "\n",
    "# api key & secret\n",
    "api_key = os.environ.get(\"BINANCE_API_KEY\")\n",
    "api_secret = os.environ.get(\"BINANCE_API_SECRET\")\n",
    "\n",
    "key = api_key\n",
    "secret = api_secret\n",
    "\n",
    "# print(api_key)\n",
    "# print(api_secret)"
   ]
  },
  {
   "cell_type": "code",
   "execution_count": 2,
   "metadata": {},
   "outputs": [],
   "source": [
    "#!/usr/bin/env python\n",
    "import logging\n",
    "from binance.cm_futures import CMFutures\n",
    "from binance.lib.utils import config_logging\n",
    "from binance.error import ClientError\n",
    "\n",
    "config_logging(logging, logging.INFO)  # DEBUG\n",
    "\n",
    "# key = \"\"\n",
    "# secret = \"\"\n",
    "assert key and secret\n",
    "\n",
    "client = CMFutures(key=key, secret=secret)\n",
    "\n",
    "try:\n",
    "    response = client.balance(recvWindow=6000)\n",
    "    # logging.info(response)\n",
    "except ClientError as error:\n",
    "    logging.error(\n",
    "        \"Found error. status: {}, error code: {}, error message: {}\".format(\n",
    "            error.status_code, error.error_code, error.error_message\n",
    "        )\n",
    "    )"
   ]
  },
  {
   "cell_type": "code",
   "execution_count": 3,
   "metadata": {},
   "outputs": [
    {
     "data": {
      "text/html": [
       "<div>\n",
       "<style scoped>\n",
       "    .dataframe tbody tr th:only-of-type {\n",
       "        vertical-align: middle;\n",
       "    }\n",
       "\n",
       "    .dataframe tbody tr th {\n",
       "        vertical-align: top;\n",
       "    }\n",
       "\n",
       "    .dataframe thead th {\n",
       "        text-align: right;\n",
       "    }\n",
       "</style>\n",
       "<table border=\"1\" class=\"dataframe\">\n",
       "  <thead>\n",
       "    <tr style=\"text-align: right;\">\n",
       "      <th></th>\n",
       "      <th>asset</th>\n",
       "      <th>balance</th>\n",
       "      <th>availableBalance</th>\n",
       "      <th>updateAt</th>\n",
       "    </tr>\n",
       "  </thead>\n",
       "  <tbody>\n",
       "    <tr>\n",
       "      <th>0</th>\n",
       "      <td>DOT</td>\n",
       "      <td>88.71909777</td>\n",
       "      <td>88.71909777</td>\n",
       "      <td>2023-02-13 22:43:51.167</td>\n",
       "    </tr>\n",
       "    <tr>\n",
       "      <th>20</th>\n",
       "      <td>BNB</td>\n",
       "      <td>0.20000000</td>\n",
       "      <td>0.20000000</td>\n",
       "      <td>2022-02-18 18:02:19.420</td>\n",
       "    </tr>\n",
       "    <tr>\n",
       "      <th>24</th>\n",
       "      <td>DOGE</td>\n",
       "      <td>88.59914800</td>\n",
       "      <td>88.59914800</td>\n",
       "      <td>2023-02-13 22:44:30.692</td>\n",
       "    </tr>\n",
       "    <tr>\n",
       "      <th>29</th>\n",
       "      <td>LTC</td>\n",
       "      <td>0.50473692</td>\n",
       "      <td>0.50473692</td>\n",
       "      <td>2021-03-21 02:34:33.098</td>\n",
       "    </tr>\n",
       "  </tbody>\n",
       "</table>\n",
       "</div>"
      ],
      "text/plain": [
       "   asset      balance availableBalance                updateAt\n",
       "0    DOT  88.71909777      88.71909777 2023-02-13 22:43:51.167\n",
       "20   BNB   0.20000000       0.20000000 2022-02-18 18:02:19.420\n",
       "24  DOGE  88.59914800      88.59914800 2023-02-13 22:44:30.692\n",
       "29   LTC   0.50473692       0.50473692 2021-03-21 02:34:33.098"
      ]
     },
     "execution_count": 3,
     "metadata": {},
     "output_type": "execute_result"
    }
   ],
   "source": [
    "import pandas as pd\n",
    "\n",
    "df = pd.DataFrame(response)\n",
    "\n",
    "# 把 updateTime 时间戳转换为日期格式\n",
    "df[\"updateAt\"] = pd.to_datetime(df[\"updateTime\"], unit=\"ms\")\n",
    "\n",
    "# 筛选掉 balance 为 0 的资产\n",
    "df = df[df[\"balance\"] != \"0.00000000\"]\n",
    "\n",
    "# 不显示 accountAlias 和 updateTime 列\n",
    "# 此时只显示了部分列（还有一些列，未展示）\n",
    "df = df[[\"asset\", \"balance\", \"availableBalance\", \"updateAt\"]]\n",
    "\n",
    "df"
   ]
  }
 ],
 "metadata": {
  "kernelspec": {
   "display_name": ".venv",
   "language": "python",
   "name": "python3"
  },
  "language_info": {
   "codemirror_mode": {
    "name": "ipython",
    "version": 3
   },
   "file_extension": ".py",
   "mimetype": "text/x-python",
   "name": "python",
   "nbconvert_exporter": "python",
   "pygments_lexer": "ipython3",
   "version": "3.12.7"
  }
 },
 "nbformat": 4,
 "nbformat_minor": 2
}
