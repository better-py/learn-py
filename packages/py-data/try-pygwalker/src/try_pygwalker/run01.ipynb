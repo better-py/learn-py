{
 "cells": [
  {
   "cell_type": "markdown",
   "metadata": {},
   "source": [
    "# pygwalker\n",
    "\n",
    "\n"
   ]
  },
  {
   "cell_type": "code",
   "execution_count": 4,
   "metadata": {},
   "outputs": [
    {
     "name": "stdout",
     "output_type": "stream",
     "text": [
      "IMPORTANT: You are using gradio version 4.26.0, however version 4.44.1 is available, please upgrade.\n",
      "--------\n",
      "Running on local URL:  http://127.0.0.1:7862\n",
      "\n",
      "To create a public link, set `share=True` in `launch()`.\n"
     ]
    },
    {
     "data": {
      "text/html": [
       "<div><iframe src=\"http://127.0.0.1:7862/\" width=\"100%\" height=\"500\" allow=\"autoplay; camera; microphone; clipboard-read; clipboard-write;\" frameborder=\"0\" allowfullscreen></iframe></div>"
      ],
      "text/plain": [
       "<IPython.core.display.HTML object>"
      ]
     },
     "metadata": {},
     "output_type": "display_data"
    }
   ],
   "source": [
    "import os\n",
    "\n",
    "import gradio as gr\n",
    "import pandas as pd\n",
    "from loguru import logger\n",
    "from pygwalker.api.gradio import PYGWALKER_ROUTE, get_html_on_gradio\n",
    "\n",
    "with gr.Blocks() as demo:\n",
    "    # logger.debug(f\"{os.getcwd()}\")\n",
    "\n",
    "    df = pd.read_csv(\n",
    "        \"https://kanaries-app.s3.ap-northeast-1.amazonaws.com/public-datasets/bike_sharing_dc.csv\"\n",
    "    )\n",
    "\n",
    "    cur = os.getcwd()\n",
    "    fp = os.path.join(cur, \"../../\", \"tmp/gw_data.csv\")\n",
    "    f_cfg = os.path.join(cur, \"../../\", \"tmp/gw_config.json\")\n",
    "\n",
    "    # save csv file\n",
    "    df.to_csv(f\"{fp}\", index=False)\n",
    "\n",
    "    if not os.path.exists(f_cfg):\n",
    "        # touch file\n",
    "        # open(filename, 'a').close()\n",
    "        os.makedirs(os.path.dirname(f_cfg), exist_ok=True)\n",
    "\n",
    "    pyg_html = get_html_on_gradio(df, spec=f_cfg, spec_io_mode=\"rw\")\n",
    "    gr.HTML(pyg_html)\n",
    "\n",
    "app = demo.launch(app_kwargs={\"routes\": [PYGWALKER_ROUTE]})"
   ]
  }
 ],
 "metadata": {
  "kernelspec": {
   "display_name": ".venv",
   "language": "python",
   "name": "python3"
  },
  "language_info": {
   "codemirror_mode": {
    "name": "ipython",
    "version": 3
   },
   "file_extension": ".py",
   "mimetype": "text/x-python",
   "name": "python",
   "nbconvert_exporter": "python",
   "pygments_lexer": "ipython3",
   "version": "3.12.7"
  }
 },
 "nbformat": 4,
 "nbformat_minor": 2
}
