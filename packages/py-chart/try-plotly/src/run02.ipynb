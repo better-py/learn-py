{
 "cells": [
  {
   "cell_type": "markdown",
   "metadata": {},
   "source": [
    "# k 线图\n",
    "\n",
    "- https://plotly.com/python/candlestick-charts/"
   ]
  },
  {
   "cell_type": "code",
   "execution_count": 1,
   "metadata": {},
   "outputs": [
    {
     "data": {
      "application/vnd.plotly.v1+json": {
       "config": {
        "plotlyServerURL": "https://plot.ly"
       },
       "data": [
        {
         "close": {
          "bdata": "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",
          "dtype": "f8"
         },
         "high": {
          "bdata": "Ieo+ACkcYEA1fXbA9RhgQDV9dsD1IGBAAAAAAAAwYEAAAAAAAKBgQOxsyD8zs2BA7GzIPzNzYEDfFcH/1ltgQLfvUX89UmBANX12wPVIYEBBuW3fozBgQGr67IDrMWBAAAAAAAAYYEDfFcH/1itgQLfvUX89MmBAlgUTfxTOX0ApQX+hRzFfQGoV/aGZOV9AahX9oZlZX0AUkzfAzDxfQBSuR+F61F9AVWe1wB4lYEAAAAAAAChgQBSTN8DMDGBAluoCXmb2X0A1YmafRwFgQBSuR+F6tF9AAOXv3lE4X0AUkzfAzCxfQGoV/aGZmV9Av0aSIFyfX0AAGxAhrkdfQNP02QHXY19AQblt36PgX0DfFcH/1gNgQGoV/aGZmV9AVWe1wB6lX0BVTKWfcM1fQLfvUX89EmBAq7NaYI/SX0AA5e/eUchfQJbqAl5mxl9AQZ5dvvWIX0DfFcH/1gNgQIrJG2BmBmBA3xXB/9YbYEBVTKWfcE1gQCHqPgApVGBAIeo+ACmkYEA1YmafR9FgQKuYSj/hcmBAIM8u33oUYEAh6j4AKURgQLfvUX89UmBAiskbYGYOYEAAAAAAALBfQFVntcAehV9AABsQIa7nX0DT9NkB1+NfQADl795RuF9ALQsm/ijMX0CKyRtgZh5gQAw89x6uL2BAy4KJPwpXYEAh6j4AKVxgQL9GkiBcX2BAIeo+ACl0YEDLgok/Cp9gQFVntcAenWBA9MMI4VGIYECKyRtgZn5gQIrJG2BmbmBAIM8u33psYEBVZ7XAHlVgQJYFE38UXmBAq7NaYI9SYECWBRN/FDZgQMudmWC4JmBAq7NaYI8CYECrmEo/4SpgQEkQroDCRWBAq7NaYI8KYEC/RpIgXM9fQJbqAl5m9l9AAOXv3lH4X0Bq+uyA6wlgQBSuR+F69F9AavrsgOsBYEC/YaJBCudfQHY25J+ZOWBAiskbYGYmYEC/RpIgXP9fQJYFE38Unl9AABsQIa6HX0AtCyb+KLxfQC0LJv4orF9A176AXriOX0BqFf2hmYlfQEGeXb71KF9A0/TZAdcDX0CW6gJeZvZeQEG5bd+jcF9AABsQIa6XX0BqFf2hmclfQLfvUX89EmBA3xXB/9YzYEDLgok/Cp9gQFVMpZ9wnWBAAAAAAABgX0BVMZV+wsVfQL9GkiBcb19Av2GiQQrnXkCrzmqBPfpeQAAAAAAA4F5AFK5H4XqkXkBBnl2+9aheQBSuR+F6pF5AFJM3wMxsXUAtCyb+KFxdQAAAAAAAIF1AAAAAAAAQXUC/RpIgXP9dQOxRuB6Fi11Aq5hKP+HaXEBqFf2hmRldQNP02QHXE11AahX9oZlpXUAtCyb+KFxdQClBf6FHIV1AluoCXmaWXEBqFf2hmflbQOxsyD8zM1tAv2GiQQrHW0BBnl2+9XhbQL9GkiBcT1xA0/TZAddTXEBq+uyA66FcQADl795R+FtAVTGVfsIVXEBq+uyA6zFcQBSTN8DMnFtA0/TZAdcjXEApQX+hR4FcQGr67IDrUVxAVUyln3CNXEBBnl2+9ThdQGr67IDrIV1Aq7NaYI8iXUC/RpIgXB9dQOxsyD8zk1xAABsQIa7XXEDsUbgehYtcQJYFE38UrlxAAAAAAADgXEAtCyb+KCxdQBSuR+F6pFxAQblt36NgXECrs1pgj+JbQAAbECGuZ1tAQblt36PAW0AAGxAhrtdbQL9GkiBc71tAKUF/oUfxW0AtCyb+KIxbQGr67IDrEVxAAAAAAAAwXEAUkzfAzBxcQClBf6FH4VtAluoCXmYGXEAAAAAAAABcQAAAAAAA8FtAq5hKP+GKXEBVZ7XAHuVcQAAAAAAA4FxA176AXrjOXUAA5e/eUYhdQKuzWmCPIl1A7GzIPzPTXUAtCyb+KCxeQJYFE38UTl5Av2GiQQpXXkC/RpIgXN9eQBSuR+F69F5ALQsm/iisXkDT9NkB13NeQNP02QHXc15AFK5H4XqEXUCrmEo/4VpdQBSuR+F6NF1AFK5H4XrkXEC/RpIgXI9cQOxsyD8zw1xAv0aSIFxfXUAAAAAAAPBdQKuYSj/h+l1A176AXrjuXUCW6gJeZtZdQNe+gF64zl1Aq85qgT2aXUCrzmqBPdpdQNP02QHXs11Av2GiQQqHXUCrs1pgjzJdQAAAAAAA0F1Av2GiQQr3XUCW6gJeZqZdQC0LJv4obF1ALQsm/ig8XUBBnl2+9dhcQOxRuB6FK1xA7GzIPzMzXEC/RpIgXP9bQAAAAAAAEFxAKUF/oUdhW0AAGxAhrtdaQJYFE38U7lpAluoCXmY2W0AAAAAAAEBbQC0LJv4o7FpA7FG4HoVbW0AUkzfAzCxbQGr67IDrwVpAABsQIa5XWkCW6gJeZnZaQAAbECGul1lAAOXv3lEIWUC/YaJBCsdYQNP02QHXw1hALQsm/igsWUAtCyb+KExZQNe+gF64HllAVUyln3BtWEBqFf2hmalYQC0LJv4ojFhAAOXv3lF4WEBVTKWfcF1ZQGr67IDrYVlAAOXv3lE4WUAA5e/eUShYQClBf6FHoVdAVTGVfsJVWEBVTKWfcC1YQKuzWmCPAlhAVTGVfsI1WEBVZ7XAHlVYQKuYSj/hOlhAFJM3wMzsV0AtCyb+KPxXQJbqAl5mFlhAlgUTfxSuV0AAAAAAAKBXQJbqAl5mNlhAVUyln3CNWEBBnl2+9bhYQEG5bd+jMFhAahX9oZk5WEAAAAAAACBYQADl795RGFhAQblt36MwWEApQX+hR4FYQNe+gF64jlhAKUF/oUcxWUBBnl2+9ThZQFVMpZ9wbVlAAAAAAADwWUBVZ7XAHrVZQEG5bd+jcFlAVWe1wB5lWUC/RpIgXI9ZQGr67IDrkVlAq85qgT26WUDsUbgehUtaQNP02QHXk1pAlgUTfxSeWkAAAAAAAKBaQGoV/aGZ6VpAq7NaYI/SWkAUrkfhesRaQAAAAAAAkFpALQsm/iiMWkCrs1pgj/JaQKuYSj/hmltAahX9oZl5W0AAAAAAAIBbQC0LJv4oDFxA176AXriuW0DXvoBeuL5bQKuYSj/hmltAKUF/oUdxW0C/YaJBCqdbQAAAAAAAoFtAVTGVfsIVXEBBnl2+9RhcQOxsyD8zE1xAFJM3wMw8W0AAAAAAAABbQFUxlX7CBVtA7FG4HoW7WkDXvoBeuJ5aQGoV/aGZaVpA7GzIPzNTWkBVTKWfcK1YQADl795ReFhAlgUTfxSuV0BVZ7XAHoVXQL9GkiBc71dAahX9oZn5V0AUrkfheoRXQBSTN8DMXFdAKUF/oUdxV0AUrkfhemRXQBSuR+F6ZFdAavrsgOsxV0CrmEo/4epWQEGeXb71mFdAFJM3wMysV0BVTKWfcM1XQEGeXb71qFdA7FG4HoXbV0AtCyb+KExYQFUxlX7ChVhAv0aSIFzvWEDXvoBeuC5ZQJYFE38UHllAahX9oZkZWUCrs1pgj+JYQFUxlX7CdVhAKUF/oUeRWEBBnl2+9XhZQAAbECGu91hA0/TZAdfjWEC/RpIgXP9YQJbqAl5m1lhAABsQIa7HWEDXvoBeuJ5YQKvOaoE9mlhAAAAAAABwWEBqFf2hmSlYQBSuR+F6JFhAluoCXmYWWEBBnl2+9ThYQKuzWmCPElhAq85qgT2qV0DsbMg/M0NXQKvOaoE9aldA7GzIPzOjV0ApQX+hR/FXQJYFE38UHlhAahX9oZnZV0CrzmqBPepXQAAAAAAAIFhAQZ5dvvU4WEBqFf2hmWlYQBSTN8DMbFhAq5hKP+FqWEC/RpIgXL9YQOxsyD8z01hAAOXv3lEIWUAAAAAAAABZQFVMpZ9wHVlAAAAAAABAWUDsbMg/M9NYQFUxlX7CtVhAlgUTfxR+WECW6gJeZhZaQBSTN8DMHFpA7GzIPzMjWkBqFf2hmYlaQBSuR+F6hFpAVTGVfsJ1WkAAAAAAAIBaQGoV/aGZ6VpAABsQIa4XW0AtCyb+KDxbQGoV/aGZOVtA7FG4HoU7W0AtCyb+KBxbQKuzWmCPYltA176AXriOW0AAGxAhrldbQJbqAl5mZltALQsm/ihsW0CW6gJeZkZbQBSuR+F6VFtAAAAAAAAwW0AA5e/eUfhaQBSTN8DM/FpALQsm/ijcWkAAAAAAAKBaQBSuR+F6pFpA7GzIPzOzWkAAAAAAAABbQOxsyD8zE1tAQblt36MwW0ApQX+hR9FaQJYFE38UblpAlgUTfxRuWkCrs1pgjzJbQGr67IDrQVxA176AXrjuXEAA5e/eUQhdQOxRuB6FC11AABsQIa6HXEC/RpIgXH9cQC0LJv4ovFxAq7NaYI+yXEBBnl2+9VhcQOxRuB6FS1xAQZ5dvvWoXEDsbMg/M3NcQAAbECGuV1xA7GzIPzNDXEDT9NkB15NcQKvOaoE9alxAVTGVfsKVXEDT9NkB16NcQAAAAAAAMF1ALQsm/iisXUDXvoBeuH5dQC0LJv4oXF1Aq5hKP+GKXUBVMZV+wnVdQFVMpZ9wjV1AQblt36NwXUAA5e/eUVhdQKvOaoE9Ol1Av0aSIFxvXUC/YaJBCpddQBSTN8DM7FxAv2GiQQr3XEBVTKWfcM1cQNe+gF64jlxAKUF/oUdxXECW6gJeZhZcQFVMpZ9w3VtAAAAAAACQW0BBuW3fo6BbQJYFE38U7ltAFK5H4XrUW0BVMZV+wsVbQAAbECGuN1tA0/TZAdfzWkDsUbgehetaQNe+gF64jltAluoCXmaWW0Crs1pgj6JbQL9GkiBc/1tAq5hKP+EaXEBBuW3fo+BbQAAbECGu91tAlgUTfxQeXEBq+uyA6wFcQBSTN8DMDFxALQsm/ii8W0BVMZV+woVbQGr67IDrgVtAv2GiQQqXW0AtCyb+KMxbQOxRuB6FG1xAFJM3wMysXEAAAAAAAMBcQKuYSj/h+lxAFJM3wMwMXUDXvoBeuC5dQAAAAAAAIF1AAOXv3lFYXUAAAAAAAGBdQGoV/aGZWV1AQblt36MgXUApQX+hRyFdQOxsyD8zc11AKUF/oUeBXUC/YaJBCkddQBSTN8DMTF1AVWe1wB4VXUBBuW3foyBdQL9hokEKN11Aq85qgT2KXUDsUbgehdtdQADl795R2F1A7FG4HoX7XUDsbMg/M9NdQAAbECGu511Av0aSIFwPXkAAAAAAACBeQFUxlX7CBV5AFJM3wMwcXkDT9NkB1zNeQJbqAl5mBl5AluoCXmaGXkAtCyb+KJxeQJbqAl5mll5AAOXv3lFoXkBBnl2+9VheQAw89x6uT2BAIM8u33osYECWBRN/FCZgQAAAAAAAUGBAq5hKP+GCYEDLgok/CodgQIrJG2BmjmBAlgUTfxSeYEC371F/PbpgQKuYSj/h4mBAQblt36MIYUAUkzfAzPxgQA==",
          "dtype": "f8"
         },
         "low": {
          "bdata": "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",
          "dtype": "f8"
         },
         "open": {
          "bdata": "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",
          "dtype": "f8"
         },
         "type": "candlestick",
         "x": [
          "2015-02-17",
          "2015-02-18",
          "2015-02-19",
          "2015-02-20",
          "2015-02-23",
          "2015-02-24",
          "2015-02-25",
          "2015-02-26",
          "2015-02-27",
          "2015-03-02",
          "2015-03-03",
          "2015-03-04",
          "2015-03-05",
          "2015-03-06",
          "2015-03-09",
          "2015-03-10",
          "2015-03-11",
          "2015-03-12",
          "2015-03-13",
          "2015-03-16",
          "2015-03-17",
          "2015-03-18",
          "2015-03-19",
          "2015-03-20",
          "2015-03-23",
          "2015-03-24",
          "2015-03-25",
          "2015-03-26",
          "2015-03-27",
          "2015-03-30",
          "2015-03-31",
          "2015-04-01",
          "2015-04-02",
          "2015-04-06",
          "2015-04-07",
          "2015-04-08",
          "2015-04-09",
          "2015-04-10",
          "2015-04-13",
          "2015-04-14",
          "2015-04-15",
          "2015-04-16",
          "2015-04-17",
          "2015-04-20",
          "2015-04-21",
          "2015-04-22",
          "2015-04-23",
          "2015-04-24",
          "2015-04-27",
          "2015-04-28",
          "2015-04-29",
          "2015-04-30",
          "2015-05-01",
          "2015-05-04",
          "2015-05-05",
          "2015-05-06",
          "2015-05-07",
          "2015-05-08",
          "2015-05-11",
          "2015-05-12",
          "2015-05-13",
          "2015-05-14",
          "2015-05-15",
          "2015-05-18",
          "2015-05-19",
          "2015-05-20",
          "2015-05-21",
          "2015-05-22",
          "2015-05-26",
          "2015-05-27",
          "2015-05-28",
          "2015-05-29",
          "2015-06-01",
          "2015-06-02",
          "2015-06-03",
          "2015-06-04",
          "2015-06-05",
          "2015-06-08",
          "2015-06-09",
          "2015-06-10",
          "2015-06-11",
          "2015-06-12",
          "2015-06-15",
          "2015-06-16",
          "2015-06-17",
          "2015-06-18",
          "2015-06-19",
          "2015-06-22",
          "2015-06-23",
          "2015-06-24",
          "2015-06-25",
          "2015-06-26",
          "2015-06-29",
          "2015-06-30",
          "2015-07-01",
          "2015-07-02",
          "2015-07-06",
          "2015-07-07",
          "2015-07-08",
          "2015-07-09",
          "2015-07-10",
          "2015-07-13",
          "2015-07-14",
          "2015-07-15",
          "2015-07-16",
          "2015-07-17",
          "2015-07-20",
          "2015-07-21",
          "2015-07-22",
          "2015-07-23",
          "2015-07-24",
          "2015-07-27",
          "2015-07-28",
          "2015-07-29",
          "2015-07-30",
          "2015-07-31",
          "2015-08-03",
          "2015-08-04",
          "2015-08-05",
          "2015-08-06",
          "2015-08-07",
          "2015-08-10",
          "2015-08-11",
          "2015-08-12",
          "2015-08-13",
          "2015-08-14",
          "2015-08-17",
          "2015-08-18",
          "2015-08-19",
          "2015-08-20",
          "2015-08-21",
          "2015-08-24",
          "2015-08-25",
          "2015-08-26",
          "2015-08-27",
          "2015-08-28",
          "2015-08-31",
          "2015-09-01",
          "2015-09-02",
          "2015-09-03",
          "2015-09-04",
          "2015-09-08",
          "2015-09-09",
          "2015-09-10",
          "2015-09-11",
          "2015-09-14",
          "2015-09-15",
          "2015-09-16",
          "2015-09-17",
          "2015-09-18",
          "2015-09-21",
          "2015-09-22",
          "2015-09-23",
          "2015-09-24",
          "2015-09-25",
          "2015-09-28",
          "2015-09-29",
          "2015-09-30",
          "2015-10-01",
          "2015-10-02",
          "2015-10-05",
          "2015-10-06",
          "2015-10-07",
          "2015-10-08",
          "2015-10-09",
          "2015-10-12",
          "2015-10-13",
          "2015-10-14",
          "2015-10-15",
          "2015-10-16",
          "2015-10-19",
          "2015-10-20",
          "2015-10-21",
          "2015-10-22",
          "2015-10-23",
          "2015-10-26",
          "2015-10-27",
          "2015-10-28",
          "2015-10-29",
          "2015-10-30",
          "2015-11-02",
          "2015-11-03",
          "2015-11-04",
          "2015-11-05",
          "2015-11-06",
          "2015-11-09",
          "2015-11-10",
          "2015-11-11",
          "2015-11-12",
          "2015-11-13",
          "2015-11-16",
          "2015-11-17",
          "2015-11-18",
          "2015-11-19",
          "2015-11-20",
          "2015-11-23",
          "2015-11-24",
          "2015-11-25",
          "2015-11-27",
          "2015-11-30",
          "2015-12-01",
          "2015-12-02",
          "2015-12-03",
          "2015-12-04",
          "2015-12-07",
          "2015-12-08",
          "2015-12-09",
          "2015-12-10",
          "2015-12-11",
          "2015-12-14",
          "2015-12-15",
          "2015-12-16",
          "2015-12-17",
          "2015-12-18",
          "2015-12-21",
          "2015-12-22",
          "2015-12-23",
          "2015-12-24",
          "2015-12-28",
          "2015-12-29",
          "2015-12-30",
          "2015-12-31",
          "2016-01-04",
          "2016-01-05",
          "2016-01-06",
          "2016-01-07",
          "2016-01-08",
          "2016-01-11",
          "2016-01-12",
          "2016-01-13",
          "2016-01-14",
          "2016-01-15",
          "2016-01-19",
          "2016-01-20",
          "2016-01-21",
          "2016-01-22",
          "2016-01-25",
          "2016-01-26",
          "2016-01-27",
          "2016-01-28",
          "2016-01-29",
          "2016-02-01",
          "2016-02-02",
          "2016-02-03",
          "2016-02-04",
          "2016-02-05",
          "2016-02-08",
          "2016-02-09",
          "2016-02-10",
          "2016-02-11",
          "2016-02-12",
          "2016-02-16",
          "2016-02-17",
          "2016-02-18",
          "2016-02-19",
          "2016-02-22",
          "2016-02-23",
          "2016-02-24",
          "2016-02-25",
          "2016-02-26",
          "2016-02-29",
          "2016-03-01",
          "2016-03-02",
          "2016-03-03",
          "2016-03-04",
          "2016-03-07",
          "2016-03-08",
          "2016-03-09",
          "2016-03-10",
          "2016-03-11",
          "2016-03-14",
          "2016-03-15",
          "2016-03-16",
          "2016-03-17",
          "2016-03-18",
          "2016-03-21",
          "2016-03-22",
          "2016-03-23",
          "2016-03-24",
          "2016-03-28",
          "2016-03-29",
          "2016-03-30",
          "2016-03-31",
          "2016-04-01",
          "2016-04-04",
          "2016-04-05",
          "2016-04-06",
          "2016-04-07",
          "2016-04-08",
          "2016-04-11",
          "2016-04-12",
          "2016-04-13",
          "2016-04-14",
          "2016-04-15",
          "2016-04-18",
          "2016-04-19",
          "2016-04-20",
          "2016-04-21",
          "2016-04-22",
          "2016-04-25",
          "2016-04-26",
          "2016-04-27",
          "2016-04-28",
          "2016-04-29",
          "2016-05-02",
          "2016-05-03",
          "2016-05-04",
          "2016-05-05",
          "2016-05-06",
          "2016-05-09",
          "2016-05-10",
          "2016-05-11",
          "2016-05-12",
          "2016-05-13",
          "2016-05-16",
          "2016-05-17",
          "2016-05-18",
          "2016-05-19",
          "2016-05-20",
          "2016-05-23",
          "2016-05-24",
          "2016-05-25",
          "2016-05-26",
          "2016-05-27",
          "2016-05-31",
          "2016-06-01",
          "2016-06-02",
          "2016-06-03",
          "2016-06-06",
          "2016-06-07",
          "2016-06-08",
          "2016-06-09",
          "2016-06-10",
          "2016-06-13",
          "2016-06-14",
          "2016-06-15",
          "2016-06-16",
          "2016-06-17",
          "2016-06-20",
          "2016-06-21",
          "2016-06-22",
          "2016-06-23",
          "2016-06-24",
          "2016-06-27",
          "2016-06-28",
          "2016-06-29",
          "2016-06-30",
          "2016-07-01",
          "2016-07-05",
          "2016-07-06",
          "2016-07-07",
          "2016-07-08",
          "2016-07-11",
          "2016-07-12",
          "2016-07-13",
          "2016-07-14",
          "2016-07-15",
          "2016-07-18",
          "2016-07-19",
          "2016-07-20",
          "2016-07-21",
          "2016-07-22",
          "2016-07-25",
          "2016-07-26",
          "2016-07-27",
          "2016-07-28",
          "2016-07-29",
          "2016-08-01",
          "2016-08-02",
          "2016-08-03",
          "2016-08-04",
          "2016-08-05",
          "2016-08-08",
          "2016-08-09",
          "2016-08-10",
          "2016-08-11",
          "2016-08-12",
          "2016-08-15",
          "2016-08-16",
          "2016-08-17",
          "2016-08-18",
          "2016-08-19",
          "2016-08-22",
          "2016-08-23",
          "2016-08-24",
          "2016-08-25",
          "2016-08-26",
          "2016-08-29",
          "2016-08-30",
          "2016-08-31",
          "2016-09-01",
          "2016-09-02",
          "2016-09-06",
          "2016-09-07",
          "2016-09-08",
          "2016-09-09",
          "2016-09-12",
          "2016-09-13",
          "2016-09-14",
          "2016-09-15",
          "2016-09-16",
          "2016-09-19",
          "2016-09-20",
          "2016-09-21",
          "2016-09-22",
          "2016-09-23",
          "2016-09-26",
          "2016-09-27",
          "2016-09-28",
          "2016-09-29",
          "2016-09-30",
          "2016-10-03",
          "2016-10-04",
          "2016-10-05",
          "2016-10-06",
          "2016-10-07",
          "2016-10-10",
          "2016-10-11",
          "2016-10-12",
          "2016-10-13",
          "2016-10-14",
          "2016-10-17",
          "2016-10-18",
          "2016-10-19",
          "2016-10-20",
          "2016-10-21",
          "2016-10-24",
          "2016-10-25",
          "2016-10-26",
          "2016-10-27",
          "2016-10-28",
          "2016-10-31",
          "2016-11-01",
          "2016-11-02",
          "2016-11-03",
          "2016-11-04",
          "2016-11-07",
          "2016-11-08",
          "2016-11-09",
          "2016-11-10",
          "2016-11-11",
          "2016-11-14",
          "2016-11-15",
          "2016-11-16",
          "2016-11-17",
          "2016-11-18",
          "2016-11-21",
          "2016-11-22",
          "2016-11-23",
          "2016-11-25",
          "2016-11-28",
          "2016-11-29",
          "2016-11-30",
          "2016-12-01",
          "2016-12-02",
          "2016-12-05",
          "2016-12-06",
          "2016-12-07",
          "2016-12-08",
          "2016-12-09",
          "2016-12-12",
          "2016-12-13",
          "2016-12-14",
          "2016-12-15",
          "2016-12-16",
          "2016-12-19",
          "2016-12-20",
          "2016-12-21",
          "2016-12-22",
          "2016-12-23",
          "2016-12-27",
          "2016-12-28",
          "2016-12-29",
          "2016-12-30",
          "2017-01-03",
          "2017-01-04",
          "2017-01-05",
          "2017-01-06",
          "2017-01-09",
          "2017-01-10",
          "2017-01-11",
          "2017-01-12",
          "2017-01-13",
          "2017-01-17",
          "2017-01-18",
          "2017-01-19",
          "2017-01-20",
          "2017-01-23",
          "2017-01-24",
          "2017-01-25",
          "2017-01-26",
          "2017-01-27",
          "2017-01-30",
          "2017-01-31",
          "2017-02-01",
          "2017-02-02",
          "2017-02-03",
          "2017-02-06",
          "2017-02-07",
          "2017-02-08",
          "2017-02-09",
          "2017-02-10",
          "2017-02-13",
          "2017-02-14",
          "2017-02-15",
          "2017-02-16"
         ]
        }
       ],
       "layout": {
        "template": {
         "data": {
          "bar": [
           {
            "error_x": {
             "color": "#2a3f5f"
            },
            "error_y": {
             "color": "#2a3f5f"
            },
            "marker": {
             "line": {
              "color": "#E5ECF6",
              "width": 0.5
             },
             "pattern": {
              "fillmode": "overlay",
              "size": 10,
              "solidity": 0.2
             }
            },
            "type": "bar"
           }
          ],
          "barpolar": [
           {
            "marker": {
             "line": {
              "color": "#E5ECF6",
              "width": 0.5
             },
             "pattern": {
              "fillmode": "overlay",
              "size": 10,
              "solidity": 0.2
             }
            },
            "type": "barpolar"
           }
          ],
          "carpet": [
           {
            "aaxis": {
             "endlinecolor": "#2a3f5f",
             "gridcolor": "white",
             "linecolor": "white",
             "minorgridcolor": "white",
             "startlinecolor": "#2a3f5f"
            },
            "baxis": {
             "endlinecolor": "#2a3f5f",
             "gridcolor": "white",
             "linecolor": "white",
             "minorgridcolor": "white",
             "startlinecolor": "#2a3f5f"
            },
            "type": "carpet"
           }
          ],
          "choropleth": [
           {
            "colorbar": {
             "outlinewidth": 0,
             "ticks": ""
            },
            "type": "choropleth"
           }
          ],
          "contour": [
           {
            "colorbar": {
             "outlinewidth": 0,
             "ticks": ""
            },
            "colorscale": [
             [
              0,
              "#0d0887"
             ],
             [
              0.1111111111111111,
              "#46039f"
             ],
             [
              0.2222222222222222,
              "#7201a8"
             ],
             [
              0.3333333333333333,
              "#9c179e"
             ],
             [
              0.4444444444444444,
              "#bd3786"
             ],
             [
              0.5555555555555556,
              "#d8576b"
             ],
             [
              0.6666666666666666,
              "#ed7953"
             ],
             [
              0.7777777777777778,
              "#fb9f3a"
             ],
             [
              0.8888888888888888,
              "#fdca26"
             ],
             [
              1,
              "#f0f921"
             ]
            ],
            "type": "contour"
           }
          ],
          "contourcarpet": [
           {
            "colorbar": {
             "outlinewidth": 0,
             "ticks": ""
            },
            "type": "contourcarpet"
           }
          ],
          "heatmap": [
           {
            "colorbar": {
             "outlinewidth": 0,
             "ticks": ""
            },
            "colorscale": [
             [
              0,
              "#0d0887"
             ],
             [
              0.1111111111111111,
              "#46039f"
             ],
             [
              0.2222222222222222,
              "#7201a8"
             ],
             [
              0.3333333333333333,
              "#9c179e"
             ],
             [
              0.4444444444444444,
              "#bd3786"
             ],
             [
              0.5555555555555556,
              "#d8576b"
             ],
             [
              0.6666666666666666,
              "#ed7953"
             ],
             [
              0.7777777777777778,
              "#fb9f3a"
             ],
             [
              0.8888888888888888,
              "#fdca26"
             ],
             [
              1,
              "#f0f921"
             ]
            ],
            "type": "heatmap"
           }
          ],
          "histogram": [
           {
            "marker": {
             "pattern": {
              "fillmode": "overlay",
              "size": 10,
              "solidity": 0.2
             }
            },
            "type": "histogram"
           }
          ],
          "histogram2d": [
           {
            "colorbar": {
             "outlinewidth": 0,
             "ticks": ""
            },
            "colorscale": [
             [
              0,
              "#0d0887"
             ],
             [
              0.1111111111111111,
              "#46039f"
             ],
             [
              0.2222222222222222,
              "#7201a8"
             ],
             [
              0.3333333333333333,
              "#9c179e"
             ],
             [
              0.4444444444444444,
              "#bd3786"
             ],
             [
              0.5555555555555556,
              "#d8576b"
             ],
             [
              0.6666666666666666,
              "#ed7953"
             ],
             [
              0.7777777777777778,
              "#fb9f3a"
             ],
             [
              0.8888888888888888,
              "#fdca26"
             ],
             [
              1,
              "#f0f921"
             ]
            ],
            "type": "histogram2d"
           }
          ],
          "histogram2dcontour": [
           {
            "colorbar": {
             "outlinewidth": 0,
             "ticks": ""
            },
            "colorscale": [
             [
              0,
              "#0d0887"
             ],
             [
              0.1111111111111111,
              "#46039f"
             ],
             [
              0.2222222222222222,
              "#7201a8"
             ],
             [
              0.3333333333333333,
              "#9c179e"
             ],
             [
              0.4444444444444444,
              "#bd3786"
             ],
             [
              0.5555555555555556,
              "#d8576b"
             ],
             [
              0.6666666666666666,
              "#ed7953"
             ],
             [
              0.7777777777777778,
              "#fb9f3a"
             ],
             [
              0.8888888888888888,
              "#fdca26"
             ],
             [
              1,
              "#f0f921"
             ]
            ],
            "type": "histogram2dcontour"
           }
          ],
          "mesh3d": [
           {
            "colorbar": {
             "outlinewidth": 0,
             "ticks": ""
            },
            "type": "mesh3d"
           }
          ],
          "parcoords": [
           {
            "line": {
             "colorbar": {
              "outlinewidth": 0,
              "ticks": ""
             }
            },
            "type": "parcoords"
           }
          ],
          "pie": [
           {
            "automargin": true,
            "type": "pie"
           }
          ],
          "scatter": [
           {
            "fillpattern": {
             "fillmode": "overlay",
             "size": 10,
             "solidity": 0.2
            },
            "type": "scatter"
           }
          ],
          "scatter3d": [
           {
            "line": {
             "colorbar": {
              "outlinewidth": 0,
              "ticks": ""
             }
            },
            "marker": {
             "colorbar": {
              "outlinewidth": 0,
              "ticks": ""
             }
            },
            "type": "scatter3d"
           }
          ],
          "scattercarpet": [
           {
            "marker": {
             "colorbar": {
              "outlinewidth": 0,
              "ticks": ""
             }
            },
            "type": "scattercarpet"
           }
          ],
          "scattergeo": [
           {
            "marker": {
             "colorbar": {
              "outlinewidth": 0,
              "ticks": ""
             }
            },
            "type": "scattergeo"
           }
          ],
          "scattergl": [
           {
            "marker": {
             "colorbar": {
              "outlinewidth": 0,
              "ticks": ""
             }
            },
            "type": "scattergl"
           }
          ],
          "scattermap": [
           {
            "marker": {
             "colorbar": {
              "outlinewidth": 0,
              "ticks": ""
             }
            },
            "type": "scattermap"
           }
          ],
          "scattermapbox": [
           {
            "marker": {
             "colorbar": {
              "outlinewidth": 0,
              "ticks": ""
             }
            },
            "type": "scattermapbox"
           }
          ],
          "scatterpolar": [
           {
            "marker": {
             "colorbar": {
              "outlinewidth": 0,
              "ticks": ""
             }
            },
            "type": "scatterpolar"
           }
          ],
          "scatterpolargl": [
           {
            "marker": {
             "colorbar": {
              "outlinewidth": 0,
              "ticks": ""
             }
            },
            "type": "scatterpolargl"
           }
          ],
          "scatterternary": [
           {
            "marker": {
             "colorbar": {
              "outlinewidth": 0,
              "ticks": ""
             }
            },
            "type": "scatterternary"
           }
          ],
          "surface": [
           {
            "colorbar": {
             "outlinewidth": 0,
             "ticks": ""
            },
            "colorscale": [
             [
              0,
              "#0d0887"
             ],
             [
              0.1111111111111111,
              "#46039f"
             ],
             [
              0.2222222222222222,
              "#7201a8"
             ],
             [
              0.3333333333333333,
              "#9c179e"
             ],
             [
              0.4444444444444444,
              "#bd3786"
             ],
             [
              0.5555555555555556,
              "#d8576b"
             ],
             [
              0.6666666666666666,
              "#ed7953"
             ],
             [
              0.7777777777777778,
              "#fb9f3a"
             ],
             [
              0.8888888888888888,
              "#fdca26"
             ],
             [
              1,
              "#f0f921"
             ]
            ],
            "type": "surface"
           }
          ],
          "table": [
           {
            "cells": {
             "fill": {
              "color": "#EBF0F8"
             },
             "line": {
              "color": "white"
             }
            },
            "header": {
             "fill": {
              "color": "#C8D4E3"
             },
             "line": {
              "color": "white"
             }
            },
            "type": "table"
           }
          ]
         },
         "layout": {
          "annotationdefaults": {
           "arrowcolor": "#2a3f5f",
           "arrowhead": 0,
           "arrowwidth": 1
          },
          "autotypenumbers": "strict",
          "coloraxis": {
           "colorbar": {
            "outlinewidth": 0,
            "ticks": ""
           }
          },
          "colorscale": {
           "diverging": [
            [
             0,
             "#8e0152"
            ],
            [
             0.1,
             "#c51b7d"
            ],
            [
             0.2,
             "#de77ae"
            ],
            [
             0.3,
             "#f1b6da"
            ],
            [
             0.4,
             "#fde0ef"
            ],
            [
             0.5,
             "#f7f7f7"
            ],
            [
             0.6,
             "#e6f5d0"
            ],
            [
             0.7,
             "#b8e186"
            ],
            [
             0.8,
             "#7fbc41"
            ],
            [
             0.9,
             "#4d9221"
            ],
            [
             1,
             "#276419"
            ]
           ],
           "sequential": [
            [
             0,
             "#0d0887"
            ],
            [
             0.1111111111111111,
             "#46039f"
            ],
            [
             0.2222222222222222,
             "#7201a8"
            ],
            [
             0.3333333333333333,
             "#9c179e"
            ],
            [
             0.4444444444444444,
             "#bd3786"
            ],
            [
             0.5555555555555556,
             "#d8576b"
            ],
            [
             0.6666666666666666,
             "#ed7953"
            ],
            [
             0.7777777777777778,
             "#fb9f3a"
            ],
            [
             0.8888888888888888,
             "#fdca26"
            ],
            [
             1,
             "#f0f921"
            ]
           ],
           "sequentialminus": [
            [
             0,
             "#0d0887"
            ],
            [
             0.1111111111111111,
             "#46039f"
            ],
            [
             0.2222222222222222,
             "#7201a8"
            ],
            [
             0.3333333333333333,
             "#9c179e"
            ],
            [
             0.4444444444444444,
             "#bd3786"
            ],
            [
             0.5555555555555556,
             "#d8576b"
            ],
            [
             0.6666666666666666,
             "#ed7953"
            ],
            [
             0.7777777777777778,
             "#fb9f3a"
            ],
            [
             0.8888888888888888,
             "#fdca26"
            ],
            [
             1,
             "#f0f921"
            ]
           ]
          },
          "colorway": [
           "#636efa",
           "#EF553B",
           "#00cc96",
           "#ab63fa",
           "#FFA15A",
           "#19d3f3",
           "#FF6692",
           "#B6E880",
           "#FF97FF",
           "#FECB52"
          ],
          "font": {
           "color": "#2a3f5f"
          },
          "geo": {
           "bgcolor": "white",
           "lakecolor": "white",
           "landcolor": "#E5ECF6",
           "showlakes": true,
           "showland": true,
           "subunitcolor": "white"
          },
          "hoverlabel": {
           "align": "left"
          },
          "hovermode": "closest",
          "mapbox": {
           "style": "light"
          },
          "paper_bgcolor": "white",
          "plot_bgcolor": "#E5ECF6",
          "polar": {
           "angularaxis": {
            "gridcolor": "white",
            "linecolor": "white",
            "ticks": ""
           },
           "bgcolor": "#E5ECF6",
           "radialaxis": {
            "gridcolor": "white",
            "linecolor": "white",
            "ticks": ""
           }
          },
          "scene": {
           "xaxis": {
            "backgroundcolor": "#E5ECF6",
            "gridcolor": "white",
            "gridwidth": 2,
            "linecolor": "white",
            "showbackground": true,
            "ticks": "",
            "zerolinecolor": "white"
           },
           "yaxis": {
            "backgroundcolor": "#E5ECF6",
            "gridcolor": "white",
            "gridwidth": 2,
            "linecolor": "white",
            "showbackground": true,
            "ticks": "",
            "zerolinecolor": "white"
           },
           "zaxis": {
            "backgroundcolor": "#E5ECF6",
            "gridcolor": "white",
            "gridwidth": 2,
            "linecolor": "white",
            "showbackground": true,
            "ticks": "",
            "zerolinecolor": "white"
           }
          },
          "shapedefaults": {
           "line": {
            "color": "#2a3f5f"
           }
          },
          "ternary": {
           "aaxis": {
            "gridcolor": "white",
            "linecolor": "white",
            "ticks": ""
           },
           "baxis": {
            "gridcolor": "white",
            "linecolor": "white",
            "ticks": ""
           },
           "bgcolor": "#E5ECF6",
           "caxis": {
            "gridcolor": "white",
            "linecolor": "white",
            "ticks": ""
           }
          },
          "title": {
           "x": 0.05
          },
          "xaxis": {
           "automargin": true,
           "gridcolor": "white",
           "linecolor": "white",
           "ticks": "",
           "title": {
            "standoff": 15
           },
           "zerolinecolor": "white",
           "zerolinewidth": 2
          },
          "yaxis": {
           "automargin": true,
           "gridcolor": "white",
           "linecolor": "white",
           "ticks": "",
           "title": {
            "standoff": 15
           },
           "zerolinecolor": "white",
           "zerolinewidth": 2
          }
         }
        }
       }
      }
     },
     "metadata": {},
     "output_type": "display_data"
    }
   ],
   "source": [
    "import plotly.graph_objects as go\n",
    "\n",
    "import pandas as pd\n",
    "from datetime import datetime\n",
    "\n",
    "df = pd.read_csv('https://raw.githubusercontent.com/plotly/datasets/master/finance-charts-apple.csv')\n",
    "\n",
    "fig = go.Figure(data=[go.Candlestick(x=df['Date'],\n",
    "                open=df['AAPL.Open'],\n",
    "                high=df['AAPL.High'],\n",
    "                low=df['AAPL.Low'],\n",
    "                close=df['AAPL.Close'])])\n",
    "\n",
    "fig.show()"
   ]
  },
  {
   "cell_type": "code",
   "execution_count": 2,
   "metadata": {},
   "outputs": [
    {
     "data": {
      "application/vnd.plotly.v1+json": {
       "config": {
        "plotlyServerURL": "https://plot.ly"
       },
       "data": [
        {
         "close": {
          "bdata": "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",
          "dtype": "f8"
         },
         "high": {
          "bdata": "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",
          "dtype": "f8"
         },
         "low": {
          "bdata": "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",
          "dtype": "f8"
         },
         "open": {
          "bdata": "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",
          "dtype": "f8"
         },
         "type": "candlestick",
         "x": [
          "2015-02-17",
          "2015-02-18",
          "2015-02-19",
          "2015-02-20",
          "2015-02-23",
          "2015-02-24",
          "2015-02-25",
          "2015-02-26",
          "2015-02-27",
          "2015-03-02",
          "2015-03-03",
          "2015-03-04",
          "2015-03-05",
          "2015-03-06",
          "2015-03-09",
          "2015-03-10",
          "2015-03-11",
          "2015-03-12",
          "2015-03-13",
          "2015-03-16",
          "2015-03-17",
          "2015-03-18",
          "2015-03-19",
          "2015-03-20",
          "2015-03-23",
          "2015-03-24",
          "2015-03-25",
          "2015-03-26",
          "2015-03-27",
          "2015-03-30",
          "2015-03-31",
          "2015-04-01",
          "2015-04-02",
          "2015-04-06",
          "2015-04-07",
          "2015-04-08",
          "2015-04-09",
          "2015-04-10",
          "2015-04-13",
          "2015-04-14",
          "2015-04-15",
          "2015-04-16",
          "2015-04-17",
          "2015-04-20",
          "2015-04-21",
          "2015-04-22",
          "2015-04-23",
          "2015-04-24",
          "2015-04-27",
          "2015-04-28",
          "2015-04-29",
          "2015-04-30",
          "2015-05-01",
          "2015-05-04",
          "2015-05-05",
          "2015-05-06",
          "2015-05-07",
          "2015-05-08",
          "2015-05-11",
          "2015-05-12",
          "2015-05-13",
          "2015-05-14",
          "2015-05-15",
          "2015-05-18",
          "2015-05-19",
          "2015-05-20",
          "2015-05-21",
          "2015-05-22",
          "2015-05-26",
          "2015-05-27",
          "2015-05-28",
          "2015-05-29",
          "2015-06-01",
          "2015-06-02",
          "2015-06-03",
          "2015-06-04",
          "2015-06-05",
          "2015-06-08",
          "2015-06-09",
          "2015-06-10",
          "2015-06-11",
          "2015-06-12",
          "2015-06-15",
          "2015-06-16",
          "2015-06-17",
          "2015-06-18",
          "2015-06-19",
          "2015-06-22",
          "2015-06-23",
          "2015-06-24",
          "2015-06-25",
          "2015-06-26",
          "2015-06-29",
          "2015-06-30",
          "2015-07-01",
          "2015-07-02",
          "2015-07-06",
          "2015-07-07",
          "2015-07-08",
          "2015-07-09",
          "2015-07-10",
          "2015-07-13",
          "2015-07-14",
          "2015-07-15",
          "2015-07-16",
          "2015-07-17",
          "2015-07-20",
          "2015-07-21",
          "2015-07-22",
          "2015-07-23",
          "2015-07-24",
          "2015-07-27",
          "2015-07-28",
          "2015-07-29",
          "2015-07-30",
          "2015-07-31",
          "2015-08-03",
          "2015-08-04",
          "2015-08-05",
          "2015-08-06",
          "2015-08-07",
          "2015-08-10",
          "2015-08-11",
          "2015-08-12",
          "2015-08-13",
          "2015-08-14",
          "2015-08-17",
          "2015-08-18",
          "2015-08-19",
          "2015-08-20",
          "2015-08-21",
          "2015-08-24",
          "2015-08-25",
          "2015-08-26",
          "2015-08-27",
          "2015-08-28",
          "2015-08-31",
          "2015-09-01",
          "2015-09-02",
          "2015-09-03",
          "2015-09-04",
          "2015-09-08",
          "2015-09-09",
          "2015-09-10",
          "2015-09-11",
          "2015-09-14",
          "2015-09-15",
          "2015-09-16",
          "2015-09-17",
          "2015-09-18",
          "2015-09-21",
          "2015-09-22",
          "2015-09-23",
          "2015-09-24",
          "2015-09-25",
          "2015-09-28",
          "2015-09-29",
          "2015-09-30",
          "2015-10-01",
          "2015-10-02",
          "2015-10-05",
          "2015-10-06",
          "2015-10-07",
          "2015-10-08",
          "2015-10-09",
          "2015-10-12",
          "2015-10-13",
          "2015-10-14",
          "2015-10-15",
          "2015-10-16",
          "2015-10-19",
          "2015-10-20",
          "2015-10-21",
          "2015-10-22",
          "2015-10-23",
          "2015-10-26",
          "2015-10-27",
          "2015-10-28",
          "2015-10-29",
          "2015-10-30",
          "2015-11-02",
          "2015-11-03",
          "2015-11-04",
          "2015-11-05",
          "2015-11-06",
          "2015-11-09",
          "2015-11-10",
          "2015-11-11",
          "2015-11-12",
          "2015-11-13",
          "2015-11-16",
          "2015-11-17",
          "2015-11-18",
          "2015-11-19",
          "2015-11-20",
          "2015-11-23",
          "2015-11-24",
          "2015-11-25",
          "2015-11-27",
          "2015-11-30",
          "2015-12-01",
          "2015-12-02",
          "2015-12-03",
          "2015-12-04",
          "2015-12-07",
          "2015-12-08",
          "2015-12-09",
          "2015-12-10",
          "2015-12-11",
          "2015-12-14",
          "2015-12-15",
          "2015-12-16",
          "2015-12-17",
          "2015-12-18",
          "2015-12-21",
          "2015-12-22",
          "2015-12-23",
          "2015-12-24",
          "2015-12-28",
          "2015-12-29",
          "2015-12-30",
          "2015-12-31",
          "2016-01-04",
          "2016-01-05",
          "2016-01-06",
          "2016-01-07",
          "2016-01-08",
          "2016-01-11",
          "2016-01-12",
          "2016-01-13",
          "2016-01-14",
          "2016-01-15",
          "2016-01-19",
          "2016-01-20",
          "2016-01-21",
          "2016-01-22",
          "2016-01-25",
          "2016-01-26",
          "2016-01-27",
          "2016-01-28",
          "2016-01-29",
          "2016-02-01",
          "2016-02-02",
          "2016-02-03",
          "2016-02-04",
          "2016-02-05",
          "2016-02-08",
          "2016-02-09",
          "2016-02-10",
          "2016-02-11",
          "2016-02-12",
          "2016-02-16",
          "2016-02-17",
          "2016-02-18",
          "2016-02-19",
          "2016-02-22",
          "2016-02-23",
          "2016-02-24",
          "2016-02-25",
          "2016-02-26",
          "2016-02-29",
          "2016-03-01",
          "2016-03-02",
          "2016-03-03",
          "2016-03-04",
          "2016-03-07",
          "2016-03-08",
          "2016-03-09",
          "2016-03-10",
          "2016-03-11",
          "2016-03-14",
          "2016-03-15",
          "2016-03-16",
          "2016-03-17",
          "2016-03-18",
          "2016-03-21",
          "2016-03-22",
          "2016-03-23",
          "2016-03-24",
          "2016-03-28",
          "2016-03-29",
          "2016-03-30",
          "2016-03-31",
          "2016-04-01",
          "2016-04-04",
          "2016-04-05",
          "2016-04-06",
          "2016-04-07",
          "2016-04-08",
          "2016-04-11",
          "2016-04-12",
          "2016-04-13",
          "2016-04-14",
          "2016-04-15",
          "2016-04-18",
          "2016-04-19",
          "2016-04-20",
          "2016-04-21",
          "2016-04-22",
          "2016-04-25",
          "2016-04-26",
          "2016-04-27",
          "2016-04-28",
          "2016-04-29",
          "2016-05-02",
          "2016-05-03",
          "2016-05-04",
          "2016-05-05",
          "2016-05-06",
          "2016-05-09",
          "2016-05-10",
          "2016-05-11",
          "2016-05-12",
          "2016-05-13",
          "2016-05-16",
          "2016-05-17",
          "2016-05-18",
          "2016-05-19",
          "2016-05-20",
          "2016-05-23",
          "2016-05-24",
          "2016-05-25",
          "2016-05-26",
          "2016-05-27",
          "2016-05-31",
          "2016-06-01",
          "2016-06-02",
          "2016-06-03",
          "2016-06-06",
          "2016-06-07",
          "2016-06-08",
          "2016-06-09",
          "2016-06-10",
          "2016-06-13",
          "2016-06-14",
          "2016-06-15",
          "2016-06-16",
          "2016-06-17",
          "2016-06-20",
          "2016-06-21",
          "2016-06-22",
          "2016-06-23",
          "2016-06-24",
          "2016-06-27",
          "2016-06-28",
          "2016-06-29",
          "2016-06-30",
          "2016-07-01",
          "2016-07-05",
          "2016-07-06",
          "2016-07-07",
          "2016-07-08",
          "2016-07-11",
          "2016-07-12",
          "2016-07-13",
          "2016-07-14",
          "2016-07-15",
          "2016-07-18",
          "2016-07-19",
          "2016-07-20",
          "2016-07-21",
          "2016-07-22",
          "2016-07-25",
          "2016-07-26",
          "2016-07-27",
          "2016-07-28",
          "2016-07-29",
          "2016-08-01",
          "2016-08-02",
          "2016-08-03",
          "2016-08-04",
          "2016-08-05",
          "2016-08-08",
          "2016-08-09",
          "2016-08-10",
          "2016-08-11",
          "2016-08-12",
          "2016-08-15",
          "2016-08-16",
          "2016-08-17",
          "2016-08-18",
          "2016-08-19",
          "2016-08-22",
          "2016-08-23",
          "2016-08-24",
          "2016-08-25",
          "2016-08-26",
          "2016-08-29",
          "2016-08-30",
          "2016-08-31",
          "2016-09-01",
          "2016-09-02",
          "2016-09-06",
          "2016-09-07",
          "2016-09-08",
          "2016-09-09",
          "2016-09-12",
          "2016-09-13",
          "2016-09-14",
          "2016-09-15",
          "2016-09-16",
          "2016-09-19",
          "2016-09-20",
          "2016-09-21",
          "2016-09-22",
          "2016-09-23",
          "2016-09-26",
          "2016-09-27",
          "2016-09-28",
          "2016-09-29",
          "2016-09-30",
          "2016-10-03",
          "2016-10-04",
          "2016-10-05",
          "2016-10-06",
          "2016-10-07",
          "2016-10-10",
          "2016-10-11",
          "2016-10-12",
          "2016-10-13",
          "2016-10-14",
          "2016-10-17",
          "2016-10-18",
          "2016-10-19",
          "2016-10-20",
          "2016-10-21",
          "2016-10-24",
          "2016-10-25",
          "2016-10-26",
          "2016-10-27",
          "2016-10-28",
          "2016-10-31",
          "2016-11-01",
          "2016-11-02",
          "2016-11-03",
          "2016-11-04",
          "2016-11-07",
          "2016-11-08",
          "2016-11-09",
          "2016-11-10",
          "2016-11-11",
          "2016-11-14",
          "2016-11-15",
          "2016-11-16",
          "2016-11-17",
          "2016-11-18",
          "2016-11-21",
          "2016-11-22",
          "2016-11-23",
          "2016-11-25",
          "2016-11-28",
          "2016-11-29",
          "2016-11-30",
          "2016-12-01",
          "2016-12-02",
          "2016-12-05",
          "2016-12-06",
          "2016-12-07",
          "2016-12-08",
          "2016-12-09",
          "2016-12-12",
          "2016-12-13",
          "2016-12-14",
          "2016-12-15",
          "2016-12-16",
          "2016-12-19",
          "2016-12-20",
          "2016-12-21",
          "2016-12-22",
          "2016-12-23",
          "2016-12-27",
          "2016-12-28",
          "2016-12-29",
          "2016-12-30",
          "2017-01-03",
          "2017-01-04",
          "2017-01-05",
          "2017-01-06",
          "2017-01-09",
          "2017-01-10",
          "2017-01-11",
          "2017-01-12",
          "2017-01-13",
          "2017-01-17",
          "2017-01-18",
          "2017-01-19",
          "2017-01-20",
          "2017-01-23",
          "2017-01-24",
          "2017-01-25",
          "2017-01-26",
          "2017-01-27",
          "2017-01-30",
          "2017-01-31",
          "2017-02-01",
          "2017-02-02",
          "2017-02-03",
          "2017-02-06",
          "2017-02-07",
          "2017-02-08",
          "2017-02-09",
          "2017-02-10",
          "2017-02-13",
          "2017-02-14",
          "2017-02-15",
          "2017-02-16"
         ]
        }
       ],
       "layout": {
        "annotations": [
         {
          "showarrow": false,
          "text": "Increase Period Begins",
          "x": "2016-12-09",
          "xanchor": "left",
          "xref": "x",
          "y": 0.05,
          "yref": "paper"
         }
        ],
        "shapes": [
         {
          "line": {
           "width": 2
          },
          "x0": "2016-12-09",
          "x1": "2016-12-09",
          "xref": "x",
          "y0": 0,
          "y1": 1,
          "yref": "paper"
         }
        ],
        "template": {
         "data": {
          "bar": [
           {
            "error_x": {
             "color": "#2a3f5f"
            },
            "error_y": {
             "color": "#2a3f5f"
            },
            "marker": {
             "line": {
              "color": "#E5ECF6",
              "width": 0.5
             },
             "pattern": {
              "fillmode": "overlay",
              "size": 10,
              "solidity": 0.2
             }
            },
            "type": "bar"
           }
          ],
          "barpolar": [
           {
            "marker": {
             "line": {
              "color": "#E5ECF6",
              "width": 0.5
             },
             "pattern": {
              "fillmode": "overlay",
              "size": 10,
              "solidity": 0.2
             }
            },
            "type": "barpolar"
           }
          ],
          "carpet": [
           {
            "aaxis": {
             "endlinecolor": "#2a3f5f",
             "gridcolor": "white",
             "linecolor": "white",
             "minorgridcolor": "white",
             "startlinecolor": "#2a3f5f"
            },
            "baxis": {
             "endlinecolor": "#2a3f5f",
             "gridcolor": "white",
             "linecolor": "white",
             "minorgridcolor": "white",
             "startlinecolor": "#2a3f5f"
            },
            "type": "carpet"
           }
          ],
          "choropleth": [
           {
            "colorbar": {
             "outlinewidth": 0,
             "ticks": ""
            },
            "type": "choropleth"
           }
          ],
          "contour": [
           {
            "colorbar": {
             "outlinewidth": 0,
             "ticks": ""
            },
            "colorscale": [
             [
              0,
              "#0d0887"
             ],
             [
              0.1111111111111111,
              "#46039f"
             ],
             [
              0.2222222222222222,
              "#7201a8"
             ],
             [
              0.3333333333333333,
              "#9c179e"
             ],
             [
              0.4444444444444444,
              "#bd3786"
             ],
             [
              0.5555555555555556,
              "#d8576b"
             ],
             [
              0.6666666666666666,
              "#ed7953"
             ],
             [
              0.7777777777777778,
              "#fb9f3a"
             ],
             [
              0.8888888888888888,
              "#fdca26"
             ],
             [
              1,
              "#f0f921"
             ]
            ],
            "type": "contour"
           }
          ],
          "contourcarpet": [
           {
            "colorbar": {
             "outlinewidth": 0,
             "ticks": ""
            },
            "type": "contourcarpet"
           }
          ],
          "heatmap": [
           {
            "colorbar": {
             "outlinewidth": 0,
             "ticks": ""
            },
            "colorscale": [
             [
              0,
              "#0d0887"
             ],
             [
              0.1111111111111111,
              "#46039f"
             ],
             [
              0.2222222222222222,
              "#7201a8"
             ],
             [
              0.3333333333333333,
              "#9c179e"
             ],
             [
              0.4444444444444444,
              "#bd3786"
             ],
             [
              0.5555555555555556,
              "#d8576b"
             ],
             [
              0.6666666666666666,
              "#ed7953"
             ],
             [
              0.7777777777777778,
              "#fb9f3a"
             ],
             [
              0.8888888888888888,
              "#fdca26"
             ],
             [
              1,
              "#f0f921"
             ]
            ],
            "type": "heatmap"
           }
          ],
          "histogram": [
           {
            "marker": {
             "pattern": {
              "fillmode": "overlay",
              "size": 10,
              "solidity": 0.2
             }
            },
            "type": "histogram"
           }
          ],
          "histogram2d": [
           {
            "colorbar": {
             "outlinewidth": 0,
             "ticks": ""
            },
            "colorscale": [
             [
              0,
              "#0d0887"
             ],
             [
              0.1111111111111111,
              "#46039f"
             ],
             [
              0.2222222222222222,
              "#7201a8"
             ],
             [
              0.3333333333333333,
              "#9c179e"
             ],
             [
              0.4444444444444444,
              "#bd3786"
             ],
             [
              0.5555555555555556,
              "#d8576b"
             ],
             [
              0.6666666666666666,
              "#ed7953"
             ],
             [
              0.7777777777777778,
              "#fb9f3a"
             ],
             [
              0.8888888888888888,
              "#fdca26"
             ],
             [
              1,
              "#f0f921"
             ]
            ],
            "type": "histogram2d"
           }
          ],
          "histogram2dcontour": [
           {
            "colorbar": {
             "outlinewidth": 0,
             "ticks": ""
            },
            "colorscale": [
             [
              0,
              "#0d0887"
             ],
             [
              0.1111111111111111,
              "#46039f"
             ],
             [
              0.2222222222222222,
              "#7201a8"
             ],
             [
              0.3333333333333333,
              "#9c179e"
             ],
             [
              0.4444444444444444,
              "#bd3786"
             ],
             [
              0.5555555555555556,
              "#d8576b"
             ],
             [
              0.6666666666666666,
              "#ed7953"
             ],
             [
              0.7777777777777778,
              "#fb9f3a"
             ],
             [
              0.8888888888888888,
              "#fdca26"
             ],
             [
              1,
              "#f0f921"
             ]
            ],
            "type": "histogram2dcontour"
           }
          ],
          "mesh3d": [
           {
            "colorbar": {
             "outlinewidth": 0,
             "ticks": ""
            },
            "type": "mesh3d"
           }
          ],
          "parcoords": [
           {
            "line": {
             "colorbar": {
              "outlinewidth": 0,
              "ticks": ""
             }
            },
            "type": "parcoords"
           }
          ],
          "pie": [
           {
            "automargin": true,
            "type": "pie"
           }
          ],
          "scatter": [
           {
            "fillpattern": {
             "fillmode": "overlay",
             "size": 10,
             "solidity": 0.2
            },
            "type": "scatter"
           }
          ],
          "scatter3d": [
           {
            "line": {
             "colorbar": {
              "outlinewidth": 0,
              "ticks": ""
             }
            },
            "marker": {
             "colorbar": {
              "outlinewidth": 0,
              "ticks": ""
             }
            },
            "type": "scatter3d"
           }
          ],
          "scattercarpet": [
           {
            "marker": {
             "colorbar": {
              "outlinewidth": 0,
              "ticks": ""
             }
            },
            "type": "scattercarpet"
           }
          ],
          "scattergeo": [
           {
            "marker": {
             "colorbar": {
              "outlinewidth": 0,
              "ticks": ""
             }
            },
            "type": "scattergeo"
           }
          ],
          "scattergl": [
           {
            "marker": {
             "colorbar": {
              "outlinewidth": 0,
              "ticks": ""
             }
            },
            "type": "scattergl"
           }
          ],
          "scattermap": [
           {
            "marker": {
             "colorbar": {
              "outlinewidth": 0,
              "ticks": ""
             }
            },
            "type": "scattermap"
           }
          ],
          "scattermapbox": [
           {
            "marker": {
             "colorbar": {
              "outlinewidth": 0,
              "ticks": ""
             }
            },
            "type": "scattermapbox"
           }
          ],
          "scatterpolar": [
           {
            "marker": {
             "colorbar": {
              "outlinewidth": 0,
              "ticks": ""
             }
            },
            "type": "scatterpolar"
           }
          ],
          "scatterpolargl": [
           {
            "marker": {
             "colorbar": {
              "outlinewidth": 0,
              "ticks": ""
             }
            },
            "type": "scatterpolargl"
           }
          ],
          "scatterternary": [
           {
            "marker": {
             "colorbar": {
              "outlinewidth": 0,
              "ticks": ""
             }
            },
            "type": "scatterternary"
           }
          ],
          "surface": [
           {
            "colorbar": {
             "outlinewidth": 0,
             "ticks": ""
            },
            "colorscale": [
             [
              0,
              "#0d0887"
             ],
             [
              0.1111111111111111,
              "#46039f"
             ],
             [
              0.2222222222222222,
              "#7201a8"
             ],
             [
              0.3333333333333333,
              "#9c179e"
             ],
             [
              0.4444444444444444,
              "#bd3786"
             ],
             [
              0.5555555555555556,
              "#d8576b"
             ],
             [
              0.6666666666666666,
              "#ed7953"
             ],
             [
              0.7777777777777778,
              "#fb9f3a"
             ],
             [
              0.8888888888888888,
              "#fdca26"
             ],
             [
              1,
              "#f0f921"
             ]
            ],
            "type": "surface"
           }
          ],
          "table": [
           {
            "cells": {
             "fill": {
              "color": "#EBF0F8"
             },
             "line": {
              "color": "white"
             }
            },
            "header": {
             "fill": {
              "color": "#C8D4E3"
             },
             "line": {
              "color": "white"
             }
            },
            "type": "table"
           }
          ]
         },
         "layout": {
          "annotationdefaults": {
           "arrowcolor": "#2a3f5f",
           "arrowhead": 0,
           "arrowwidth": 1
          },
          "autotypenumbers": "strict",
          "coloraxis": {
           "colorbar": {
            "outlinewidth": 0,
            "ticks": ""
           }
          },
          "colorscale": {
           "diverging": [
            [
             0,
             "#8e0152"
            ],
            [
             0.1,
             "#c51b7d"
            ],
            [
             0.2,
             "#de77ae"
            ],
            [
             0.3,
             "#f1b6da"
            ],
            [
             0.4,
             "#fde0ef"
            ],
            [
             0.5,
             "#f7f7f7"
            ],
            [
             0.6,
             "#e6f5d0"
            ],
            [
             0.7,
             "#b8e186"
            ],
            [
             0.8,
             "#7fbc41"
            ],
            [
             0.9,
             "#4d9221"
            ],
            [
             1,
             "#276419"
            ]
           ],
           "sequential": [
            [
             0,
             "#0d0887"
            ],
            [
             0.1111111111111111,
             "#46039f"
            ],
            [
             0.2222222222222222,
             "#7201a8"
            ],
            [
             0.3333333333333333,
             "#9c179e"
            ],
            [
             0.4444444444444444,
             "#bd3786"
            ],
            [
             0.5555555555555556,
             "#d8576b"
            ],
            [
             0.6666666666666666,
             "#ed7953"
            ],
            [
             0.7777777777777778,
             "#fb9f3a"
            ],
            [
             0.8888888888888888,
             "#fdca26"
            ],
            [
             1,
             "#f0f921"
            ]
           ],
           "sequentialminus": [
            [
             0,
             "#0d0887"
            ],
            [
             0.1111111111111111,
             "#46039f"
            ],
            [
             0.2222222222222222,
             "#7201a8"
            ],
            [
             0.3333333333333333,
             "#9c179e"
            ],
            [
             0.4444444444444444,
             "#bd3786"
            ],
            [
             0.5555555555555556,
             "#d8576b"
            ],
            [
             0.6666666666666666,
             "#ed7953"
            ],
            [
             0.7777777777777778,
             "#fb9f3a"
            ],
            [
             0.8888888888888888,
             "#fdca26"
            ],
            [
             1,
             "#f0f921"
            ]
           ]
          },
          "colorway": [
           "#636efa",
           "#EF553B",
           "#00cc96",
           "#ab63fa",
           "#FFA15A",
           "#19d3f3",
           "#FF6692",
           "#B6E880",
           "#FF97FF",
           "#FECB52"
          ],
          "font": {
           "color": "#2a3f5f"
          },
          "geo": {
           "bgcolor": "white",
           "lakecolor": "white",
           "landcolor": "#E5ECF6",
           "showlakes": true,
           "showland": true,
           "subunitcolor": "white"
          },
          "hoverlabel": {
           "align": "left"
          },
          "hovermode": "closest",
          "mapbox": {
           "style": "light"
          },
          "paper_bgcolor": "white",
          "plot_bgcolor": "#E5ECF6",
          "polar": {
           "angularaxis": {
            "gridcolor": "white",
            "linecolor": "white",
            "ticks": ""
           },
           "bgcolor": "#E5ECF6",
           "radialaxis": {
            "gridcolor": "white",
            "linecolor": "white",
            "ticks": ""
           }
          },
          "scene": {
           "xaxis": {
            "backgroundcolor": "#E5ECF6",
            "gridcolor": "white",
            "gridwidth": 2,
            "linecolor": "white",
            "showbackground": true,
            "ticks": "",
            "zerolinecolor": "white"
           },
           "yaxis": {
            "backgroundcolor": "#E5ECF6",
            "gridcolor": "white",
            "gridwidth": 2,
            "linecolor": "white",
            "showbackground": true,
            "ticks": "",
            "zerolinecolor": "white"
           },
           "zaxis": {
            "backgroundcolor": "#E5ECF6",
            "gridcolor": "white",
            "gridwidth": 2,
            "linecolor": "white",
            "showbackground": true,
            "ticks": "",
            "zerolinecolor": "white"
           }
          },
          "shapedefaults": {
           "line": {
            "color": "#2a3f5f"
           }
          },
          "ternary": {
           "aaxis": {
            "gridcolor": "white",
            "linecolor": "white",
            "ticks": ""
           },
           "baxis": {
            "gridcolor": "white",
            "linecolor": "white",
            "ticks": ""
           },
           "bgcolor": "#E5ECF6",
           "caxis": {
            "gridcolor": "white",
            "linecolor": "white",
            "ticks": ""
           }
          },
          "title": {
           "x": 0.05
          },
          "xaxis": {
           "automargin": true,
           "gridcolor": "white",
           "linecolor": "white",
           "ticks": "",
           "title": {
            "standoff": 15
           },
           "zerolinecolor": "white",
           "zerolinewidth": 2
          },
          "yaxis": {
           "automargin": true,
           "gridcolor": "white",
           "linecolor": "white",
           "ticks": "",
           "title": {
            "standoff": 15
           },
           "zerolinecolor": "white",
           "zerolinewidth": 2
          }
         }
        },
        "title": {
         "text": "The Great Recession"
        },
        "yaxis": {
         "title": {
          "text": "AAPL Stock"
         }
        }
       }
      }
     },
     "metadata": {},
     "output_type": "display_data"
    }
   ],
   "source": [
    "import plotly.graph_objects as go\n",
    "import pandas as pd\n",
    "\n",
    "\n",
    "df = pd.read_csv('https://raw.githubusercontent.com/plotly/datasets/master/finance-charts-apple.csv')\n",
    "\n",
    "fig = go.Figure(data=[go.Candlestick(x=df['Date'],\n",
    "                open=df['AAPL.Open'], high=df['AAPL.High'],\n",
    "                low=df['AAPL.Low'], close=df['AAPL.Close'])\n",
    "                      ])\n",
    "\n",
    "fig.update_layout(\n",
    "    title=dict(text='The Great Recession'),\n",
    "    yaxis=dict(\n",
    "      title=dict(\n",
    "        text='AAPL Stock'\n",
    "        )\n",
    "    ),\n",
    "    shapes = [dict(\n",
    "        x0='2016-12-09', x1='2016-12-09', y0=0, y1=1, xref='x', yref='paper',\n",
    "        line_width=2)],\n",
    "    annotations=[dict(\n",
    "        x='2016-12-09', y=0.05, xref='x', yref='paper',\n",
    "        showarrow=False, xanchor='left', text='Increase Period Begins')]\n",
    ")\n",
    "\n",
    "fig.show()"
   ]
  },
  {
   "cell_type": "code",
   "execution_count": 3,
   "metadata": {},
   "outputs": [
    {
     "data": {
      "application/vnd.plotly.v1+json": {
       "config": {
        "plotlyServerURL": "https://plot.ly"
       },
       "data": [
        {
         "close": [
          33,
          32.9,
          33.3,
          33.1,
          33.1
         ],
         "high": [
          33.1,
          33.3,
          33.6,
          33.2,
          34.8
         ],
         "low": [
          32.7,
          32.7,
          32.8,
          32.6,
          32.8
         ],
         "open": [
          33,
          33.3,
          33.5,
          33,
          34.1
         ],
         "type": "candlestick",
         "x": [
          "2013-10-10T00:00:00",
          "2013-11-10T00:00:00",
          "2013-12-10T00:00:00",
          "2014-01-10T00:00:00",
          "2014-02-10T00:00:00"
         ]
        }
       ],
       "layout": {
        "template": {
         "data": {
          "bar": [
           {
            "error_x": {
             "color": "#2a3f5f"
            },
            "error_y": {
             "color": "#2a3f5f"
            },
            "marker": {
             "line": {
              "color": "#E5ECF6",
              "width": 0.5
             },
             "pattern": {
              "fillmode": "overlay",
              "size": 10,
              "solidity": 0.2
             }
            },
            "type": "bar"
           }
          ],
          "barpolar": [
           {
            "marker": {
             "line": {
              "color": "#E5ECF6",
              "width": 0.5
             },
             "pattern": {
              "fillmode": "overlay",
              "size": 10,
              "solidity": 0.2
             }
            },
            "type": "barpolar"
           }
          ],
          "carpet": [
           {
            "aaxis": {
             "endlinecolor": "#2a3f5f",
             "gridcolor": "white",
             "linecolor": "white",
             "minorgridcolor": "white",
             "startlinecolor": "#2a3f5f"
            },
            "baxis": {
             "endlinecolor": "#2a3f5f",
             "gridcolor": "white",
             "linecolor": "white",
             "minorgridcolor": "white",
             "startlinecolor": "#2a3f5f"
            },
            "type": "carpet"
           }
          ],
          "choropleth": [
           {
            "colorbar": {
             "outlinewidth": 0,
             "ticks": ""
            },
            "type": "choropleth"
           }
          ],
          "contour": [
           {
            "colorbar": {
             "outlinewidth": 0,
             "ticks": ""
            },
            "colorscale": [
             [
              0,
              "#0d0887"
             ],
             [
              0.1111111111111111,
              "#46039f"
             ],
             [
              0.2222222222222222,
              "#7201a8"
             ],
             [
              0.3333333333333333,
              "#9c179e"
             ],
             [
              0.4444444444444444,
              "#bd3786"
             ],
             [
              0.5555555555555556,
              "#d8576b"
             ],
             [
              0.6666666666666666,
              "#ed7953"
             ],
             [
              0.7777777777777778,
              "#fb9f3a"
             ],
             [
              0.8888888888888888,
              "#fdca26"
             ],
             [
              1,
              "#f0f921"
             ]
            ],
            "type": "contour"
           }
          ],
          "contourcarpet": [
           {
            "colorbar": {
             "outlinewidth": 0,
             "ticks": ""
            },
            "type": "contourcarpet"
           }
          ],
          "heatmap": [
           {
            "colorbar": {
             "outlinewidth": 0,
             "ticks": ""
            },
            "colorscale": [
             [
              0,
              "#0d0887"
             ],
             [
              0.1111111111111111,
              "#46039f"
             ],
             [
              0.2222222222222222,
              "#7201a8"
             ],
             [
              0.3333333333333333,
              "#9c179e"
             ],
             [
              0.4444444444444444,
              "#bd3786"
             ],
             [
              0.5555555555555556,
              "#d8576b"
             ],
             [
              0.6666666666666666,
              "#ed7953"
             ],
             [
              0.7777777777777778,
              "#fb9f3a"
             ],
             [
              0.8888888888888888,
              "#fdca26"
             ],
             [
              1,
              "#f0f921"
             ]
            ],
            "type": "heatmap"
           }
          ],
          "histogram": [
           {
            "marker": {
             "pattern": {
              "fillmode": "overlay",
              "size": 10,
              "solidity": 0.2
             }
            },
            "type": "histogram"
           }
          ],
          "histogram2d": [
           {
            "colorbar": {
             "outlinewidth": 0,
             "ticks": ""
            },
            "colorscale": [
             [
              0,
              "#0d0887"
             ],
             [
              0.1111111111111111,
              "#46039f"
             ],
             [
              0.2222222222222222,
              "#7201a8"
             ],
             [
              0.3333333333333333,
              "#9c179e"
             ],
             [
              0.4444444444444444,
              "#bd3786"
             ],
             [
              0.5555555555555556,
              "#d8576b"
             ],
             [
              0.6666666666666666,
              "#ed7953"
             ],
             [
              0.7777777777777778,
              "#fb9f3a"
             ],
             [
              0.8888888888888888,
              "#fdca26"
             ],
             [
              1,
              "#f0f921"
             ]
            ],
            "type": "histogram2d"
           }
          ],
          "histogram2dcontour": [
           {
            "colorbar": {
             "outlinewidth": 0,
             "ticks": ""
            },
            "colorscale": [
             [
              0,
              "#0d0887"
             ],
             [
              0.1111111111111111,
              "#46039f"
             ],
             [
              0.2222222222222222,
              "#7201a8"
             ],
             [
              0.3333333333333333,
              "#9c179e"
             ],
             [
              0.4444444444444444,
              "#bd3786"
             ],
             [
              0.5555555555555556,
              "#d8576b"
             ],
             [
              0.6666666666666666,
              "#ed7953"
             ],
             [
              0.7777777777777778,
              "#fb9f3a"
             ],
             [
              0.8888888888888888,
              "#fdca26"
             ],
             [
              1,
              "#f0f921"
             ]
            ],
            "type": "histogram2dcontour"
           }
          ],
          "mesh3d": [
           {
            "colorbar": {
             "outlinewidth": 0,
             "ticks": ""
            },
            "type": "mesh3d"
           }
          ],
          "parcoords": [
           {
            "line": {
             "colorbar": {
              "outlinewidth": 0,
              "ticks": ""
             }
            },
            "type": "parcoords"
           }
          ],
          "pie": [
           {
            "automargin": true,
            "type": "pie"
           }
          ],
          "scatter": [
           {
            "fillpattern": {
             "fillmode": "overlay",
             "size": 10,
             "solidity": 0.2
            },
            "type": "scatter"
           }
          ],
          "scatter3d": [
           {
            "line": {
             "colorbar": {
              "outlinewidth": 0,
              "ticks": ""
             }
            },
            "marker": {
             "colorbar": {
              "outlinewidth": 0,
              "ticks": ""
             }
            },
            "type": "scatter3d"
           }
          ],
          "scattercarpet": [
           {
            "marker": {
             "colorbar": {
              "outlinewidth": 0,
              "ticks": ""
             }
            },
            "type": "scattercarpet"
           }
          ],
          "scattergeo": [
           {
            "marker": {
             "colorbar": {
              "outlinewidth": 0,
              "ticks": ""
             }
            },
            "type": "scattergeo"
           }
          ],
          "scattergl": [
           {
            "marker": {
             "colorbar": {
              "outlinewidth": 0,
              "ticks": ""
             }
            },
            "type": "scattergl"
           }
          ],
          "scattermap": [
           {
            "marker": {
             "colorbar": {
              "outlinewidth": 0,
              "ticks": ""
             }
            },
            "type": "scattermap"
           }
          ],
          "scattermapbox": [
           {
            "marker": {
             "colorbar": {
              "outlinewidth": 0,
              "ticks": ""
             }
            },
            "type": "scattermapbox"
           }
          ],
          "scatterpolar": [
           {
            "marker": {
             "colorbar": {
              "outlinewidth": 0,
              "ticks": ""
             }
            },
            "type": "scatterpolar"
           }
          ],
          "scatterpolargl": [
           {
            "marker": {
             "colorbar": {
              "outlinewidth": 0,
              "ticks": ""
             }
            },
            "type": "scatterpolargl"
           }
          ],
          "scatterternary": [
           {
            "marker": {
             "colorbar": {
              "outlinewidth": 0,
              "ticks": ""
             }
            },
            "type": "scatterternary"
           }
          ],
          "surface": [
           {
            "colorbar": {
             "outlinewidth": 0,
             "ticks": ""
            },
            "colorscale": [
             [
              0,
              "#0d0887"
             ],
             [
              0.1111111111111111,
              "#46039f"
             ],
             [
              0.2222222222222222,
              "#7201a8"
             ],
             [
              0.3333333333333333,
              "#9c179e"
             ],
             [
              0.4444444444444444,
              "#bd3786"
             ],
             [
              0.5555555555555556,
              "#d8576b"
             ],
             [
              0.6666666666666666,
              "#ed7953"
             ],
             [
              0.7777777777777778,
              "#fb9f3a"
             ],
             [
              0.8888888888888888,
              "#fdca26"
             ],
             [
              1,
              "#f0f921"
             ]
            ],
            "type": "surface"
           }
          ],
          "table": [
           {
            "cells": {
             "fill": {
              "color": "#EBF0F8"
             },
             "line": {
              "color": "white"
             }
            },
            "header": {
             "fill": {
              "color": "#C8D4E3"
             },
             "line": {
              "color": "white"
             }
            },
            "type": "table"
           }
          ]
         },
         "layout": {
          "annotationdefaults": {
           "arrowcolor": "#2a3f5f",
           "arrowhead": 0,
           "arrowwidth": 1
          },
          "autotypenumbers": "strict",
          "coloraxis": {
           "colorbar": {
            "outlinewidth": 0,
            "ticks": ""
           }
          },
          "colorscale": {
           "diverging": [
            [
             0,
             "#8e0152"
            ],
            [
             0.1,
             "#c51b7d"
            ],
            [
             0.2,
             "#de77ae"
            ],
            [
             0.3,
             "#f1b6da"
            ],
            [
             0.4,
             "#fde0ef"
            ],
            [
             0.5,
             "#f7f7f7"
            ],
            [
             0.6,
             "#e6f5d0"
            ],
            [
             0.7,
             "#b8e186"
            ],
            [
             0.8,
             "#7fbc41"
            ],
            [
             0.9,
             "#4d9221"
            ],
            [
             1,
             "#276419"
            ]
           ],
           "sequential": [
            [
             0,
             "#0d0887"
            ],
            [
             0.1111111111111111,
             "#46039f"
            ],
            [
             0.2222222222222222,
             "#7201a8"
            ],
            [
             0.3333333333333333,
             "#9c179e"
            ],
            [
             0.4444444444444444,
             "#bd3786"
            ],
            [
             0.5555555555555556,
             "#d8576b"
            ],
            [
             0.6666666666666666,
             "#ed7953"
            ],
            [
             0.7777777777777778,
             "#fb9f3a"
            ],
            [
             0.8888888888888888,
             "#fdca26"
            ],
            [
             1,
             "#f0f921"
            ]
           ],
           "sequentialminus": [
            [
             0,
             "#0d0887"
            ],
            [
             0.1111111111111111,
             "#46039f"
            ],
            [
             0.2222222222222222,
             "#7201a8"
            ],
            [
             0.3333333333333333,
             "#9c179e"
            ],
            [
             0.4444444444444444,
             "#bd3786"
            ],
            [
             0.5555555555555556,
             "#d8576b"
            ],
            [
             0.6666666666666666,
             "#ed7953"
            ],
            [
             0.7777777777777778,
             "#fb9f3a"
            ],
            [
             0.8888888888888888,
             "#fdca26"
            ],
            [
             1,
             "#f0f921"
            ]
           ]
          },
          "colorway": [
           "#636efa",
           "#EF553B",
           "#00cc96",
           "#ab63fa",
           "#FFA15A",
           "#19d3f3",
           "#FF6692",
           "#B6E880",
           "#FF97FF",
           "#FECB52"
          ],
          "font": {
           "color": "#2a3f5f"
          },
          "geo": {
           "bgcolor": "white",
           "lakecolor": "white",
           "landcolor": "#E5ECF6",
           "showlakes": true,
           "showland": true,
           "subunitcolor": "white"
          },
          "hoverlabel": {
           "align": "left"
          },
          "hovermode": "closest",
          "mapbox": {
           "style": "light"
          },
          "paper_bgcolor": "white",
          "plot_bgcolor": "#E5ECF6",
          "polar": {
           "angularaxis": {
            "gridcolor": "white",
            "linecolor": "white",
            "ticks": ""
           },
           "bgcolor": "#E5ECF6",
           "radialaxis": {
            "gridcolor": "white",
            "linecolor": "white",
            "ticks": ""
           }
          },
          "scene": {
           "xaxis": {
            "backgroundcolor": "#E5ECF6",
            "gridcolor": "white",
            "gridwidth": 2,
            "linecolor": "white",
            "showbackground": true,
            "ticks": "",
            "zerolinecolor": "white"
           },
           "yaxis": {
            "backgroundcolor": "#E5ECF6",
            "gridcolor": "white",
            "gridwidth": 2,
            "linecolor": "white",
            "showbackground": true,
            "ticks": "",
            "zerolinecolor": "white"
           },
           "zaxis": {
            "backgroundcolor": "#E5ECF6",
            "gridcolor": "white",
            "gridwidth": 2,
            "linecolor": "white",
            "showbackground": true,
            "ticks": "",
            "zerolinecolor": "white"
           }
          },
          "shapedefaults": {
           "line": {
            "color": "#2a3f5f"
           }
          },
          "ternary": {
           "aaxis": {
            "gridcolor": "white",
            "linecolor": "white",
            "ticks": ""
           },
           "baxis": {
            "gridcolor": "white",
            "linecolor": "white",
            "ticks": ""
           },
           "bgcolor": "#E5ECF6",
           "caxis": {
            "gridcolor": "white",
            "linecolor": "white",
            "ticks": ""
           }
          },
          "title": {
           "x": 0.05
          },
          "xaxis": {
           "automargin": true,
           "gridcolor": "white",
           "linecolor": "white",
           "ticks": "",
           "title": {
            "standoff": 15
           },
           "zerolinecolor": "white",
           "zerolinewidth": 2
          },
          "yaxis": {
           "automargin": true,
           "gridcolor": "white",
           "linecolor": "white",
           "ticks": "",
           "title": {
            "standoff": 15
           },
           "zerolinecolor": "white",
           "zerolinewidth": 2
          }
         }
        }
       }
      }
     },
     "metadata": {},
     "output_type": "display_data"
    }
   ],
   "source": [
    "import plotly.graph_objects as go\n",
    "from datetime import datetime\n",
    "\n",
    "open_data = [33.0, 33.3, 33.5, 33.0, 34.1]\n",
    "high_data = [33.1, 33.3, 33.6, 33.2, 34.8]\n",
    "low_data = [32.7, 32.7, 32.8, 32.6, 32.8]\n",
    "close_data = [33.0, 32.9, 33.3, 33.1, 33.1]\n",
    "dates = [datetime(year=2013, month=10, day=10),\n",
    "         datetime(year=2013, month=11, day=10),\n",
    "         datetime(year=2013, month=12, day=10),\n",
    "         datetime(year=2014, month=1, day=10),\n",
    "         datetime(year=2014, month=2, day=10)]\n",
    "\n",
    "fig = go.Figure(data=[go.Candlestick(x=dates,\n",
    "                       open=open_data, high=high_data,\n",
    "                       low=low_data, close=close_data)])\n",
    "\n",
    "fig.show()"
   ]
  }
 ],
 "metadata": {
  "kernelspec": {
   "display_name": ".venv",
   "language": "python",
   "name": "python3"
  },
  "language_info": {
   "codemirror_mode": {
    "name": "ipython",
    "version": 3
   },
   "file_extension": ".py",
   "mimetype": "text/x-python",
   "name": "python",
   "nbconvert_exporter": "python",
   "pygments_lexer": "ipython3",
   "version": "3.12.7"
  }
 },
 "nbformat": 4,
 "nbformat_minor": 2
}
